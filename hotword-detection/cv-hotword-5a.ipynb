{
 "cells": [
  {
   "cell_type": "markdown",
   "id": "60e95d36-40a3-4ee4-ac8f-9707cbaa3684",
   "metadata": {},
   "source": [
    "# Task 5a\n",
    "## Requirements:"
   ]
  },
  {
   "cell_type": "markdown",
   "id": "2819965c-8766-4628-96aa-2d5bef4384db",
   "metadata": {},
   "source": [
    "Using the transcribed results from cv-valid-dev mp3 dataset using your\n",
    "finetuned model in task 4, the hot words to be detected are: “be\n",
    "careful”, “destroy” and “stranger”. Save the list of mp3 filenames\n",
    "with the hot words detected into detected.txt. Write a python jupyter\n",
    "notebook called cv-hotword-5a.ipynb for this task."
   ]
  },
  {
   "cell_type": "code",
   "execution_count": 1,
   "id": "408de661-a09b-48b6-aa4e-b231ee01634f",
   "metadata": {},
   "outputs": [],
   "source": [
    "import pandas as pd\n",
    "import csv"
   ]
  },
  {
   "cell_type": "code",
   "execution_count": 2,
   "id": "01bb3b5c-eaeb-4bf0-a1c2-ae837f3d4f05",
   "metadata": {},
   "outputs": [],
   "source": [
    "# Load text from csv\n",
    "csv_filename = \"cv-valid-dev-asr.csv\"\n",
    "df = pd.read_csv(csv_filename)\n",
    "text_list = df['generated_text'].tolist()\n",
    "file_list = df['file_name'].tolist()"
   ]
  },
  {
   "cell_type": "code",
   "execution_count": 3,
   "id": "c61c29be-cb63-400c-949d-d5b050fb743b",
   "metadata": {},
   "outputs": [],
   "source": [
    "hotwords = ['be careful', 'destroy', 'stranger']"
   ]
  },
  {
   "cell_type": "code",
   "execution_count": 4,
   "id": "66f4533b-0acd-4198-96a1-73f7cc35f2f0",
   "metadata": {},
   "outputs": [],
   "source": [
    "def detect_hotword(text, hotword):\n",
    "    \"\"\" Check if the hotword appears in the input text\n",
    "    \"\"\"\n",
    "    if type(text) != str:\n",
    "        return False\n",
    "   \n",
    "    # Split input text to a list of words\n",
    "    words = text.lower().split()\n",
    "\n",
    "    # Prepare a candidates list from input text\n",
    "    hot_len = len(hotword.split())\n",
    "\n",
    "    if hot_len == 1:\n",
    "        candidates = words\n",
    "    else:\n",
    "        # For hotword containing multi-words\n",
    "        candidates = [' '.join(words[i:i+hot_len]) for i in range(len(words)-hot_len+1)]\n",
    "\n",
    "    return hotword in candidates  "
   ]
  },
  {
   "cell_type": "code",
   "execution_count": 5,
   "id": "3296d919-2e1e-4f53-b228-599d7e82dcf8",
   "metadata": {},
   "outputs": [
    {
     "name": "stdout",
     "output_type": "stream",
     "text": [
      "(0)\tcv-valid-dev/sample-000000.mp3\tbe careful with your prognostications said the stranger\n",
      "(89)\tcv-valid-dev/sample-000089.mp3\tthe stranger seemed satisfied with the answer\n",
      "(508)\tcv-valid-dev/sample-000508.mp3\ti hand to test your courage the stranger said\n",
      "(674)\tcv-valid-dev/sample-000674.mp3\ti had to test your courage the stranger said\n",
      "(1093)\tcv-valid-dev/sample-001093.mp3\tbe careful with your proognostications said the stranger\n",
      "(1101)\tcv-valid-dev/sample-001101.mp3\tthe stranger was speaking of things that very few people knew about\n",
      "(1243)\tcv-valid-dev/sample-001243.mp3\tthe stranger was speaking of things that very few people knew about\n",
      "(1501)\tcv-valid-dev/sample-001501.mp3\ti had to test your courage the stranger said\n",
      "(1933)\tcv-valid-dev/sample-001933.mp3\tthe stranger seemed satisfied with the answer\n",
      "(3065)\tcv-valid-dev/sample-003065.mp3\tthe stranger withdrew the sword from th boy's forehead and the boy felt immensely relieved\n",
      "(3219)\tcv-valid-dev/sample-003219.mp3\ti head to test your courage the stranger said\n",
      "(3808)\tcv-valid-dev/sample-003808.mp3\ti had to test your courage the stranger said\n"
     ]
    }
   ],
   "source": [
    "# Iterate over the text list to detect hotwords\n",
    "detected_files = []\n",
    "\n",
    "for n in range(len(text_list)):\n",
    "    text = text_list[n]\n",
    "\n",
    "    # Check if hotwords appear in the text\n",
    "    hotword_detected = False\n",
    "    for hotword in hotwords:\n",
    "        if detect_hotword(text, hotword):\n",
    "            hotword_detected = True\n",
    "            break\n",
    "\n",
    "    if hotword_detected:\n",
    "        detected_files.append(file_list[n])\n",
    "        print(f\"({n})\\t{file_list[n]}\\t{text}\")"
   ]
  },
  {
   "cell_type": "code",
   "execution_count": 6,
   "id": "5b0b0dfc-920e-4f2b-ad6c-8d82c50a1cee",
   "metadata": {},
   "outputs": [
    {
     "name": "stdout",
     "output_type": "stream",
     "text": [
      "Saved to detected.txt\n"
     ]
    }
   ],
   "source": [
    "# Save results\n",
    "output_filename = \"detected.txt\"\n",
    "\n",
    "with open(output_filename, 'w') as file:\n",
    "    for line in detected_files:\n",
    "        file.write(line + '\\n')\n",
    "\n",
    "print(f\"Saved to {output_filename}\")"
   ]
  },
  {
   "cell_type": "code",
   "execution_count": null,
   "id": "57d93fa3-b977-45f4-b91f-11bf2b2299d9",
   "metadata": {},
   "outputs": [],
   "source": []
  }
 ],
 "metadata": {
  "kernelspec": {
   "display_name": "Python 3 (ipykernel)",
   "language": "python",
   "name": "python3"
  },
  "language_info": {
   "codemirror_mode": {
    "name": "ipython",
    "version": 3
   },
   "file_extension": ".py",
   "mimetype": "text/x-python",
   "name": "python",
   "nbconvert_exporter": "python",
   "pygments_lexer": "ipython3",
   "version": "3.9.6"
  }
 },
 "nbformat": 4,
 "nbformat_minor": 5
}
