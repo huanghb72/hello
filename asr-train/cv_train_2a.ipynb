{
  "nbformat": 4,
  "nbformat_minor": 0,
  "metadata": {
    "colab": {
      "provenance": [],
      "machine_shape": "hm",
      "gpuType": "L4"
    },
    "kernelspec": {
      "name": "python3",
      "display_name": "Python 3"
    },
    "language_info": {
      "name": "python"
    },
    "accelerator": "GPU",
    "widgets": {
      "application/vnd.jupyter.widget-state+json": {
        "fab63252d3c74202b5cdb41f6f6ae9c5": {
          "model_module": "@jupyter-widgets/controls",
          "model_name": "VBoxModel",
          "model_module_version": "1.5.0",
          "state": {
            "_dom_classes": [],
            "_model_module": "@jupyter-widgets/controls",
            "_model_module_version": "1.5.0",
            "_model_name": "VBoxModel",
            "_view_count": null,
            "_view_module": "@jupyter-widgets/controls",
            "_view_module_version": "1.5.0",
            "_view_name": "VBoxView",
            "box_style": "",
            "children": [
              "IPY_MODEL_f2f21f33bcbe428b846b537662ed1865",
              "IPY_MODEL_d668fda45c574599bf12374597e68821",
              "IPY_MODEL_e3e162aed75b40d1a2c4d001160057ab",
              "IPY_MODEL_11b61fb2adf5467290dc7049fbd9bc6b"
            ],
            "layout": "IPY_MODEL_291c82210b8e4c4eb3b6a97a60b8a785"
          }
        },
        "7d3463019ded40ee93f38809396e2da7": {
          "model_module": "@jupyter-widgets/controls",
          "model_name": "HTMLModel",
          "model_module_version": "1.5.0",
          "state": {
            "_dom_classes": [],
            "_model_module": "@jupyter-widgets/controls",
            "_model_module_version": "1.5.0",
            "_model_name": "HTMLModel",
            "_view_count": null,
            "_view_module": "@jupyter-widgets/controls",
            "_view_module_version": "1.5.0",
            "_view_name": "HTMLView",
            "description": "",
            "description_tooltip": null,
            "layout": "IPY_MODEL_65f1b1e8d2d443afbe8dce6755c6e718",
            "placeholder": "​",
            "style": "IPY_MODEL_47d80725267441a0aa996822e82c37ea",
            "value": "<center> <img\nsrc=https://huggingface.co/front/assets/huggingface_logo-noborder.svg\nalt='Hugging Face'> <br> Copy a token from <a\nhref=\"https://huggingface.co/settings/tokens\" target=\"_blank\">your Hugging Face\ntokens page</a> and paste it below. <br> Immediately click login after copying\nyour token or it might be stored in plain text in this notebook file. </center>"
          }
        },
        "16bebc8393c74a7d9ea24e41ab980057": {
          "model_module": "@jupyter-widgets/controls",
          "model_name": "PasswordModel",
          "model_module_version": "1.5.0",
          "state": {
            "_dom_classes": [],
            "_model_module": "@jupyter-widgets/controls",
            "_model_module_version": "1.5.0",
            "_model_name": "PasswordModel",
            "_view_count": null,
            "_view_module": "@jupyter-widgets/controls",
            "_view_module_version": "1.5.0",
            "_view_name": "PasswordView",
            "continuous_update": true,
            "description": "Token:",
            "description_tooltip": null,
            "disabled": false,
            "layout": "IPY_MODEL_0a658a6128d845b5a05d880eb075f4d9",
            "placeholder": "​",
            "style": "IPY_MODEL_0c9bb3f9cda747839e2966b3c698e54e",
            "value": ""
          }
        },
        "99bccf26411840e4878b5824d2fa1e8c": {
          "model_module": "@jupyter-widgets/controls",
          "model_name": "CheckboxModel",
          "model_module_version": "1.5.0",
          "state": {
            "_dom_classes": [],
            "_model_module": "@jupyter-widgets/controls",
            "_model_module_version": "1.5.0",
            "_model_name": "CheckboxModel",
            "_view_count": null,
            "_view_module": "@jupyter-widgets/controls",
            "_view_module_version": "1.5.0",
            "_view_name": "CheckboxView",
            "description": "Add token as git credential?",
            "description_tooltip": null,
            "disabled": false,
            "indent": true,
            "layout": "IPY_MODEL_9b065f0838504f41ace383c62cf6fdb5",
            "style": "IPY_MODEL_1884a92e40c646099b95a7a31afa75a9",
            "value": true
          }
        },
        "ede4e42d066b49dd923f2092cc9b2a7c": {
          "model_module": "@jupyter-widgets/controls",
          "model_name": "ButtonModel",
          "model_module_version": "1.5.0",
          "state": {
            "_dom_classes": [],
            "_model_module": "@jupyter-widgets/controls",
            "_model_module_version": "1.5.0",
            "_model_name": "ButtonModel",
            "_view_count": null,
            "_view_module": "@jupyter-widgets/controls",
            "_view_module_version": "1.5.0",
            "_view_name": "ButtonView",
            "button_style": "",
            "description": "Login",
            "disabled": false,
            "icon": "",
            "layout": "IPY_MODEL_305da91678214f13b73e52550d0cfc1e",
            "style": "IPY_MODEL_f116a78f1931496881d0129bf2218bed",
            "tooltip": ""
          }
        },
        "8942d362fb23469da907d79f6ac77529": {
          "model_module": "@jupyter-widgets/controls",
          "model_name": "HTMLModel",
          "model_module_version": "1.5.0",
          "state": {
            "_dom_classes": [],
            "_model_module": "@jupyter-widgets/controls",
            "_model_module_version": "1.5.0",
            "_model_name": "HTMLModel",
            "_view_count": null,
            "_view_module": "@jupyter-widgets/controls",
            "_view_module_version": "1.5.0",
            "_view_name": "HTMLView",
            "description": "",
            "description_tooltip": null,
            "layout": "IPY_MODEL_c996a0bbf2b74ae0b6ee819cec4a3b56",
            "placeholder": "​",
            "style": "IPY_MODEL_09ad69bfccd443a396661488bb8b102b",
            "value": "\n<b>Pro Tip:</b> If you don't already have one, you can create a dedicated\n'notebooks' token with 'write' access, that you can then easily reuse for all\nnotebooks. </center>"
          }
        },
        "291c82210b8e4c4eb3b6a97a60b8a785": {
          "model_module": "@jupyter-widgets/base",
          "model_name": "LayoutModel",
          "model_module_version": "1.2.0",
          "state": {
            "_model_module": "@jupyter-widgets/base",
            "_model_module_version": "1.2.0",
            "_model_name": "LayoutModel",
            "_view_count": null,
            "_view_module": "@jupyter-widgets/base",
            "_view_module_version": "1.2.0",
            "_view_name": "LayoutView",
            "align_content": null,
            "align_items": "center",
            "align_self": null,
            "border": null,
            "bottom": null,
            "display": "flex",
            "flex": null,
            "flex_flow": "column",
            "grid_area": null,
            "grid_auto_columns": null,
            "grid_auto_flow": null,
            "grid_auto_rows": null,
            "grid_column": null,
            "grid_gap": null,
            "grid_row": null,
            "grid_template_areas": null,
            "grid_template_columns": null,
            "grid_template_rows": null,
            "height": null,
            "justify_content": null,
            "justify_items": null,
            "left": null,
            "margin": null,
            "max_height": null,
            "max_width": null,
            "min_height": null,
            "min_width": null,
            "object_fit": null,
            "object_position": null,
            "order": null,
            "overflow": null,
            "overflow_x": null,
            "overflow_y": null,
            "padding": null,
            "right": null,
            "top": null,
            "visibility": null,
            "width": "50%"
          }
        },
        "65f1b1e8d2d443afbe8dce6755c6e718": {
          "model_module": "@jupyter-widgets/base",
          "model_name": "LayoutModel",
          "model_module_version": "1.2.0",
          "state": {
            "_model_module": "@jupyter-widgets/base",
            "_model_module_version": "1.2.0",
            "_model_name": "LayoutModel",
            "_view_count": null,
            "_view_module": "@jupyter-widgets/base",
            "_view_module_version": "1.2.0",
            "_view_name": "LayoutView",
            "align_content": null,
            "align_items": null,
            "align_self": null,
            "border": null,
            "bottom": null,
            "display": null,
            "flex": null,
            "flex_flow": null,
            "grid_area": null,
            "grid_auto_columns": null,
            "grid_auto_flow": null,
            "grid_auto_rows": null,
            "grid_column": null,
            "grid_gap": null,
            "grid_row": null,
            "grid_template_areas": null,
            "grid_template_columns": null,
            "grid_template_rows": null,
            "height": null,
            "justify_content": null,
            "justify_items": null,
            "left": null,
            "margin": null,
            "max_height": null,
            "max_width": null,
            "min_height": null,
            "min_width": null,
            "object_fit": null,
            "object_position": null,
            "order": null,
            "overflow": null,
            "overflow_x": null,
            "overflow_y": null,
            "padding": null,
            "right": null,
            "top": null,
            "visibility": null,
            "width": null
          }
        },
        "47d80725267441a0aa996822e82c37ea": {
          "model_module": "@jupyter-widgets/controls",
          "model_name": "DescriptionStyleModel",
          "model_module_version": "1.5.0",
          "state": {
            "_model_module": "@jupyter-widgets/controls",
            "_model_module_version": "1.5.0",
            "_model_name": "DescriptionStyleModel",
            "_view_count": null,
            "_view_module": "@jupyter-widgets/base",
            "_view_module_version": "1.2.0",
            "_view_name": "StyleView",
            "description_width": ""
          }
        },
        "0a658a6128d845b5a05d880eb075f4d9": {
          "model_module": "@jupyter-widgets/base",
          "model_name": "LayoutModel",
          "model_module_version": "1.2.0",
          "state": {
            "_model_module": "@jupyter-widgets/base",
            "_model_module_version": "1.2.0",
            "_model_name": "LayoutModel",
            "_view_count": null,
            "_view_module": "@jupyter-widgets/base",
            "_view_module_version": "1.2.0",
            "_view_name": "LayoutView",
            "align_content": null,
            "align_items": null,
            "align_self": null,
            "border": null,
            "bottom": null,
            "display": null,
            "flex": null,
            "flex_flow": null,
            "grid_area": null,
            "grid_auto_columns": null,
            "grid_auto_flow": null,
            "grid_auto_rows": null,
            "grid_column": null,
            "grid_gap": null,
            "grid_row": null,
            "grid_template_areas": null,
            "grid_template_columns": null,
            "grid_template_rows": null,
            "height": null,
            "justify_content": null,
            "justify_items": null,
            "left": null,
            "margin": null,
            "max_height": null,
            "max_width": null,
            "min_height": null,
            "min_width": null,
            "object_fit": null,
            "object_position": null,
            "order": null,
            "overflow": null,
            "overflow_x": null,
            "overflow_y": null,
            "padding": null,
            "right": null,
            "top": null,
            "visibility": null,
            "width": null
          }
        },
        "0c9bb3f9cda747839e2966b3c698e54e": {
          "model_module": "@jupyter-widgets/controls",
          "model_name": "DescriptionStyleModel",
          "model_module_version": "1.5.0",
          "state": {
            "_model_module": "@jupyter-widgets/controls",
            "_model_module_version": "1.5.0",
            "_model_name": "DescriptionStyleModel",
            "_view_count": null,
            "_view_module": "@jupyter-widgets/base",
            "_view_module_version": "1.2.0",
            "_view_name": "StyleView",
            "description_width": ""
          }
        },
        "9b065f0838504f41ace383c62cf6fdb5": {
          "model_module": "@jupyter-widgets/base",
          "model_name": "LayoutModel",
          "model_module_version": "1.2.0",
          "state": {
            "_model_module": "@jupyter-widgets/base",
            "_model_module_version": "1.2.0",
            "_model_name": "LayoutModel",
            "_view_count": null,
            "_view_module": "@jupyter-widgets/base",
            "_view_module_version": "1.2.0",
            "_view_name": "LayoutView",
            "align_content": null,
            "align_items": null,
            "align_self": null,
            "border": null,
            "bottom": null,
            "display": null,
            "flex": null,
            "flex_flow": null,
            "grid_area": null,
            "grid_auto_columns": null,
            "grid_auto_flow": null,
            "grid_auto_rows": null,
            "grid_column": null,
            "grid_gap": null,
            "grid_row": null,
            "grid_template_areas": null,
            "grid_template_columns": null,
            "grid_template_rows": null,
            "height": null,
            "justify_content": null,
            "justify_items": null,
            "left": null,
            "margin": null,
            "max_height": null,
            "max_width": null,
            "min_height": null,
            "min_width": null,
            "object_fit": null,
            "object_position": null,
            "order": null,
            "overflow": null,
            "overflow_x": null,
            "overflow_y": null,
            "padding": null,
            "right": null,
            "top": null,
            "visibility": null,
            "width": null
          }
        },
        "1884a92e40c646099b95a7a31afa75a9": {
          "model_module": "@jupyter-widgets/controls",
          "model_name": "DescriptionStyleModel",
          "model_module_version": "1.5.0",
          "state": {
            "_model_module": "@jupyter-widgets/controls",
            "_model_module_version": "1.5.0",
            "_model_name": "DescriptionStyleModel",
            "_view_count": null,
            "_view_module": "@jupyter-widgets/base",
            "_view_module_version": "1.2.0",
            "_view_name": "StyleView",
            "description_width": ""
          }
        },
        "305da91678214f13b73e52550d0cfc1e": {
          "model_module": "@jupyter-widgets/base",
          "model_name": "LayoutModel",
          "model_module_version": "1.2.0",
          "state": {
            "_model_module": "@jupyter-widgets/base",
            "_model_module_version": "1.2.0",
            "_model_name": "LayoutModel",
            "_view_count": null,
            "_view_module": "@jupyter-widgets/base",
            "_view_module_version": "1.2.0",
            "_view_name": "LayoutView",
            "align_content": null,
            "align_items": null,
            "align_self": null,
            "border": null,
            "bottom": null,
            "display": null,
            "flex": null,
            "flex_flow": null,
            "grid_area": null,
            "grid_auto_columns": null,
            "grid_auto_flow": null,
            "grid_auto_rows": null,
            "grid_column": null,
            "grid_gap": null,
            "grid_row": null,
            "grid_template_areas": null,
            "grid_template_columns": null,
            "grid_template_rows": null,
            "height": null,
            "justify_content": null,
            "justify_items": null,
            "left": null,
            "margin": null,
            "max_height": null,
            "max_width": null,
            "min_height": null,
            "min_width": null,
            "object_fit": null,
            "object_position": null,
            "order": null,
            "overflow": null,
            "overflow_x": null,
            "overflow_y": null,
            "padding": null,
            "right": null,
            "top": null,
            "visibility": null,
            "width": null
          }
        },
        "f116a78f1931496881d0129bf2218bed": {
          "model_module": "@jupyter-widgets/controls",
          "model_name": "ButtonStyleModel",
          "model_module_version": "1.5.0",
          "state": {
            "_model_module": "@jupyter-widgets/controls",
            "_model_module_version": "1.5.0",
            "_model_name": "ButtonStyleModel",
            "_view_count": null,
            "_view_module": "@jupyter-widgets/base",
            "_view_module_version": "1.2.0",
            "_view_name": "StyleView",
            "button_color": null,
            "font_weight": ""
          }
        },
        "c996a0bbf2b74ae0b6ee819cec4a3b56": {
          "model_module": "@jupyter-widgets/base",
          "model_name": "LayoutModel",
          "model_module_version": "1.2.0",
          "state": {
            "_model_module": "@jupyter-widgets/base",
            "_model_module_version": "1.2.0",
            "_model_name": "LayoutModel",
            "_view_count": null,
            "_view_module": "@jupyter-widgets/base",
            "_view_module_version": "1.2.0",
            "_view_name": "LayoutView",
            "align_content": null,
            "align_items": null,
            "align_self": null,
            "border": null,
            "bottom": null,
            "display": null,
            "flex": null,
            "flex_flow": null,
            "grid_area": null,
            "grid_auto_columns": null,
            "grid_auto_flow": null,
            "grid_auto_rows": null,
            "grid_column": null,
            "grid_gap": null,
            "grid_row": null,
            "grid_template_areas": null,
            "grid_template_columns": null,
            "grid_template_rows": null,
            "height": null,
            "justify_content": null,
            "justify_items": null,
            "left": null,
            "margin": null,
            "max_height": null,
            "max_width": null,
            "min_height": null,
            "min_width": null,
            "object_fit": null,
            "object_position": null,
            "order": null,
            "overflow": null,
            "overflow_x": null,
            "overflow_y": null,
            "padding": null,
            "right": null,
            "top": null,
            "visibility": null,
            "width": null
          }
        },
        "09ad69bfccd443a396661488bb8b102b": {
          "model_module": "@jupyter-widgets/controls",
          "model_name": "DescriptionStyleModel",
          "model_module_version": "1.5.0",
          "state": {
            "_model_module": "@jupyter-widgets/controls",
            "_model_module_version": "1.5.0",
            "_model_name": "DescriptionStyleModel",
            "_view_count": null,
            "_view_module": "@jupyter-widgets/base",
            "_view_module_version": "1.2.0",
            "_view_name": "StyleView",
            "description_width": ""
          }
        },
        "a23f42147cf744d0aee8504148525c8e": {
          "model_module": "@jupyter-widgets/controls",
          "model_name": "LabelModel",
          "model_module_version": "1.5.0",
          "state": {
            "_dom_classes": [],
            "_model_module": "@jupyter-widgets/controls",
            "_model_module_version": "1.5.0",
            "_model_name": "LabelModel",
            "_view_count": null,
            "_view_module": "@jupyter-widgets/controls",
            "_view_module_version": "1.5.0",
            "_view_name": "LabelView",
            "description": "",
            "description_tooltip": null,
            "layout": "IPY_MODEL_0e7e3456c422492dbc6f3c3955a71be5",
            "placeholder": "​",
            "style": "IPY_MODEL_93a3017e5f274bb59819705bede558ca",
            "value": "Connecting..."
          }
        },
        "0e7e3456c422492dbc6f3c3955a71be5": {
          "model_module": "@jupyter-widgets/base",
          "model_name": "LayoutModel",
          "model_module_version": "1.2.0",
          "state": {
            "_model_module": "@jupyter-widgets/base",
            "_model_module_version": "1.2.0",
            "_model_name": "LayoutModel",
            "_view_count": null,
            "_view_module": "@jupyter-widgets/base",
            "_view_module_version": "1.2.0",
            "_view_name": "LayoutView",
            "align_content": null,
            "align_items": null,
            "align_self": null,
            "border": null,
            "bottom": null,
            "display": null,
            "flex": null,
            "flex_flow": null,
            "grid_area": null,
            "grid_auto_columns": null,
            "grid_auto_flow": null,
            "grid_auto_rows": null,
            "grid_column": null,
            "grid_gap": null,
            "grid_row": null,
            "grid_template_areas": null,
            "grid_template_columns": null,
            "grid_template_rows": null,
            "height": null,
            "justify_content": null,
            "justify_items": null,
            "left": null,
            "margin": null,
            "max_height": null,
            "max_width": null,
            "min_height": null,
            "min_width": null,
            "object_fit": null,
            "object_position": null,
            "order": null,
            "overflow": null,
            "overflow_x": null,
            "overflow_y": null,
            "padding": null,
            "right": null,
            "top": null,
            "visibility": null,
            "width": null
          }
        },
        "93a3017e5f274bb59819705bede558ca": {
          "model_module": "@jupyter-widgets/controls",
          "model_name": "DescriptionStyleModel",
          "model_module_version": "1.5.0",
          "state": {
            "_model_module": "@jupyter-widgets/controls",
            "_model_module_version": "1.5.0",
            "_model_name": "DescriptionStyleModel",
            "_view_count": null,
            "_view_module": "@jupyter-widgets/base",
            "_view_module_version": "1.2.0",
            "_view_name": "StyleView",
            "description_width": ""
          }
        },
        "f2f21f33bcbe428b846b537662ed1865": {
          "model_module": "@jupyter-widgets/controls",
          "model_name": "LabelModel",
          "model_module_version": "1.5.0",
          "state": {
            "_dom_classes": [],
            "_model_module": "@jupyter-widgets/controls",
            "_model_module_version": "1.5.0",
            "_model_name": "LabelModel",
            "_view_count": null,
            "_view_module": "@jupyter-widgets/controls",
            "_view_module_version": "1.5.0",
            "_view_name": "LabelView",
            "description": "",
            "description_tooltip": null,
            "layout": "IPY_MODEL_3fe71407b7444687a9aef3778868621d",
            "placeholder": "​",
            "style": "IPY_MODEL_06eec8232dfb40e296b235400fe40c2e",
            "value": "Token is valid (permission: write)."
          }
        },
        "d668fda45c574599bf12374597e68821": {
          "model_module": "@jupyter-widgets/controls",
          "model_name": "LabelModel",
          "model_module_version": "1.5.0",
          "state": {
            "_dom_classes": [],
            "_model_module": "@jupyter-widgets/controls",
            "_model_module_version": "1.5.0",
            "_model_name": "LabelModel",
            "_view_count": null,
            "_view_module": "@jupyter-widgets/controls",
            "_view_module_version": "1.5.0",
            "_view_name": "LabelView",
            "description": "",
            "description_tooltip": null,
            "layout": "IPY_MODEL_dab74f3179604e93a1bdee71142f75ec",
            "placeholder": "​",
            "style": "IPY_MODEL_c60079368fdb4dedb3652dbd7e9dc439",
            "value": "Your token has been saved in your configured git credential helpers (store)."
          }
        },
        "e3e162aed75b40d1a2c4d001160057ab": {
          "model_module": "@jupyter-widgets/controls",
          "model_name": "LabelModel",
          "model_module_version": "1.5.0",
          "state": {
            "_dom_classes": [],
            "_model_module": "@jupyter-widgets/controls",
            "_model_module_version": "1.5.0",
            "_model_name": "LabelModel",
            "_view_count": null,
            "_view_module": "@jupyter-widgets/controls",
            "_view_module_version": "1.5.0",
            "_view_name": "LabelView",
            "description": "",
            "description_tooltip": null,
            "layout": "IPY_MODEL_d315906dfd5f405aa33fec7321ae3544",
            "placeholder": "​",
            "style": "IPY_MODEL_cc8f8f6b40c84ae1be3c240fbe1c788f",
            "value": "Your token has been saved to /root/.cache/huggingface/token"
          }
        },
        "11b61fb2adf5467290dc7049fbd9bc6b": {
          "model_module": "@jupyter-widgets/controls",
          "model_name": "LabelModel",
          "model_module_version": "1.5.0",
          "state": {
            "_dom_classes": [],
            "_model_module": "@jupyter-widgets/controls",
            "_model_module_version": "1.5.0",
            "_model_name": "LabelModel",
            "_view_count": null,
            "_view_module": "@jupyter-widgets/controls",
            "_view_module_version": "1.5.0",
            "_view_name": "LabelView",
            "description": "",
            "description_tooltip": null,
            "layout": "IPY_MODEL_e5055653fc9d4d009e19fb75d0e70091",
            "placeholder": "​",
            "style": "IPY_MODEL_2339e7bea2094f5a9249743de7d5fcba",
            "value": "Login successful"
          }
        },
        "3fe71407b7444687a9aef3778868621d": {
          "model_module": "@jupyter-widgets/base",
          "model_name": "LayoutModel",
          "model_module_version": "1.2.0",
          "state": {
            "_model_module": "@jupyter-widgets/base",
            "_model_module_version": "1.2.0",
            "_model_name": "LayoutModel",
            "_view_count": null,
            "_view_module": "@jupyter-widgets/base",
            "_view_module_version": "1.2.0",
            "_view_name": "LayoutView",
            "align_content": null,
            "align_items": null,
            "align_self": null,
            "border": null,
            "bottom": null,
            "display": null,
            "flex": null,
            "flex_flow": null,
            "grid_area": null,
            "grid_auto_columns": null,
            "grid_auto_flow": null,
            "grid_auto_rows": null,
            "grid_column": null,
            "grid_gap": null,
            "grid_row": null,
            "grid_template_areas": null,
            "grid_template_columns": null,
            "grid_template_rows": null,
            "height": null,
            "justify_content": null,
            "justify_items": null,
            "left": null,
            "margin": null,
            "max_height": null,
            "max_width": null,
            "min_height": null,
            "min_width": null,
            "object_fit": null,
            "object_position": null,
            "order": null,
            "overflow": null,
            "overflow_x": null,
            "overflow_y": null,
            "padding": null,
            "right": null,
            "top": null,
            "visibility": null,
            "width": null
          }
        },
        "06eec8232dfb40e296b235400fe40c2e": {
          "model_module": "@jupyter-widgets/controls",
          "model_name": "DescriptionStyleModel",
          "model_module_version": "1.5.0",
          "state": {
            "_model_module": "@jupyter-widgets/controls",
            "_model_module_version": "1.5.0",
            "_model_name": "DescriptionStyleModel",
            "_view_count": null,
            "_view_module": "@jupyter-widgets/base",
            "_view_module_version": "1.2.0",
            "_view_name": "StyleView",
            "description_width": ""
          }
        },
        "dab74f3179604e93a1bdee71142f75ec": {
          "model_module": "@jupyter-widgets/base",
          "model_name": "LayoutModel",
          "model_module_version": "1.2.0",
          "state": {
            "_model_module": "@jupyter-widgets/base",
            "_model_module_version": "1.2.0",
            "_model_name": "LayoutModel",
            "_view_count": null,
            "_view_module": "@jupyter-widgets/base",
            "_view_module_version": "1.2.0",
            "_view_name": "LayoutView",
            "align_content": null,
            "align_items": null,
            "align_self": null,
            "border": null,
            "bottom": null,
            "display": null,
            "flex": null,
            "flex_flow": null,
            "grid_area": null,
            "grid_auto_columns": null,
            "grid_auto_flow": null,
            "grid_auto_rows": null,
            "grid_column": null,
            "grid_gap": null,
            "grid_row": null,
            "grid_template_areas": null,
            "grid_template_columns": null,
            "grid_template_rows": null,
            "height": null,
            "justify_content": null,
            "justify_items": null,
            "left": null,
            "margin": null,
            "max_height": null,
            "max_width": null,
            "min_height": null,
            "min_width": null,
            "object_fit": null,
            "object_position": null,
            "order": null,
            "overflow": null,
            "overflow_x": null,
            "overflow_y": null,
            "padding": null,
            "right": null,
            "top": null,
            "visibility": null,
            "width": null
          }
        },
        "c60079368fdb4dedb3652dbd7e9dc439": {
          "model_module": "@jupyter-widgets/controls",
          "model_name": "DescriptionStyleModel",
          "model_module_version": "1.5.0",
          "state": {
            "_model_module": "@jupyter-widgets/controls",
            "_model_module_version": "1.5.0",
            "_model_name": "DescriptionStyleModel",
            "_view_count": null,
            "_view_module": "@jupyter-widgets/base",
            "_view_module_version": "1.2.0",
            "_view_name": "StyleView",
            "description_width": ""
          }
        },
        "d315906dfd5f405aa33fec7321ae3544": {
          "model_module": "@jupyter-widgets/base",
          "model_name": "LayoutModel",
          "model_module_version": "1.2.0",
          "state": {
            "_model_module": "@jupyter-widgets/base",
            "_model_module_version": "1.2.0",
            "_model_name": "LayoutModel",
            "_view_count": null,
            "_view_module": "@jupyter-widgets/base",
            "_view_module_version": "1.2.0",
            "_view_name": "LayoutView",
            "align_content": null,
            "align_items": null,
            "align_self": null,
            "border": null,
            "bottom": null,
            "display": null,
            "flex": null,
            "flex_flow": null,
            "grid_area": null,
            "grid_auto_columns": null,
            "grid_auto_flow": null,
            "grid_auto_rows": null,
            "grid_column": null,
            "grid_gap": null,
            "grid_row": null,
            "grid_template_areas": null,
            "grid_template_columns": null,
            "grid_template_rows": null,
            "height": null,
            "justify_content": null,
            "justify_items": null,
            "left": null,
            "margin": null,
            "max_height": null,
            "max_width": null,
            "min_height": null,
            "min_width": null,
            "object_fit": null,
            "object_position": null,
            "order": null,
            "overflow": null,
            "overflow_x": null,
            "overflow_y": null,
            "padding": null,
            "right": null,
            "top": null,
            "visibility": null,
            "width": null
          }
        },
        "cc8f8f6b40c84ae1be3c240fbe1c788f": {
          "model_module": "@jupyter-widgets/controls",
          "model_name": "DescriptionStyleModel",
          "model_module_version": "1.5.0",
          "state": {
            "_model_module": "@jupyter-widgets/controls",
            "_model_module_version": "1.5.0",
            "_model_name": "DescriptionStyleModel",
            "_view_count": null,
            "_view_module": "@jupyter-widgets/base",
            "_view_module_version": "1.2.0",
            "_view_name": "StyleView",
            "description_width": ""
          }
        },
        "e5055653fc9d4d009e19fb75d0e70091": {
          "model_module": "@jupyter-widgets/base",
          "model_name": "LayoutModel",
          "model_module_version": "1.2.0",
          "state": {
            "_model_module": "@jupyter-widgets/base",
            "_model_module_version": "1.2.0",
            "_model_name": "LayoutModel",
            "_view_count": null,
            "_view_module": "@jupyter-widgets/base",
            "_view_module_version": "1.2.0",
            "_view_name": "LayoutView",
            "align_content": null,
            "align_items": null,
            "align_self": null,
            "border": null,
            "bottom": null,
            "display": null,
            "flex": null,
            "flex_flow": null,
            "grid_area": null,
            "grid_auto_columns": null,
            "grid_auto_flow": null,
            "grid_auto_rows": null,
            "grid_column": null,
            "grid_gap": null,
            "grid_row": null,
            "grid_template_areas": null,
            "grid_template_columns": null,
            "grid_template_rows": null,
            "height": null,
            "justify_content": null,
            "justify_items": null,
            "left": null,
            "margin": null,
            "max_height": null,
            "max_width": null,
            "min_height": null,
            "min_width": null,
            "object_fit": null,
            "object_position": null,
            "order": null,
            "overflow": null,
            "overflow_x": null,
            "overflow_y": null,
            "padding": null,
            "right": null,
            "top": null,
            "visibility": null,
            "width": null
          }
        },
        "2339e7bea2094f5a9249743de7d5fcba": {
          "model_module": "@jupyter-widgets/controls",
          "model_name": "DescriptionStyleModel",
          "model_module_version": "1.5.0",
          "state": {
            "_model_module": "@jupyter-widgets/controls",
            "_model_module_version": "1.5.0",
            "_model_name": "DescriptionStyleModel",
            "_view_count": null,
            "_view_module": "@jupyter-widgets/base",
            "_view_module_version": "1.2.0",
            "_view_name": "StyleView",
            "description_width": ""
          }
        },
        "0eadf56ed1e14ed79922adff8dec01e6": {
          "model_module": "@jupyter-widgets/controls",
          "model_name": "HBoxModel",
          "model_module_version": "1.5.0",
          "state": {
            "_dom_classes": [],
            "_model_module": "@jupyter-widgets/controls",
            "_model_module_version": "1.5.0",
            "_model_name": "HBoxModel",
            "_view_count": null,
            "_view_module": "@jupyter-widgets/controls",
            "_view_module_version": "1.5.0",
            "_view_name": "HBoxView",
            "box_style": "",
            "children": [
              "IPY_MODEL_fbe516c0b7fb4156b90f7178c5ba3542",
              "IPY_MODEL_01d20d71e4e94788b0e932319e76c4ea",
              "IPY_MODEL_1aabdbaedf714e6999d2f1192cf21caa"
            ],
            "layout": "IPY_MODEL_f45c4e46646f483983e35b69f4f52462"
          }
        },
        "fbe516c0b7fb4156b90f7178c5ba3542": {
          "model_module": "@jupyter-widgets/controls",
          "model_name": "HTMLModel",
          "model_module_version": "1.5.0",
          "state": {
            "_dom_classes": [],
            "_model_module": "@jupyter-widgets/controls",
            "_model_module_version": "1.5.0",
            "_model_name": "HTMLModel",
            "_view_count": null,
            "_view_module": "@jupyter-widgets/controls",
            "_view_module_version": "1.5.0",
            "_view_name": "HTMLView",
            "description": "",
            "description_tooltip": null,
            "layout": "IPY_MODEL_100fc3b2f39547788b4b14d3a9edc23d",
            "placeholder": "​",
            "style": "IPY_MODEL_b9993fb7fa74408ea1703211bb7a74fb",
            "value": "Map: 100%"
          }
        },
        "01d20d71e4e94788b0e932319e76c4ea": {
          "model_module": "@jupyter-widgets/controls",
          "model_name": "FloatProgressModel",
          "model_module_version": "1.5.0",
          "state": {
            "_dom_classes": [],
            "_model_module": "@jupyter-widgets/controls",
            "_model_module_version": "1.5.0",
            "_model_name": "FloatProgressModel",
            "_view_count": null,
            "_view_module": "@jupyter-widgets/controls",
            "_view_module_version": "1.5.0",
            "_view_name": "ProgressView",
            "bar_style": "success",
            "description": "",
            "description_tooltip": null,
            "layout": "IPY_MODEL_793ecd5fb35b41aa933f3df556523624",
            "max": 7000,
            "min": 0,
            "orientation": "horizontal",
            "style": "IPY_MODEL_37763cf7ca0646eb8d0a45104ee8a210",
            "value": 7000
          }
        },
        "1aabdbaedf714e6999d2f1192cf21caa": {
          "model_module": "@jupyter-widgets/controls",
          "model_name": "HTMLModel",
          "model_module_version": "1.5.0",
          "state": {
            "_dom_classes": [],
            "_model_module": "@jupyter-widgets/controls",
            "_model_module_version": "1.5.0",
            "_model_name": "HTMLModel",
            "_view_count": null,
            "_view_module": "@jupyter-widgets/controls",
            "_view_module_version": "1.5.0",
            "_view_name": "HTMLView",
            "description": "",
            "description_tooltip": null,
            "layout": "IPY_MODEL_f4afeeaf53db42508f645b9bd45a1806",
            "placeholder": "​",
            "style": "IPY_MODEL_2a2d6a0ea4c44728a729bffe62bb5d6a",
            "value": " 7000/7000 [00:00&lt;00:00, 8294.00 examples/s]"
          }
        },
        "f45c4e46646f483983e35b69f4f52462": {
          "model_module": "@jupyter-widgets/base",
          "model_name": "LayoutModel",
          "model_module_version": "1.2.0",
          "state": {
            "_model_module": "@jupyter-widgets/base",
            "_model_module_version": "1.2.0",
            "_model_name": "LayoutModel",
            "_view_count": null,
            "_view_module": "@jupyter-widgets/base",
            "_view_module_version": "1.2.0",
            "_view_name": "LayoutView",
            "align_content": null,
            "align_items": null,
            "align_self": null,
            "border": null,
            "bottom": null,
            "display": null,
            "flex": null,
            "flex_flow": null,
            "grid_area": null,
            "grid_auto_columns": null,
            "grid_auto_flow": null,
            "grid_auto_rows": null,
            "grid_column": null,
            "grid_gap": null,
            "grid_row": null,
            "grid_template_areas": null,
            "grid_template_columns": null,
            "grid_template_rows": null,
            "height": null,
            "justify_content": null,
            "justify_items": null,
            "left": null,
            "margin": null,
            "max_height": null,
            "max_width": null,
            "min_height": null,
            "min_width": null,
            "object_fit": null,
            "object_position": null,
            "order": null,
            "overflow": null,
            "overflow_x": null,
            "overflow_y": null,
            "padding": null,
            "right": null,
            "top": null,
            "visibility": null,
            "width": null
          }
        },
        "100fc3b2f39547788b4b14d3a9edc23d": {
          "model_module": "@jupyter-widgets/base",
          "model_name": "LayoutModel",
          "model_module_version": "1.2.0",
          "state": {
            "_model_module": "@jupyter-widgets/base",
            "_model_module_version": "1.2.0",
            "_model_name": "LayoutModel",
            "_view_count": null,
            "_view_module": "@jupyter-widgets/base",
            "_view_module_version": "1.2.0",
            "_view_name": "LayoutView",
            "align_content": null,
            "align_items": null,
            "align_self": null,
            "border": null,
            "bottom": null,
            "display": null,
            "flex": null,
            "flex_flow": null,
            "grid_area": null,
            "grid_auto_columns": null,
            "grid_auto_flow": null,
            "grid_auto_rows": null,
            "grid_column": null,
            "grid_gap": null,
            "grid_row": null,
            "grid_template_areas": null,
            "grid_template_columns": null,
            "grid_template_rows": null,
            "height": null,
            "justify_content": null,
            "justify_items": null,
            "left": null,
            "margin": null,
            "max_height": null,
            "max_width": null,
            "min_height": null,
            "min_width": null,
            "object_fit": null,
            "object_position": null,
            "order": null,
            "overflow": null,
            "overflow_x": null,
            "overflow_y": null,
            "padding": null,
            "right": null,
            "top": null,
            "visibility": null,
            "width": null
          }
        },
        "b9993fb7fa74408ea1703211bb7a74fb": {
          "model_module": "@jupyter-widgets/controls",
          "model_name": "DescriptionStyleModel",
          "model_module_version": "1.5.0",
          "state": {
            "_model_module": "@jupyter-widgets/controls",
            "_model_module_version": "1.5.0",
            "_model_name": "DescriptionStyleModel",
            "_view_count": null,
            "_view_module": "@jupyter-widgets/base",
            "_view_module_version": "1.2.0",
            "_view_name": "StyleView",
            "description_width": ""
          }
        },
        "793ecd5fb35b41aa933f3df556523624": {
          "model_module": "@jupyter-widgets/base",
          "model_name": "LayoutModel",
          "model_module_version": "1.2.0",
          "state": {
            "_model_module": "@jupyter-widgets/base",
            "_model_module_version": "1.2.0",
            "_model_name": "LayoutModel",
            "_view_count": null,
            "_view_module": "@jupyter-widgets/base",
            "_view_module_version": "1.2.0",
            "_view_name": "LayoutView",
            "align_content": null,
            "align_items": null,
            "align_self": null,
            "border": null,
            "bottom": null,
            "display": null,
            "flex": null,
            "flex_flow": null,
            "grid_area": null,
            "grid_auto_columns": null,
            "grid_auto_flow": null,
            "grid_auto_rows": null,
            "grid_column": null,
            "grid_gap": null,
            "grid_row": null,
            "grid_template_areas": null,
            "grid_template_columns": null,
            "grid_template_rows": null,
            "height": null,
            "justify_content": null,
            "justify_items": null,
            "left": null,
            "margin": null,
            "max_height": null,
            "max_width": null,
            "min_height": null,
            "min_width": null,
            "object_fit": null,
            "object_position": null,
            "order": null,
            "overflow": null,
            "overflow_x": null,
            "overflow_y": null,
            "padding": null,
            "right": null,
            "top": null,
            "visibility": null,
            "width": null
          }
        },
        "37763cf7ca0646eb8d0a45104ee8a210": {
          "model_module": "@jupyter-widgets/controls",
          "model_name": "ProgressStyleModel",
          "model_module_version": "1.5.0",
          "state": {
            "_model_module": "@jupyter-widgets/controls",
            "_model_module_version": "1.5.0",
            "_model_name": "ProgressStyleModel",
            "_view_count": null,
            "_view_module": "@jupyter-widgets/base",
            "_view_module_version": "1.2.0",
            "_view_name": "StyleView",
            "bar_color": null,
            "description_width": ""
          }
        },
        "f4afeeaf53db42508f645b9bd45a1806": {
          "model_module": "@jupyter-widgets/base",
          "model_name": "LayoutModel",
          "model_module_version": "1.2.0",
          "state": {
            "_model_module": "@jupyter-widgets/base",
            "_model_module_version": "1.2.0",
            "_model_name": "LayoutModel",
            "_view_count": null,
            "_view_module": "@jupyter-widgets/base",
            "_view_module_version": "1.2.0",
            "_view_name": "LayoutView",
            "align_content": null,
            "align_items": null,
            "align_self": null,
            "border": null,
            "bottom": null,
            "display": null,
            "flex": null,
            "flex_flow": null,
            "grid_area": null,
            "grid_auto_columns": null,
            "grid_auto_flow": null,
            "grid_auto_rows": null,
            "grid_column": null,
            "grid_gap": null,
            "grid_row": null,
            "grid_template_areas": null,
            "grid_template_columns": null,
            "grid_template_rows": null,
            "height": null,
            "justify_content": null,
            "justify_items": null,
            "left": null,
            "margin": null,
            "max_height": null,
            "max_width": null,
            "min_height": null,
            "min_width": null,
            "object_fit": null,
            "object_position": null,
            "order": null,
            "overflow": null,
            "overflow_x": null,
            "overflow_y": null,
            "padding": null,
            "right": null,
            "top": null,
            "visibility": null,
            "width": null
          }
        },
        "2a2d6a0ea4c44728a729bffe62bb5d6a": {
          "model_module": "@jupyter-widgets/controls",
          "model_name": "DescriptionStyleModel",
          "model_module_version": "1.5.0",
          "state": {
            "_model_module": "@jupyter-widgets/controls",
            "_model_module_version": "1.5.0",
            "_model_name": "DescriptionStyleModel",
            "_view_count": null,
            "_view_module": "@jupyter-widgets/base",
            "_view_module_version": "1.2.0",
            "_view_name": "StyleView",
            "description_width": ""
          }
        },
        "f9699c2d625b42c8b3312d2e3cc37cb9": {
          "model_module": "@jupyter-widgets/controls",
          "model_name": "HBoxModel",
          "model_module_version": "1.5.0",
          "state": {
            "_dom_classes": [],
            "_model_module": "@jupyter-widgets/controls",
            "_model_module_version": "1.5.0",
            "_model_name": "HBoxModel",
            "_view_count": null,
            "_view_module": "@jupyter-widgets/controls",
            "_view_module_version": "1.5.0",
            "_view_name": "HBoxView",
            "box_style": "",
            "children": [
              "IPY_MODEL_15c019b56f5a42f890ffea9d43094f1e",
              "IPY_MODEL_715e0d43ab704a0c864079ff45ff6024",
              "IPY_MODEL_c86a7061959f46b4a4a27c9437b55e04"
            ],
            "layout": "IPY_MODEL_21828ce677444780a535ffd1d4ae70fe"
          }
        },
        "15c019b56f5a42f890ffea9d43094f1e": {
          "model_module": "@jupyter-widgets/controls",
          "model_name": "HTMLModel",
          "model_module_version": "1.5.0",
          "state": {
            "_dom_classes": [],
            "_model_module": "@jupyter-widgets/controls",
            "_model_module_version": "1.5.0",
            "_model_name": "HTMLModel",
            "_view_count": null,
            "_view_module": "@jupyter-widgets/controls",
            "_view_module_version": "1.5.0",
            "_view_name": "HTMLView",
            "description": "",
            "description_tooltip": null,
            "layout": "IPY_MODEL_78fe6aaa1f0c46c592784b565b678132",
            "placeholder": "​",
            "style": "IPY_MODEL_c239278366484f778854203c61df5196",
            "value": "Map: 100%"
          }
        },
        "715e0d43ab704a0c864079ff45ff6024": {
          "model_module": "@jupyter-widgets/controls",
          "model_name": "FloatProgressModel",
          "model_module_version": "1.5.0",
          "state": {
            "_dom_classes": [],
            "_model_module": "@jupyter-widgets/controls",
            "_model_module_version": "1.5.0",
            "_model_name": "FloatProgressModel",
            "_view_count": null,
            "_view_module": "@jupyter-widgets/controls",
            "_view_module_version": "1.5.0",
            "_view_name": "ProgressView",
            "bar_style": "success",
            "description": "",
            "description_tooltip": null,
            "layout": "IPY_MODEL_17f224c4e6de4630a8f61bf1197a3cb4",
            "max": 3000,
            "min": 0,
            "orientation": "horizontal",
            "style": "IPY_MODEL_96e72606148a422bb7560f1ec4d083bf",
            "value": 3000
          }
        },
        "c86a7061959f46b4a4a27c9437b55e04": {
          "model_module": "@jupyter-widgets/controls",
          "model_name": "HTMLModel",
          "model_module_version": "1.5.0",
          "state": {
            "_dom_classes": [],
            "_model_module": "@jupyter-widgets/controls",
            "_model_module_version": "1.5.0",
            "_model_name": "HTMLModel",
            "_view_count": null,
            "_view_module": "@jupyter-widgets/controls",
            "_view_module_version": "1.5.0",
            "_view_name": "HTMLView",
            "description": "",
            "description_tooltip": null,
            "layout": "IPY_MODEL_9526cf280d2548c584e17033293b207b",
            "placeholder": "​",
            "style": "IPY_MODEL_ddd5259701f649339ee39425602b7a8c",
            "value": " 3000/3000 [00:00&lt;00:00, 8266.92 examples/s]"
          }
        },
        "21828ce677444780a535ffd1d4ae70fe": {
          "model_module": "@jupyter-widgets/base",
          "model_name": "LayoutModel",
          "model_module_version": "1.2.0",
          "state": {
            "_model_module": "@jupyter-widgets/base",
            "_model_module_version": "1.2.0",
            "_model_name": "LayoutModel",
            "_view_count": null,
            "_view_module": "@jupyter-widgets/base",
            "_view_module_version": "1.2.0",
            "_view_name": "LayoutView",
            "align_content": null,
            "align_items": null,
            "align_self": null,
            "border": null,
            "bottom": null,
            "display": null,
            "flex": null,
            "flex_flow": null,
            "grid_area": null,
            "grid_auto_columns": null,
            "grid_auto_flow": null,
            "grid_auto_rows": null,
            "grid_column": null,
            "grid_gap": null,
            "grid_row": null,
            "grid_template_areas": null,
            "grid_template_columns": null,
            "grid_template_rows": null,
            "height": null,
            "justify_content": null,
            "justify_items": null,
            "left": null,
            "margin": null,
            "max_height": null,
            "max_width": null,
            "min_height": null,
            "min_width": null,
            "object_fit": null,
            "object_position": null,
            "order": null,
            "overflow": null,
            "overflow_x": null,
            "overflow_y": null,
            "padding": null,
            "right": null,
            "top": null,
            "visibility": null,
            "width": null
          }
        },
        "78fe6aaa1f0c46c592784b565b678132": {
          "model_module": "@jupyter-widgets/base",
          "model_name": "LayoutModel",
          "model_module_version": "1.2.0",
          "state": {
            "_model_module": "@jupyter-widgets/base",
            "_model_module_version": "1.2.0",
            "_model_name": "LayoutModel",
            "_view_count": null,
            "_view_module": "@jupyter-widgets/base",
            "_view_module_version": "1.2.0",
            "_view_name": "LayoutView",
            "align_content": null,
            "align_items": null,
            "align_self": null,
            "border": null,
            "bottom": null,
            "display": null,
            "flex": null,
            "flex_flow": null,
            "grid_area": null,
            "grid_auto_columns": null,
            "grid_auto_flow": null,
            "grid_auto_rows": null,
            "grid_column": null,
            "grid_gap": null,
            "grid_row": null,
            "grid_template_areas": null,
            "grid_template_columns": null,
            "grid_template_rows": null,
            "height": null,
            "justify_content": null,
            "justify_items": null,
            "left": null,
            "margin": null,
            "max_height": null,
            "max_width": null,
            "min_height": null,
            "min_width": null,
            "object_fit": null,
            "object_position": null,
            "order": null,
            "overflow": null,
            "overflow_x": null,
            "overflow_y": null,
            "padding": null,
            "right": null,
            "top": null,
            "visibility": null,
            "width": null
          }
        },
        "c239278366484f778854203c61df5196": {
          "model_module": "@jupyter-widgets/controls",
          "model_name": "DescriptionStyleModel",
          "model_module_version": "1.5.0",
          "state": {
            "_model_module": "@jupyter-widgets/controls",
            "_model_module_version": "1.5.0",
            "_model_name": "DescriptionStyleModel",
            "_view_count": null,
            "_view_module": "@jupyter-widgets/base",
            "_view_module_version": "1.2.0",
            "_view_name": "StyleView",
            "description_width": ""
          }
        },
        "17f224c4e6de4630a8f61bf1197a3cb4": {
          "model_module": "@jupyter-widgets/base",
          "model_name": "LayoutModel",
          "model_module_version": "1.2.0",
          "state": {
            "_model_module": "@jupyter-widgets/base",
            "_model_module_version": "1.2.0",
            "_model_name": "LayoutModel",
            "_view_count": null,
            "_view_module": "@jupyter-widgets/base",
            "_view_module_version": "1.2.0",
            "_view_name": "LayoutView",
            "align_content": null,
            "align_items": null,
            "align_self": null,
            "border": null,
            "bottom": null,
            "display": null,
            "flex": null,
            "flex_flow": null,
            "grid_area": null,
            "grid_auto_columns": null,
            "grid_auto_flow": null,
            "grid_auto_rows": null,
            "grid_column": null,
            "grid_gap": null,
            "grid_row": null,
            "grid_template_areas": null,
            "grid_template_columns": null,
            "grid_template_rows": null,
            "height": null,
            "justify_content": null,
            "justify_items": null,
            "left": null,
            "margin": null,
            "max_height": null,
            "max_width": null,
            "min_height": null,
            "min_width": null,
            "object_fit": null,
            "object_position": null,
            "order": null,
            "overflow": null,
            "overflow_x": null,
            "overflow_y": null,
            "padding": null,
            "right": null,
            "top": null,
            "visibility": null,
            "width": null
          }
        },
        "96e72606148a422bb7560f1ec4d083bf": {
          "model_module": "@jupyter-widgets/controls",
          "model_name": "ProgressStyleModel",
          "model_module_version": "1.5.0",
          "state": {
            "_model_module": "@jupyter-widgets/controls",
            "_model_module_version": "1.5.0",
            "_model_name": "ProgressStyleModel",
            "_view_count": null,
            "_view_module": "@jupyter-widgets/base",
            "_view_module_version": "1.2.0",
            "_view_name": "StyleView",
            "bar_color": null,
            "description_width": ""
          }
        },
        "9526cf280d2548c584e17033293b207b": {
          "model_module": "@jupyter-widgets/base",
          "model_name": "LayoutModel",
          "model_module_version": "1.2.0",
          "state": {
            "_model_module": "@jupyter-widgets/base",
            "_model_module_version": "1.2.0",
            "_model_name": "LayoutModel",
            "_view_count": null,
            "_view_module": "@jupyter-widgets/base",
            "_view_module_version": "1.2.0",
            "_view_name": "LayoutView",
            "align_content": null,
            "align_items": null,
            "align_self": null,
            "border": null,
            "bottom": null,
            "display": null,
            "flex": null,
            "flex_flow": null,
            "grid_area": null,
            "grid_auto_columns": null,
            "grid_auto_flow": null,
            "grid_auto_rows": null,
            "grid_column": null,
            "grid_gap": null,
            "grid_row": null,
            "grid_template_areas": null,
            "grid_template_columns": null,
            "grid_template_rows": null,
            "height": null,
            "justify_content": null,
            "justify_items": null,
            "left": null,
            "margin": null,
            "max_height": null,
            "max_width": null,
            "min_height": null,
            "min_width": null,
            "object_fit": null,
            "object_position": null,
            "order": null,
            "overflow": null,
            "overflow_x": null,
            "overflow_y": null,
            "padding": null,
            "right": null,
            "top": null,
            "visibility": null,
            "width": null
          }
        },
        "ddd5259701f649339ee39425602b7a8c": {
          "model_module": "@jupyter-widgets/controls",
          "model_name": "DescriptionStyleModel",
          "model_module_version": "1.5.0",
          "state": {
            "_model_module": "@jupyter-widgets/controls",
            "_model_module_version": "1.5.0",
            "_model_name": "DescriptionStyleModel",
            "_view_count": null,
            "_view_module": "@jupyter-widgets/base",
            "_view_module_version": "1.2.0",
            "_view_name": "StyleView",
            "description_width": ""
          }
        },
        "86862c9c28b74b3eaf4d9b31425f716d": {
          "model_module": "@jupyter-widgets/controls",
          "model_name": "HBoxModel",
          "model_module_version": "1.5.0",
          "state": {
            "_dom_classes": [],
            "_model_module": "@jupyter-widgets/controls",
            "_model_module_version": "1.5.0",
            "_model_name": "HBoxModel",
            "_view_count": null,
            "_view_module": "@jupyter-widgets/controls",
            "_view_module_version": "1.5.0",
            "_view_name": "HBoxView",
            "box_style": "",
            "children": [
              "IPY_MODEL_16694b9c191b44979cd888a6c7643993",
              "IPY_MODEL_0032701d12bd4e2d805337dccc39d51e",
              "IPY_MODEL_b0648b7e277d41f4b3d4f5c7b8f5e0b0"
            ],
            "layout": "IPY_MODEL_398ac13313a248ceabaef8c4640059ed"
          }
        },
        "16694b9c191b44979cd888a6c7643993": {
          "model_module": "@jupyter-widgets/controls",
          "model_name": "HTMLModel",
          "model_module_version": "1.5.0",
          "state": {
            "_dom_classes": [],
            "_model_module": "@jupyter-widgets/controls",
            "_model_module_version": "1.5.0",
            "_model_name": "HTMLModel",
            "_view_count": null,
            "_view_module": "@jupyter-widgets/controls",
            "_view_module_version": "1.5.0",
            "_view_name": "HTMLView",
            "description": "",
            "description_tooltip": null,
            "layout": "IPY_MODEL_a625104e166845f097e25686e6fa8194",
            "placeholder": "​",
            "style": "IPY_MODEL_f776c500dc0e4327959ba697fc0b4969",
            "value": "Map: 100%"
          }
        },
        "0032701d12bd4e2d805337dccc39d51e": {
          "model_module": "@jupyter-widgets/controls",
          "model_name": "FloatProgressModel",
          "model_module_version": "1.5.0",
          "state": {
            "_dom_classes": [],
            "_model_module": "@jupyter-widgets/controls",
            "_model_module_version": "1.5.0",
            "_model_name": "FloatProgressModel",
            "_view_count": null,
            "_view_module": "@jupyter-widgets/controls",
            "_view_module_version": "1.5.0",
            "_view_name": "ProgressView",
            "bar_style": "success",
            "description": "",
            "description_tooltip": null,
            "layout": "IPY_MODEL_89acc78bd67143adb03aab77c23d1fba",
            "max": 7000,
            "min": 0,
            "orientation": "horizontal",
            "style": "IPY_MODEL_2ff66cf8c30b4a1895837c4ce0a25c94",
            "value": 7000
          }
        },
        "b0648b7e277d41f4b3d4f5c7b8f5e0b0": {
          "model_module": "@jupyter-widgets/controls",
          "model_name": "HTMLModel",
          "model_module_version": "1.5.0",
          "state": {
            "_dom_classes": [],
            "_model_module": "@jupyter-widgets/controls",
            "_model_module_version": "1.5.0",
            "_model_name": "HTMLModel",
            "_view_count": null,
            "_view_module": "@jupyter-widgets/controls",
            "_view_module_version": "1.5.0",
            "_view_name": "HTMLView",
            "description": "",
            "description_tooltip": null,
            "layout": "IPY_MODEL_8e64f1448ce3478bb674fa9840f4c0fb",
            "placeholder": "​",
            "style": "IPY_MODEL_2df0d840d5904cf3a96c4f53cf944b82",
            "value": " 7000/7000 [00:00&lt;00:00, 239463.40 examples/s]"
          }
        },
        "398ac13313a248ceabaef8c4640059ed": {
          "model_module": "@jupyter-widgets/base",
          "model_name": "LayoutModel",
          "model_module_version": "1.2.0",
          "state": {
            "_model_module": "@jupyter-widgets/base",
            "_model_module_version": "1.2.0",
            "_model_name": "LayoutModel",
            "_view_count": null,
            "_view_module": "@jupyter-widgets/base",
            "_view_module_version": "1.2.0",
            "_view_name": "LayoutView",
            "align_content": null,
            "align_items": null,
            "align_self": null,
            "border": null,
            "bottom": null,
            "display": null,
            "flex": null,
            "flex_flow": null,
            "grid_area": null,
            "grid_auto_columns": null,
            "grid_auto_flow": null,
            "grid_auto_rows": null,
            "grid_column": null,
            "grid_gap": null,
            "grid_row": null,
            "grid_template_areas": null,
            "grid_template_columns": null,
            "grid_template_rows": null,
            "height": null,
            "justify_content": null,
            "justify_items": null,
            "left": null,
            "margin": null,
            "max_height": null,
            "max_width": null,
            "min_height": null,
            "min_width": null,
            "object_fit": null,
            "object_position": null,
            "order": null,
            "overflow": null,
            "overflow_x": null,
            "overflow_y": null,
            "padding": null,
            "right": null,
            "top": null,
            "visibility": null,
            "width": null
          }
        },
        "a625104e166845f097e25686e6fa8194": {
          "model_module": "@jupyter-widgets/base",
          "model_name": "LayoutModel",
          "model_module_version": "1.2.0",
          "state": {
            "_model_module": "@jupyter-widgets/base",
            "_model_module_version": "1.2.0",
            "_model_name": "LayoutModel",
            "_view_count": null,
            "_view_module": "@jupyter-widgets/base",
            "_view_module_version": "1.2.0",
            "_view_name": "LayoutView",
            "align_content": null,
            "align_items": null,
            "align_self": null,
            "border": null,
            "bottom": null,
            "display": null,
            "flex": null,
            "flex_flow": null,
            "grid_area": null,
            "grid_auto_columns": null,
            "grid_auto_flow": null,
            "grid_auto_rows": null,
            "grid_column": null,
            "grid_gap": null,
            "grid_row": null,
            "grid_template_areas": null,
            "grid_template_columns": null,
            "grid_template_rows": null,
            "height": null,
            "justify_content": null,
            "justify_items": null,
            "left": null,
            "margin": null,
            "max_height": null,
            "max_width": null,
            "min_height": null,
            "min_width": null,
            "object_fit": null,
            "object_position": null,
            "order": null,
            "overflow": null,
            "overflow_x": null,
            "overflow_y": null,
            "padding": null,
            "right": null,
            "top": null,
            "visibility": null,
            "width": null
          }
        },
        "f776c500dc0e4327959ba697fc0b4969": {
          "model_module": "@jupyter-widgets/controls",
          "model_name": "DescriptionStyleModel",
          "model_module_version": "1.5.0",
          "state": {
            "_model_module": "@jupyter-widgets/controls",
            "_model_module_version": "1.5.0",
            "_model_name": "DescriptionStyleModel",
            "_view_count": null,
            "_view_module": "@jupyter-widgets/base",
            "_view_module_version": "1.2.0",
            "_view_name": "StyleView",
            "description_width": ""
          }
        },
        "89acc78bd67143adb03aab77c23d1fba": {
          "model_module": "@jupyter-widgets/base",
          "model_name": "LayoutModel",
          "model_module_version": "1.2.0",
          "state": {
            "_model_module": "@jupyter-widgets/base",
            "_model_module_version": "1.2.0",
            "_model_name": "LayoutModel",
            "_view_count": null,
            "_view_module": "@jupyter-widgets/base",
            "_view_module_version": "1.2.0",
            "_view_name": "LayoutView",
            "align_content": null,
            "align_items": null,
            "align_self": null,
            "border": null,
            "bottom": null,
            "display": null,
            "flex": null,
            "flex_flow": null,
            "grid_area": null,
            "grid_auto_columns": null,
            "grid_auto_flow": null,
            "grid_auto_rows": null,
            "grid_column": null,
            "grid_gap": null,
            "grid_row": null,
            "grid_template_areas": null,
            "grid_template_columns": null,
            "grid_template_rows": null,
            "height": null,
            "justify_content": null,
            "justify_items": null,
            "left": null,
            "margin": null,
            "max_height": null,
            "max_width": null,
            "min_height": null,
            "min_width": null,
            "object_fit": null,
            "object_position": null,
            "order": null,
            "overflow": null,
            "overflow_x": null,
            "overflow_y": null,
            "padding": null,
            "right": null,
            "top": null,
            "visibility": null,
            "width": null
          }
        },
        "2ff66cf8c30b4a1895837c4ce0a25c94": {
          "model_module": "@jupyter-widgets/controls",
          "model_name": "ProgressStyleModel",
          "model_module_version": "1.5.0",
          "state": {
            "_model_module": "@jupyter-widgets/controls",
            "_model_module_version": "1.5.0",
            "_model_name": "ProgressStyleModel",
            "_view_count": null,
            "_view_module": "@jupyter-widgets/base",
            "_view_module_version": "1.2.0",
            "_view_name": "StyleView",
            "bar_color": null,
            "description_width": ""
          }
        },
        "8e64f1448ce3478bb674fa9840f4c0fb": {
          "model_module": "@jupyter-widgets/base",
          "model_name": "LayoutModel",
          "model_module_version": "1.2.0",
          "state": {
            "_model_module": "@jupyter-widgets/base",
            "_model_module_version": "1.2.0",
            "_model_name": "LayoutModel",
            "_view_count": null,
            "_view_module": "@jupyter-widgets/base",
            "_view_module_version": "1.2.0",
            "_view_name": "LayoutView",
            "align_content": null,
            "align_items": null,
            "align_self": null,
            "border": null,
            "bottom": null,
            "display": null,
            "flex": null,
            "flex_flow": null,
            "grid_area": null,
            "grid_auto_columns": null,
            "grid_auto_flow": null,
            "grid_auto_rows": null,
            "grid_column": null,
            "grid_gap": null,
            "grid_row": null,
            "grid_template_areas": null,
            "grid_template_columns": null,
            "grid_template_rows": null,
            "height": null,
            "justify_content": null,
            "justify_items": null,
            "left": null,
            "margin": null,
            "max_height": null,
            "max_width": null,
            "min_height": null,
            "min_width": null,
            "object_fit": null,
            "object_position": null,
            "order": null,
            "overflow": null,
            "overflow_x": null,
            "overflow_y": null,
            "padding": null,
            "right": null,
            "top": null,
            "visibility": null,
            "width": null
          }
        },
        "2df0d840d5904cf3a96c4f53cf944b82": {
          "model_module": "@jupyter-widgets/controls",
          "model_name": "DescriptionStyleModel",
          "model_module_version": "1.5.0",
          "state": {
            "_model_module": "@jupyter-widgets/controls",
            "_model_module_version": "1.5.0",
            "_model_name": "DescriptionStyleModel",
            "_view_count": null,
            "_view_module": "@jupyter-widgets/base",
            "_view_module_version": "1.2.0",
            "_view_name": "StyleView",
            "description_width": ""
          }
        },
        "586ea68688774e988d2eebd7cade593d": {
          "model_module": "@jupyter-widgets/controls",
          "model_name": "HBoxModel",
          "model_module_version": "1.5.0",
          "state": {
            "_dom_classes": [],
            "_model_module": "@jupyter-widgets/controls",
            "_model_module_version": "1.5.0",
            "_model_name": "HBoxModel",
            "_view_count": null,
            "_view_module": "@jupyter-widgets/controls",
            "_view_module_version": "1.5.0",
            "_view_name": "HBoxView",
            "box_style": "",
            "children": [
              "IPY_MODEL_e002bb3481a44b4ca20bed44a98e262e",
              "IPY_MODEL_944dbd659d5f47e29fab57619da2e45a",
              "IPY_MODEL_04d05d2f93ee4fb3b7aa547ea15ed737"
            ],
            "layout": "IPY_MODEL_b3515143aa914caf9351ca6bbcbbe49b"
          }
        },
        "e002bb3481a44b4ca20bed44a98e262e": {
          "model_module": "@jupyter-widgets/controls",
          "model_name": "HTMLModel",
          "model_module_version": "1.5.0",
          "state": {
            "_dom_classes": [],
            "_model_module": "@jupyter-widgets/controls",
            "_model_module_version": "1.5.0",
            "_model_name": "HTMLModel",
            "_view_count": null,
            "_view_module": "@jupyter-widgets/controls",
            "_view_module_version": "1.5.0",
            "_view_name": "HTMLView",
            "description": "",
            "description_tooltip": null,
            "layout": "IPY_MODEL_3eb021c5b64142a0970b4d69a7d7ee40",
            "placeholder": "​",
            "style": "IPY_MODEL_4f0a7fa4ec594db384b803759153c27f",
            "value": "Map: 100%"
          }
        },
        "944dbd659d5f47e29fab57619da2e45a": {
          "model_module": "@jupyter-widgets/controls",
          "model_name": "FloatProgressModel",
          "model_module_version": "1.5.0",
          "state": {
            "_dom_classes": [],
            "_model_module": "@jupyter-widgets/controls",
            "_model_module_version": "1.5.0",
            "_model_name": "FloatProgressModel",
            "_view_count": null,
            "_view_module": "@jupyter-widgets/controls",
            "_view_module_version": "1.5.0",
            "_view_name": "ProgressView",
            "bar_style": "success",
            "description": "",
            "description_tooltip": null,
            "layout": "IPY_MODEL_aca170cd791a43dba48a83caedf2ef2a",
            "max": 3000,
            "min": 0,
            "orientation": "horizontal",
            "style": "IPY_MODEL_29e197a424674c25b68008d81bdbdf20",
            "value": 3000
          }
        },
        "04d05d2f93ee4fb3b7aa547ea15ed737": {
          "model_module": "@jupyter-widgets/controls",
          "model_name": "HTMLModel",
          "model_module_version": "1.5.0",
          "state": {
            "_dom_classes": [],
            "_model_module": "@jupyter-widgets/controls",
            "_model_module_version": "1.5.0",
            "_model_name": "HTMLModel",
            "_view_count": null,
            "_view_module": "@jupyter-widgets/controls",
            "_view_module_version": "1.5.0",
            "_view_name": "HTMLView",
            "description": "",
            "description_tooltip": null,
            "layout": "IPY_MODEL_fa7003832f1645ecb56987857c2f5ad9",
            "placeholder": "​",
            "style": "IPY_MODEL_91e23ac8a93d4cc58f473866a63172ee",
            "value": " 3000/3000 [00:00&lt;00:00, 126168.51 examples/s]"
          }
        },
        "b3515143aa914caf9351ca6bbcbbe49b": {
          "model_module": "@jupyter-widgets/base",
          "model_name": "LayoutModel",
          "model_module_version": "1.2.0",
          "state": {
            "_model_module": "@jupyter-widgets/base",
            "_model_module_version": "1.2.0",
            "_model_name": "LayoutModel",
            "_view_count": null,
            "_view_module": "@jupyter-widgets/base",
            "_view_module_version": "1.2.0",
            "_view_name": "LayoutView",
            "align_content": null,
            "align_items": null,
            "align_self": null,
            "border": null,
            "bottom": null,
            "display": null,
            "flex": null,
            "flex_flow": null,
            "grid_area": null,
            "grid_auto_columns": null,
            "grid_auto_flow": null,
            "grid_auto_rows": null,
            "grid_column": null,
            "grid_gap": null,
            "grid_row": null,
            "grid_template_areas": null,
            "grid_template_columns": null,
            "grid_template_rows": null,
            "height": null,
            "justify_content": null,
            "justify_items": null,
            "left": null,
            "margin": null,
            "max_height": null,
            "max_width": null,
            "min_height": null,
            "min_width": null,
            "object_fit": null,
            "object_position": null,
            "order": null,
            "overflow": null,
            "overflow_x": null,
            "overflow_y": null,
            "padding": null,
            "right": null,
            "top": null,
            "visibility": null,
            "width": null
          }
        },
        "3eb021c5b64142a0970b4d69a7d7ee40": {
          "model_module": "@jupyter-widgets/base",
          "model_name": "LayoutModel",
          "model_module_version": "1.2.0",
          "state": {
            "_model_module": "@jupyter-widgets/base",
            "_model_module_version": "1.2.0",
            "_model_name": "LayoutModel",
            "_view_count": null,
            "_view_module": "@jupyter-widgets/base",
            "_view_module_version": "1.2.0",
            "_view_name": "LayoutView",
            "align_content": null,
            "align_items": null,
            "align_self": null,
            "border": null,
            "bottom": null,
            "display": null,
            "flex": null,
            "flex_flow": null,
            "grid_area": null,
            "grid_auto_columns": null,
            "grid_auto_flow": null,
            "grid_auto_rows": null,
            "grid_column": null,
            "grid_gap": null,
            "grid_row": null,
            "grid_template_areas": null,
            "grid_template_columns": null,
            "grid_template_rows": null,
            "height": null,
            "justify_content": null,
            "justify_items": null,
            "left": null,
            "margin": null,
            "max_height": null,
            "max_width": null,
            "min_height": null,
            "min_width": null,
            "object_fit": null,
            "object_position": null,
            "order": null,
            "overflow": null,
            "overflow_x": null,
            "overflow_y": null,
            "padding": null,
            "right": null,
            "top": null,
            "visibility": null,
            "width": null
          }
        },
        "4f0a7fa4ec594db384b803759153c27f": {
          "model_module": "@jupyter-widgets/controls",
          "model_name": "DescriptionStyleModel",
          "model_module_version": "1.5.0",
          "state": {
            "_model_module": "@jupyter-widgets/controls",
            "_model_module_version": "1.5.0",
            "_model_name": "DescriptionStyleModel",
            "_view_count": null,
            "_view_module": "@jupyter-widgets/base",
            "_view_module_version": "1.2.0",
            "_view_name": "StyleView",
            "description_width": ""
          }
        },
        "aca170cd791a43dba48a83caedf2ef2a": {
          "model_module": "@jupyter-widgets/base",
          "model_name": "LayoutModel",
          "model_module_version": "1.2.0",
          "state": {
            "_model_module": "@jupyter-widgets/base",
            "_model_module_version": "1.2.0",
            "_model_name": "LayoutModel",
            "_view_count": null,
            "_view_module": "@jupyter-widgets/base",
            "_view_module_version": "1.2.0",
            "_view_name": "LayoutView",
            "align_content": null,
            "align_items": null,
            "align_self": null,
            "border": null,
            "bottom": null,
            "display": null,
            "flex": null,
            "flex_flow": null,
            "grid_area": null,
            "grid_auto_columns": null,
            "grid_auto_flow": null,
            "grid_auto_rows": null,
            "grid_column": null,
            "grid_gap": null,
            "grid_row": null,
            "grid_template_areas": null,
            "grid_template_columns": null,
            "grid_template_rows": null,
            "height": null,
            "justify_content": null,
            "justify_items": null,
            "left": null,
            "margin": null,
            "max_height": null,
            "max_width": null,
            "min_height": null,
            "min_width": null,
            "object_fit": null,
            "object_position": null,
            "order": null,
            "overflow": null,
            "overflow_x": null,
            "overflow_y": null,
            "padding": null,
            "right": null,
            "top": null,
            "visibility": null,
            "width": null
          }
        },
        "29e197a424674c25b68008d81bdbdf20": {
          "model_module": "@jupyter-widgets/controls",
          "model_name": "ProgressStyleModel",
          "model_module_version": "1.5.0",
          "state": {
            "_model_module": "@jupyter-widgets/controls",
            "_model_module_version": "1.5.0",
            "_model_name": "ProgressStyleModel",
            "_view_count": null,
            "_view_module": "@jupyter-widgets/base",
            "_view_module_version": "1.2.0",
            "_view_name": "StyleView",
            "bar_color": null,
            "description_width": ""
          }
        },
        "fa7003832f1645ecb56987857c2f5ad9": {
          "model_module": "@jupyter-widgets/base",
          "model_name": "LayoutModel",
          "model_module_version": "1.2.0",
          "state": {
            "_model_module": "@jupyter-widgets/base",
            "_model_module_version": "1.2.0",
            "_model_name": "LayoutModel",
            "_view_count": null,
            "_view_module": "@jupyter-widgets/base",
            "_view_module_version": "1.2.0",
            "_view_name": "LayoutView",
            "align_content": null,
            "align_items": null,
            "align_self": null,
            "border": null,
            "bottom": null,
            "display": null,
            "flex": null,
            "flex_flow": null,
            "grid_area": null,
            "grid_auto_columns": null,
            "grid_auto_flow": null,
            "grid_auto_rows": null,
            "grid_column": null,
            "grid_gap": null,
            "grid_row": null,
            "grid_template_areas": null,
            "grid_template_columns": null,
            "grid_template_rows": null,
            "height": null,
            "justify_content": null,
            "justify_items": null,
            "left": null,
            "margin": null,
            "max_height": null,
            "max_width": null,
            "min_height": null,
            "min_width": null,
            "object_fit": null,
            "object_position": null,
            "order": null,
            "overflow": null,
            "overflow_x": null,
            "overflow_y": null,
            "padding": null,
            "right": null,
            "top": null,
            "visibility": null,
            "width": null
          }
        },
        "91e23ac8a93d4cc58f473866a63172ee": {
          "model_module": "@jupyter-widgets/controls",
          "model_name": "DescriptionStyleModel",
          "model_module_version": "1.5.0",
          "state": {
            "_model_module": "@jupyter-widgets/controls",
            "_model_module_version": "1.5.0",
            "_model_name": "DescriptionStyleModel",
            "_view_count": null,
            "_view_module": "@jupyter-widgets/base",
            "_view_module_version": "1.2.0",
            "_view_name": "StyleView",
            "description_width": ""
          }
        },
        "61c50ba1ad6b4ad2ab3a08866070b567": {
          "model_module": "@jupyter-widgets/controls",
          "model_name": "HBoxModel",
          "model_module_version": "1.5.0",
          "state": {
            "_dom_classes": [],
            "_model_module": "@jupyter-widgets/controls",
            "_model_module_version": "1.5.0",
            "_model_name": "HBoxModel",
            "_view_count": null,
            "_view_module": "@jupyter-widgets/controls",
            "_view_module_version": "1.5.0",
            "_view_name": "HBoxView",
            "box_style": "",
            "children": [
              "IPY_MODEL_f470674dd4c34477ac49fcdd2e51a5e7",
              "IPY_MODEL_7e2ead0bcb104bd1974f4e73a74855d6",
              "IPY_MODEL_0de8528778b24b2d83c30ae441d40962"
            ],
            "layout": "IPY_MODEL_3c813e08132e4561b4f911aa23b6b09b"
          }
        },
        "f470674dd4c34477ac49fcdd2e51a5e7": {
          "model_module": "@jupyter-widgets/controls",
          "model_name": "HTMLModel",
          "model_module_version": "1.5.0",
          "state": {
            "_dom_classes": [],
            "_model_module": "@jupyter-widgets/controls",
            "_model_module_version": "1.5.0",
            "_model_name": "HTMLModel",
            "_view_count": null,
            "_view_module": "@jupyter-widgets/controls",
            "_view_module_version": "1.5.0",
            "_view_name": "HTMLView",
            "description": "",
            "description_tooltip": null,
            "layout": "IPY_MODEL_43f66f4bee5047bea01ebbac8e2caffd",
            "placeholder": "​",
            "style": "IPY_MODEL_b33a7985aa2443fb9de8d8e8a8ed7551",
            "value": "README.md: 100%"
          }
        },
        "7e2ead0bcb104bd1974f4e73a74855d6": {
          "model_module": "@jupyter-widgets/controls",
          "model_name": "FloatProgressModel",
          "model_module_version": "1.5.0",
          "state": {
            "_dom_classes": [],
            "_model_module": "@jupyter-widgets/controls",
            "_model_module_version": "1.5.0",
            "_model_name": "FloatProgressModel",
            "_view_count": null,
            "_view_module": "@jupyter-widgets/controls",
            "_view_module_version": "1.5.0",
            "_view_name": "ProgressView",
            "bar_style": "success",
            "description": "",
            "description_tooltip": null,
            "layout": "IPY_MODEL_651572b46f924400871f934a31dc552a",
            "max": 1485,
            "min": 0,
            "orientation": "horizontal",
            "style": "IPY_MODEL_4b34e5ed8cff4c3e9293a9aec5b4700b",
            "value": 1485
          }
        },
        "0de8528778b24b2d83c30ae441d40962": {
          "model_module": "@jupyter-widgets/controls",
          "model_name": "HTMLModel",
          "model_module_version": "1.5.0",
          "state": {
            "_dom_classes": [],
            "_model_module": "@jupyter-widgets/controls",
            "_model_module_version": "1.5.0",
            "_model_name": "HTMLModel",
            "_view_count": null,
            "_view_module": "@jupyter-widgets/controls",
            "_view_module_version": "1.5.0",
            "_view_name": "HTMLView",
            "description": "",
            "description_tooltip": null,
            "layout": "IPY_MODEL_4800aec37e134ff1b5189891f8d61534",
            "placeholder": "​",
            "style": "IPY_MODEL_2168baf5f13a48ddada01726502f8c20",
            "value": " 1.49k/1.49k [00:00&lt;00:00, 129kB/s]"
          }
        },
        "3c813e08132e4561b4f911aa23b6b09b": {
          "model_module": "@jupyter-widgets/base",
          "model_name": "LayoutModel",
          "model_module_version": "1.2.0",
          "state": {
            "_model_module": "@jupyter-widgets/base",
            "_model_module_version": "1.2.0",
            "_model_name": "LayoutModel",
            "_view_count": null,
            "_view_module": "@jupyter-widgets/base",
            "_view_module_version": "1.2.0",
            "_view_name": "LayoutView",
            "align_content": null,
            "align_items": null,
            "align_self": null,
            "border": null,
            "bottom": null,
            "display": null,
            "flex": null,
            "flex_flow": null,
            "grid_area": null,
            "grid_auto_columns": null,
            "grid_auto_flow": null,
            "grid_auto_rows": null,
            "grid_column": null,
            "grid_gap": null,
            "grid_row": null,
            "grid_template_areas": null,
            "grid_template_columns": null,
            "grid_template_rows": null,
            "height": null,
            "justify_content": null,
            "justify_items": null,
            "left": null,
            "margin": null,
            "max_height": null,
            "max_width": null,
            "min_height": null,
            "min_width": null,
            "object_fit": null,
            "object_position": null,
            "order": null,
            "overflow": null,
            "overflow_x": null,
            "overflow_y": null,
            "padding": null,
            "right": null,
            "top": null,
            "visibility": null,
            "width": null
          }
        },
        "43f66f4bee5047bea01ebbac8e2caffd": {
          "model_module": "@jupyter-widgets/base",
          "model_name": "LayoutModel",
          "model_module_version": "1.2.0",
          "state": {
            "_model_module": "@jupyter-widgets/base",
            "_model_module_version": "1.2.0",
            "_model_name": "LayoutModel",
            "_view_count": null,
            "_view_module": "@jupyter-widgets/base",
            "_view_module_version": "1.2.0",
            "_view_name": "LayoutView",
            "align_content": null,
            "align_items": null,
            "align_self": null,
            "border": null,
            "bottom": null,
            "display": null,
            "flex": null,
            "flex_flow": null,
            "grid_area": null,
            "grid_auto_columns": null,
            "grid_auto_flow": null,
            "grid_auto_rows": null,
            "grid_column": null,
            "grid_gap": null,
            "grid_row": null,
            "grid_template_areas": null,
            "grid_template_columns": null,
            "grid_template_rows": null,
            "height": null,
            "justify_content": null,
            "justify_items": null,
            "left": null,
            "margin": null,
            "max_height": null,
            "max_width": null,
            "min_height": null,
            "min_width": null,
            "object_fit": null,
            "object_position": null,
            "order": null,
            "overflow": null,
            "overflow_x": null,
            "overflow_y": null,
            "padding": null,
            "right": null,
            "top": null,
            "visibility": null,
            "width": null
          }
        },
        "b33a7985aa2443fb9de8d8e8a8ed7551": {
          "model_module": "@jupyter-widgets/controls",
          "model_name": "DescriptionStyleModel",
          "model_module_version": "1.5.0",
          "state": {
            "_model_module": "@jupyter-widgets/controls",
            "_model_module_version": "1.5.0",
            "_model_name": "DescriptionStyleModel",
            "_view_count": null,
            "_view_module": "@jupyter-widgets/base",
            "_view_module_version": "1.2.0",
            "_view_name": "StyleView",
            "description_width": ""
          }
        },
        "651572b46f924400871f934a31dc552a": {
          "model_module": "@jupyter-widgets/base",
          "model_name": "LayoutModel",
          "model_module_version": "1.2.0",
          "state": {
            "_model_module": "@jupyter-widgets/base",
            "_model_module_version": "1.2.0",
            "_model_name": "LayoutModel",
            "_view_count": null,
            "_view_module": "@jupyter-widgets/base",
            "_view_module_version": "1.2.0",
            "_view_name": "LayoutView",
            "align_content": null,
            "align_items": null,
            "align_self": null,
            "border": null,
            "bottom": null,
            "display": null,
            "flex": null,
            "flex_flow": null,
            "grid_area": null,
            "grid_auto_columns": null,
            "grid_auto_flow": null,
            "grid_auto_rows": null,
            "grid_column": null,
            "grid_gap": null,
            "grid_row": null,
            "grid_template_areas": null,
            "grid_template_columns": null,
            "grid_template_rows": null,
            "height": null,
            "justify_content": null,
            "justify_items": null,
            "left": null,
            "margin": null,
            "max_height": null,
            "max_width": null,
            "min_height": null,
            "min_width": null,
            "object_fit": null,
            "object_position": null,
            "order": null,
            "overflow": null,
            "overflow_x": null,
            "overflow_y": null,
            "padding": null,
            "right": null,
            "top": null,
            "visibility": null,
            "width": null
          }
        },
        "4b34e5ed8cff4c3e9293a9aec5b4700b": {
          "model_module": "@jupyter-widgets/controls",
          "model_name": "ProgressStyleModel",
          "model_module_version": "1.5.0",
          "state": {
            "_model_module": "@jupyter-widgets/controls",
            "_model_module_version": "1.5.0",
            "_model_name": "ProgressStyleModel",
            "_view_count": null,
            "_view_module": "@jupyter-widgets/base",
            "_view_module_version": "1.2.0",
            "_view_name": "StyleView",
            "bar_color": null,
            "description_width": ""
          }
        },
        "4800aec37e134ff1b5189891f8d61534": {
          "model_module": "@jupyter-widgets/base",
          "model_name": "LayoutModel",
          "model_module_version": "1.2.0",
          "state": {
            "_model_module": "@jupyter-widgets/base",
            "_model_module_version": "1.2.0",
            "_model_name": "LayoutModel",
            "_view_count": null,
            "_view_module": "@jupyter-widgets/base",
            "_view_module_version": "1.2.0",
            "_view_name": "LayoutView",
            "align_content": null,
            "align_items": null,
            "align_self": null,
            "border": null,
            "bottom": null,
            "display": null,
            "flex": null,
            "flex_flow": null,
            "grid_area": null,
            "grid_auto_columns": null,
            "grid_auto_flow": null,
            "grid_auto_rows": null,
            "grid_column": null,
            "grid_gap": null,
            "grid_row": null,
            "grid_template_areas": null,
            "grid_template_columns": null,
            "grid_template_rows": null,
            "height": null,
            "justify_content": null,
            "justify_items": null,
            "left": null,
            "margin": null,
            "max_height": null,
            "max_width": null,
            "min_height": null,
            "min_width": null,
            "object_fit": null,
            "object_position": null,
            "order": null,
            "overflow": null,
            "overflow_x": null,
            "overflow_y": null,
            "padding": null,
            "right": null,
            "top": null,
            "visibility": null,
            "width": null
          }
        },
        "2168baf5f13a48ddada01726502f8c20": {
          "model_module": "@jupyter-widgets/controls",
          "model_name": "DescriptionStyleModel",
          "model_module_version": "1.5.0",
          "state": {
            "_model_module": "@jupyter-widgets/controls",
            "_model_module_version": "1.5.0",
            "_model_name": "DescriptionStyleModel",
            "_view_count": null,
            "_view_module": "@jupyter-widgets/base",
            "_view_module_version": "1.2.0",
            "_view_name": "StyleView",
            "description_width": ""
          }
        },
        "5a6106ae1e2b4d5291efb79ba6a9daa0": {
          "model_module": "@jupyter-widgets/controls",
          "model_name": "HBoxModel",
          "model_module_version": "1.5.0",
          "state": {
            "_dom_classes": [],
            "_model_module": "@jupyter-widgets/controls",
            "_model_module_version": "1.5.0",
            "_model_name": "HBoxModel",
            "_view_count": null,
            "_view_module": "@jupyter-widgets/controls",
            "_view_module_version": "1.5.0",
            "_view_name": "HBoxView",
            "box_style": "",
            "children": [
              "IPY_MODEL_90987a9898794c3f8a48668915b802d6",
              "IPY_MODEL_0967d4de2f98490fb1a405218bf61a2c",
              "IPY_MODEL_446f39a869ce41a5b0c56f4e7fb938af"
            ],
            "layout": "IPY_MODEL_51f9126cab8946dead385c69d8eb2b01"
          }
        },
        "90987a9898794c3f8a48668915b802d6": {
          "model_module": "@jupyter-widgets/controls",
          "model_name": "HTMLModel",
          "model_module_version": "1.5.0",
          "state": {
            "_dom_classes": [],
            "_model_module": "@jupyter-widgets/controls",
            "_model_module_version": "1.5.0",
            "_model_name": "HTMLModel",
            "_view_count": null,
            "_view_module": "@jupyter-widgets/controls",
            "_view_module_version": "1.5.0",
            "_view_name": "HTMLView",
            "description": "",
            "description_tooltip": null,
            "layout": "IPY_MODEL_2246372602af4bf0afe006a0a44a26ed",
            "placeholder": "​",
            "style": "IPY_MODEL_1d1efeb288454b4688e9926c18e970ca",
            "value": "Filter: 100%"
          }
        },
        "0967d4de2f98490fb1a405218bf61a2c": {
          "model_module": "@jupyter-widgets/controls",
          "model_name": "FloatProgressModel",
          "model_module_version": "1.5.0",
          "state": {
            "_dom_classes": [],
            "_model_module": "@jupyter-widgets/controls",
            "_model_module_version": "1.5.0",
            "_model_name": "FloatProgressModel",
            "_view_count": null,
            "_view_module": "@jupyter-widgets/controls",
            "_view_module_version": "1.5.0",
            "_view_name": "ProgressView",
            "bar_style": "success",
            "description": "",
            "description_tooltip": null,
            "layout": "IPY_MODEL_4db515c8d21e45ed975b226d17f71bdc",
            "max": 7000,
            "min": 0,
            "orientation": "horizontal",
            "style": "IPY_MODEL_444a2fe053b14ff5995dfc9fbadd3b8f",
            "value": 7000
          }
        },
        "446f39a869ce41a5b0c56f4e7fb938af": {
          "model_module": "@jupyter-widgets/controls",
          "model_name": "HTMLModel",
          "model_module_version": "1.5.0",
          "state": {
            "_dom_classes": [],
            "_model_module": "@jupyter-widgets/controls",
            "_model_module_version": "1.5.0",
            "_model_name": "HTMLModel",
            "_view_count": null,
            "_view_module": "@jupyter-widgets/controls",
            "_view_module_version": "1.5.0",
            "_view_name": "HTMLView",
            "description": "",
            "description_tooltip": null,
            "layout": "IPY_MODEL_e28388f5b1ca41dfb8f017beb8bd7769",
            "placeholder": "​",
            "style": "IPY_MODEL_17870e2c4f484b5792f76e4ea6c74481",
            "value": " 7000/7000 [00:00&lt;00:00, 219010.64 examples/s]"
          }
        },
        "51f9126cab8946dead385c69d8eb2b01": {
          "model_module": "@jupyter-widgets/base",
          "model_name": "LayoutModel",
          "model_module_version": "1.2.0",
          "state": {
            "_model_module": "@jupyter-widgets/base",
            "_model_module_version": "1.2.0",
            "_model_name": "LayoutModel",
            "_view_count": null,
            "_view_module": "@jupyter-widgets/base",
            "_view_module_version": "1.2.0",
            "_view_name": "LayoutView",
            "align_content": null,
            "align_items": null,
            "align_self": null,
            "border": null,
            "bottom": null,
            "display": null,
            "flex": null,
            "flex_flow": null,
            "grid_area": null,
            "grid_auto_columns": null,
            "grid_auto_flow": null,
            "grid_auto_rows": null,
            "grid_column": null,
            "grid_gap": null,
            "grid_row": null,
            "grid_template_areas": null,
            "grid_template_columns": null,
            "grid_template_rows": null,
            "height": null,
            "justify_content": null,
            "justify_items": null,
            "left": null,
            "margin": null,
            "max_height": null,
            "max_width": null,
            "min_height": null,
            "min_width": null,
            "object_fit": null,
            "object_position": null,
            "order": null,
            "overflow": null,
            "overflow_x": null,
            "overflow_y": null,
            "padding": null,
            "right": null,
            "top": null,
            "visibility": null,
            "width": null
          }
        },
        "2246372602af4bf0afe006a0a44a26ed": {
          "model_module": "@jupyter-widgets/base",
          "model_name": "LayoutModel",
          "model_module_version": "1.2.0",
          "state": {
            "_model_module": "@jupyter-widgets/base",
            "_model_module_version": "1.2.0",
            "_model_name": "LayoutModel",
            "_view_count": null,
            "_view_module": "@jupyter-widgets/base",
            "_view_module_version": "1.2.0",
            "_view_name": "LayoutView",
            "align_content": null,
            "align_items": null,
            "align_self": null,
            "border": null,
            "bottom": null,
            "display": null,
            "flex": null,
            "flex_flow": null,
            "grid_area": null,
            "grid_auto_columns": null,
            "grid_auto_flow": null,
            "grid_auto_rows": null,
            "grid_column": null,
            "grid_gap": null,
            "grid_row": null,
            "grid_template_areas": null,
            "grid_template_columns": null,
            "grid_template_rows": null,
            "height": null,
            "justify_content": null,
            "justify_items": null,
            "left": null,
            "margin": null,
            "max_height": null,
            "max_width": null,
            "min_height": null,
            "min_width": null,
            "object_fit": null,
            "object_position": null,
            "order": null,
            "overflow": null,
            "overflow_x": null,
            "overflow_y": null,
            "padding": null,
            "right": null,
            "top": null,
            "visibility": null,
            "width": null
          }
        },
        "1d1efeb288454b4688e9926c18e970ca": {
          "model_module": "@jupyter-widgets/controls",
          "model_name": "DescriptionStyleModel",
          "model_module_version": "1.5.0",
          "state": {
            "_model_module": "@jupyter-widgets/controls",
            "_model_module_version": "1.5.0",
            "_model_name": "DescriptionStyleModel",
            "_view_count": null,
            "_view_module": "@jupyter-widgets/base",
            "_view_module_version": "1.2.0",
            "_view_name": "StyleView",
            "description_width": ""
          }
        },
        "4db515c8d21e45ed975b226d17f71bdc": {
          "model_module": "@jupyter-widgets/base",
          "model_name": "LayoutModel",
          "model_module_version": "1.2.0",
          "state": {
            "_model_module": "@jupyter-widgets/base",
            "_model_module_version": "1.2.0",
            "_model_name": "LayoutModel",
            "_view_count": null,
            "_view_module": "@jupyter-widgets/base",
            "_view_module_version": "1.2.0",
            "_view_name": "LayoutView",
            "align_content": null,
            "align_items": null,
            "align_self": null,
            "border": null,
            "bottom": null,
            "display": null,
            "flex": null,
            "flex_flow": null,
            "grid_area": null,
            "grid_auto_columns": null,
            "grid_auto_flow": null,
            "grid_auto_rows": null,
            "grid_column": null,
            "grid_gap": null,
            "grid_row": null,
            "grid_template_areas": null,
            "grid_template_columns": null,
            "grid_template_rows": null,
            "height": null,
            "justify_content": null,
            "justify_items": null,
            "left": null,
            "margin": null,
            "max_height": null,
            "max_width": null,
            "min_height": null,
            "min_width": null,
            "object_fit": null,
            "object_position": null,
            "order": null,
            "overflow": null,
            "overflow_x": null,
            "overflow_y": null,
            "padding": null,
            "right": null,
            "top": null,
            "visibility": null,
            "width": null
          }
        },
        "444a2fe053b14ff5995dfc9fbadd3b8f": {
          "model_module": "@jupyter-widgets/controls",
          "model_name": "ProgressStyleModel",
          "model_module_version": "1.5.0",
          "state": {
            "_model_module": "@jupyter-widgets/controls",
            "_model_module_version": "1.5.0",
            "_model_name": "ProgressStyleModel",
            "_view_count": null,
            "_view_module": "@jupyter-widgets/base",
            "_view_module_version": "1.2.0",
            "_view_name": "StyleView",
            "bar_color": null,
            "description_width": ""
          }
        },
        "e28388f5b1ca41dfb8f017beb8bd7769": {
          "model_module": "@jupyter-widgets/base",
          "model_name": "LayoutModel",
          "model_module_version": "1.2.0",
          "state": {
            "_model_module": "@jupyter-widgets/base",
            "_model_module_version": "1.2.0",
            "_model_name": "LayoutModel",
            "_view_count": null,
            "_view_module": "@jupyter-widgets/base",
            "_view_module_version": "1.2.0",
            "_view_name": "LayoutView",
            "align_content": null,
            "align_items": null,
            "align_self": null,
            "border": null,
            "bottom": null,
            "display": null,
            "flex": null,
            "flex_flow": null,
            "grid_area": null,
            "grid_auto_columns": null,
            "grid_auto_flow": null,
            "grid_auto_rows": null,
            "grid_column": null,
            "grid_gap": null,
            "grid_row": null,
            "grid_template_areas": null,
            "grid_template_columns": null,
            "grid_template_rows": null,
            "height": null,
            "justify_content": null,
            "justify_items": null,
            "left": null,
            "margin": null,
            "max_height": null,
            "max_width": null,
            "min_height": null,
            "min_width": null,
            "object_fit": null,
            "object_position": null,
            "order": null,
            "overflow": null,
            "overflow_x": null,
            "overflow_y": null,
            "padding": null,
            "right": null,
            "top": null,
            "visibility": null,
            "width": null
          }
        },
        "17870e2c4f484b5792f76e4ea6c74481": {
          "model_module": "@jupyter-widgets/controls",
          "model_name": "DescriptionStyleModel",
          "model_module_version": "1.5.0",
          "state": {
            "_model_module": "@jupyter-widgets/controls",
            "_model_module_version": "1.5.0",
            "_model_name": "DescriptionStyleModel",
            "_view_count": null,
            "_view_module": "@jupyter-widgets/base",
            "_view_module_version": "1.2.0",
            "_view_name": "StyleView",
            "description_width": ""
          }
        },
        "624dcce923fe4afda73ac159cc2c50a1": {
          "model_module": "@jupyter-widgets/controls",
          "model_name": "HBoxModel",
          "model_module_version": "1.5.0",
          "state": {
            "_dom_classes": [],
            "_model_module": "@jupyter-widgets/controls",
            "_model_module_version": "1.5.0",
            "_model_name": "HBoxModel",
            "_view_count": null,
            "_view_module": "@jupyter-widgets/controls",
            "_view_module_version": "1.5.0",
            "_view_name": "HBoxView",
            "box_style": "",
            "children": [
              "IPY_MODEL_89f17443b08d49d185a89fd282476d73",
              "IPY_MODEL_d0146334575a4c15a82b72c77ce5208c",
              "IPY_MODEL_ab1e2ba4ff83495b8e893859b2965289"
            ],
            "layout": "IPY_MODEL_4112ecba54c64d55a2f9cba30bfca08e"
          }
        },
        "89f17443b08d49d185a89fd282476d73": {
          "model_module": "@jupyter-widgets/controls",
          "model_name": "HTMLModel",
          "model_module_version": "1.5.0",
          "state": {
            "_dom_classes": [],
            "_model_module": "@jupyter-widgets/controls",
            "_model_module_version": "1.5.0",
            "_model_name": "HTMLModel",
            "_view_count": null,
            "_view_module": "@jupyter-widgets/controls",
            "_view_module_version": "1.5.0",
            "_view_name": "HTMLView",
            "description": "",
            "description_tooltip": null,
            "layout": "IPY_MODEL_b801141ef8654278ba9b1d2db1faee5c",
            "placeholder": "​",
            "style": "IPY_MODEL_0bafff4dec4947d5a5e9e6de89a4c727",
            "value": "Filter: 100%"
          }
        },
        "d0146334575a4c15a82b72c77ce5208c": {
          "model_module": "@jupyter-widgets/controls",
          "model_name": "FloatProgressModel",
          "model_module_version": "1.5.0",
          "state": {
            "_dom_classes": [],
            "_model_module": "@jupyter-widgets/controls",
            "_model_module_version": "1.5.0",
            "_model_name": "FloatProgressModel",
            "_view_count": null,
            "_view_module": "@jupyter-widgets/controls",
            "_view_module_version": "1.5.0",
            "_view_name": "ProgressView",
            "bar_style": "success",
            "description": "",
            "description_tooltip": null,
            "layout": "IPY_MODEL_56d55b822d2748049ef4ef82728f9ceb",
            "max": 3000,
            "min": 0,
            "orientation": "horizontal",
            "style": "IPY_MODEL_47c2fb449be7489990dbc9c13b0141ee",
            "value": 3000
          }
        },
        "ab1e2ba4ff83495b8e893859b2965289": {
          "model_module": "@jupyter-widgets/controls",
          "model_name": "HTMLModel",
          "model_module_version": "1.5.0",
          "state": {
            "_dom_classes": [],
            "_model_module": "@jupyter-widgets/controls",
            "_model_module_version": "1.5.0",
            "_model_name": "HTMLModel",
            "_view_count": null,
            "_view_module": "@jupyter-widgets/controls",
            "_view_module_version": "1.5.0",
            "_view_name": "HTMLView",
            "description": "",
            "description_tooltip": null,
            "layout": "IPY_MODEL_a792e12b6a3f4d829910dc8f3793e216",
            "placeholder": "​",
            "style": "IPY_MODEL_5bac805d2e6c4de29f892f106ba8bf12",
            "value": " 3000/3000 [00:00&lt;00:00, 130917.90 examples/s]"
          }
        },
        "4112ecba54c64d55a2f9cba30bfca08e": {
          "model_module": "@jupyter-widgets/base",
          "model_name": "LayoutModel",
          "model_module_version": "1.2.0",
          "state": {
            "_model_module": "@jupyter-widgets/base",
            "_model_module_version": "1.2.0",
            "_model_name": "LayoutModel",
            "_view_count": null,
            "_view_module": "@jupyter-widgets/base",
            "_view_module_version": "1.2.0",
            "_view_name": "LayoutView",
            "align_content": null,
            "align_items": null,
            "align_self": null,
            "border": null,
            "bottom": null,
            "display": null,
            "flex": null,
            "flex_flow": null,
            "grid_area": null,
            "grid_auto_columns": null,
            "grid_auto_flow": null,
            "grid_auto_rows": null,
            "grid_column": null,
            "grid_gap": null,
            "grid_row": null,
            "grid_template_areas": null,
            "grid_template_columns": null,
            "grid_template_rows": null,
            "height": null,
            "justify_content": null,
            "justify_items": null,
            "left": null,
            "margin": null,
            "max_height": null,
            "max_width": null,
            "min_height": null,
            "min_width": null,
            "object_fit": null,
            "object_position": null,
            "order": null,
            "overflow": null,
            "overflow_x": null,
            "overflow_y": null,
            "padding": null,
            "right": null,
            "top": null,
            "visibility": null,
            "width": null
          }
        },
        "b801141ef8654278ba9b1d2db1faee5c": {
          "model_module": "@jupyter-widgets/base",
          "model_name": "LayoutModel",
          "model_module_version": "1.2.0",
          "state": {
            "_model_module": "@jupyter-widgets/base",
            "_model_module_version": "1.2.0",
            "_model_name": "LayoutModel",
            "_view_count": null,
            "_view_module": "@jupyter-widgets/base",
            "_view_module_version": "1.2.0",
            "_view_name": "LayoutView",
            "align_content": null,
            "align_items": null,
            "align_self": null,
            "border": null,
            "bottom": null,
            "display": null,
            "flex": null,
            "flex_flow": null,
            "grid_area": null,
            "grid_auto_columns": null,
            "grid_auto_flow": null,
            "grid_auto_rows": null,
            "grid_column": null,
            "grid_gap": null,
            "grid_row": null,
            "grid_template_areas": null,
            "grid_template_columns": null,
            "grid_template_rows": null,
            "height": null,
            "justify_content": null,
            "justify_items": null,
            "left": null,
            "margin": null,
            "max_height": null,
            "max_width": null,
            "min_height": null,
            "min_width": null,
            "object_fit": null,
            "object_position": null,
            "order": null,
            "overflow": null,
            "overflow_x": null,
            "overflow_y": null,
            "padding": null,
            "right": null,
            "top": null,
            "visibility": null,
            "width": null
          }
        },
        "0bafff4dec4947d5a5e9e6de89a4c727": {
          "model_module": "@jupyter-widgets/controls",
          "model_name": "DescriptionStyleModel",
          "model_module_version": "1.5.0",
          "state": {
            "_model_module": "@jupyter-widgets/controls",
            "_model_module_version": "1.5.0",
            "_model_name": "DescriptionStyleModel",
            "_view_count": null,
            "_view_module": "@jupyter-widgets/base",
            "_view_module_version": "1.2.0",
            "_view_name": "StyleView",
            "description_width": ""
          }
        },
        "56d55b822d2748049ef4ef82728f9ceb": {
          "model_module": "@jupyter-widgets/base",
          "model_name": "LayoutModel",
          "model_module_version": "1.2.0",
          "state": {
            "_model_module": "@jupyter-widgets/base",
            "_model_module_version": "1.2.0",
            "_model_name": "LayoutModel",
            "_view_count": null,
            "_view_module": "@jupyter-widgets/base",
            "_view_module_version": "1.2.0",
            "_view_name": "LayoutView",
            "align_content": null,
            "align_items": null,
            "align_self": null,
            "border": null,
            "bottom": null,
            "display": null,
            "flex": null,
            "flex_flow": null,
            "grid_area": null,
            "grid_auto_columns": null,
            "grid_auto_flow": null,
            "grid_auto_rows": null,
            "grid_column": null,
            "grid_gap": null,
            "grid_row": null,
            "grid_template_areas": null,
            "grid_template_columns": null,
            "grid_template_rows": null,
            "height": null,
            "justify_content": null,
            "justify_items": null,
            "left": null,
            "margin": null,
            "max_height": null,
            "max_width": null,
            "min_height": null,
            "min_width": null,
            "object_fit": null,
            "object_position": null,
            "order": null,
            "overflow": null,
            "overflow_x": null,
            "overflow_y": null,
            "padding": null,
            "right": null,
            "top": null,
            "visibility": null,
            "width": null
          }
        },
        "47c2fb449be7489990dbc9c13b0141ee": {
          "model_module": "@jupyter-widgets/controls",
          "model_name": "ProgressStyleModel",
          "model_module_version": "1.5.0",
          "state": {
            "_model_module": "@jupyter-widgets/controls",
            "_model_module_version": "1.5.0",
            "_model_name": "ProgressStyleModel",
            "_view_count": null,
            "_view_module": "@jupyter-widgets/base",
            "_view_module_version": "1.2.0",
            "_view_name": "StyleView",
            "bar_color": null,
            "description_width": ""
          }
        },
        "a792e12b6a3f4d829910dc8f3793e216": {
          "model_module": "@jupyter-widgets/base",
          "model_name": "LayoutModel",
          "model_module_version": "1.2.0",
          "state": {
            "_model_module": "@jupyter-widgets/base",
            "_model_module_version": "1.2.0",
            "_model_name": "LayoutModel",
            "_view_count": null,
            "_view_module": "@jupyter-widgets/base",
            "_view_module_version": "1.2.0",
            "_view_name": "LayoutView",
            "align_content": null,
            "align_items": null,
            "align_self": null,
            "border": null,
            "bottom": null,
            "display": null,
            "flex": null,
            "flex_flow": null,
            "grid_area": null,
            "grid_auto_columns": null,
            "grid_auto_flow": null,
            "grid_auto_rows": null,
            "grid_column": null,
            "grid_gap": null,
            "grid_row": null,
            "grid_template_areas": null,
            "grid_template_columns": null,
            "grid_template_rows": null,
            "height": null,
            "justify_content": null,
            "justify_items": null,
            "left": null,
            "margin": null,
            "max_height": null,
            "max_width": null,
            "min_height": null,
            "min_width": null,
            "object_fit": null,
            "object_position": null,
            "order": null,
            "overflow": null,
            "overflow_x": null,
            "overflow_y": null,
            "padding": null,
            "right": null,
            "top": null,
            "visibility": null,
            "width": null
          }
        },
        "5bac805d2e6c4de29f892f106ba8bf12": {
          "model_module": "@jupyter-widgets/controls",
          "model_name": "DescriptionStyleModel",
          "model_module_version": "1.5.0",
          "state": {
            "_model_module": "@jupyter-widgets/controls",
            "_model_module_version": "1.5.0",
            "_model_name": "DescriptionStyleModel",
            "_view_count": null,
            "_view_module": "@jupyter-widgets/base",
            "_view_module_version": "1.2.0",
            "_view_name": "StyleView",
            "description_width": ""
          }
        },
        "64d66431363f40219035ffd1546026d1": {
          "model_module": "@jupyter-widgets/controls",
          "model_name": "HBoxModel",
          "model_module_version": "1.5.0",
          "state": {
            "_dom_classes": [],
            "_model_module": "@jupyter-widgets/controls",
            "_model_module_version": "1.5.0",
            "_model_name": "HBoxModel",
            "_view_count": null,
            "_view_module": "@jupyter-widgets/controls",
            "_view_module_version": "1.5.0",
            "_view_name": "HBoxView",
            "box_style": "",
            "children": [
              "IPY_MODEL_5379b33a968043d49d5cb9169fcc9eb3",
              "IPY_MODEL_3b1281931b0a4fb1a9d11da1a582c5a7",
              "IPY_MODEL_6541c4c9fcfd42ac825d08d993ca2371"
            ],
            "layout": "IPY_MODEL_69e226fb1b624b0fa61ddd0db2a77434"
          }
        },
        "5379b33a968043d49d5cb9169fcc9eb3": {
          "model_module": "@jupyter-widgets/controls",
          "model_name": "HTMLModel",
          "model_module_version": "1.5.0",
          "state": {
            "_dom_classes": [],
            "_model_module": "@jupyter-widgets/controls",
            "_model_module_version": "1.5.0",
            "_model_name": "HTMLModel",
            "_view_count": null,
            "_view_module": "@jupyter-widgets/controls",
            "_view_module_version": "1.5.0",
            "_view_name": "HTMLView",
            "description": "",
            "description_tooltip": null,
            "layout": "IPY_MODEL_c4fb9c7129fe43aea0d84f4f99b8aac5",
            "placeholder": "​",
            "style": "IPY_MODEL_ce95c80c874f49b491cabbec1fa354cd",
            "value": "Downloading builder script: "
          }
        },
        "3b1281931b0a4fb1a9d11da1a582c5a7": {
          "model_module": "@jupyter-widgets/controls",
          "model_name": "FloatProgressModel",
          "model_module_version": "1.5.0",
          "state": {
            "_dom_classes": [],
            "_model_module": "@jupyter-widgets/controls",
            "_model_module_version": "1.5.0",
            "_model_name": "FloatProgressModel",
            "_view_count": null,
            "_view_module": "@jupyter-widgets/controls",
            "_view_module_version": "1.5.0",
            "_view_name": "ProgressView",
            "bar_style": "success",
            "description": "",
            "description_tooltip": null,
            "layout": "IPY_MODEL_a9135218377d459b9f439926fc1c2130",
            "max": 1900,
            "min": 0,
            "orientation": "horizontal",
            "style": "IPY_MODEL_0859db15a55b48ab85de703a9cfdf694",
            "value": 1900
          }
        },
        "6541c4c9fcfd42ac825d08d993ca2371": {
          "model_module": "@jupyter-widgets/controls",
          "model_name": "HTMLModel",
          "model_module_version": "1.5.0",
          "state": {
            "_dom_classes": [],
            "_model_module": "@jupyter-widgets/controls",
            "_model_module_version": "1.5.0",
            "_model_name": "HTMLModel",
            "_view_count": null,
            "_view_module": "@jupyter-widgets/controls",
            "_view_module_version": "1.5.0",
            "_view_name": "HTMLView",
            "description": "",
            "description_tooltip": null,
            "layout": "IPY_MODEL_1a0d911aa4ae473c832b054754116aa5",
            "placeholder": "​",
            "style": "IPY_MODEL_582b56c2235148fd94a17e4e1780608b",
            "value": " 4.47k/? [00:00&lt;00:00, 329kB/s]"
          }
        },
        "69e226fb1b624b0fa61ddd0db2a77434": {
          "model_module": "@jupyter-widgets/base",
          "model_name": "LayoutModel",
          "model_module_version": "1.2.0",
          "state": {
            "_model_module": "@jupyter-widgets/base",
            "_model_module_version": "1.2.0",
            "_model_name": "LayoutModel",
            "_view_count": null,
            "_view_module": "@jupyter-widgets/base",
            "_view_module_version": "1.2.0",
            "_view_name": "LayoutView",
            "align_content": null,
            "align_items": null,
            "align_self": null,
            "border": null,
            "bottom": null,
            "display": null,
            "flex": null,
            "flex_flow": null,
            "grid_area": null,
            "grid_auto_columns": null,
            "grid_auto_flow": null,
            "grid_auto_rows": null,
            "grid_column": null,
            "grid_gap": null,
            "grid_row": null,
            "grid_template_areas": null,
            "grid_template_columns": null,
            "grid_template_rows": null,
            "height": null,
            "justify_content": null,
            "justify_items": null,
            "left": null,
            "margin": null,
            "max_height": null,
            "max_width": null,
            "min_height": null,
            "min_width": null,
            "object_fit": null,
            "object_position": null,
            "order": null,
            "overflow": null,
            "overflow_x": null,
            "overflow_y": null,
            "padding": null,
            "right": null,
            "top": null,
            "visibility": null,
            "width": null
          }
        },
        "c4fb9c7129fe43aea0d84f4f99b8aac5": {
          "model_module": "@jupyter-widgets/base",
          "model_name": "LayoutModel",
          "model_module_version": "1.2.0",
          "state": {
            "_model_module": "@jupyter-widgets/base",
            "_model_module_version": "1.2.0",
            "_model_name": "LayoutModel",
            "_view_count": null,
            "_view_module": "@jupyter-widgets/base",
            "_view_module_version": "1.2.0",
            "_view_name": "LayoutView",
            "align_content": null,
            "align_items": null,
            "align_self": null,
            "border": null,
            "bottom": null,
            "display": null,
            "flex": null,
            "flex_flow": null,
            "grid_area": null,
            "grid_auto_columns": null,
            "grid_auto_flow": null,
            "grid_auto_rows": null,
            "grid_column": null,
            "grid_gap": null,
            "grid_row": null,
            "grid_template_areas": null,
            "grid_template_columns": null,
            "grid_template_rows": null,
            "height": null,
            "justify_content": null,
            "justify_items": null,
            "left": null,
            "margin": null,
            "max_height": null,
            "max_width": null,
            "min_height": null,
            "min_width": null,
            "object_fit": null,
            "object_position": null,
            "order": null,
            "overflow": null,
            "overflow_x": null,
            "overflow_y": null,
            "padding": null,
            "right": null,
            "top": null,
            "visibility": null,
            "width": null
          }
        },
        "ce95c80c874f49b491cabbec1fa354cd": {
          "model_module": "@jupyter-widgets/controls",
          "model_name": "DescriptionStyleModel",
          "model_module_version": "1.5.0",
          "state": {
            "_model_module": "@jupyter-widgets/controls",
            "_model_module_version": "1.5.0",
            "_model_name": "DescriptionStyleModel",
            "_view_count": null,
            "_view_module": "@jupyter-widgets/base",
            "_view_module_version": "1.2.0",
            "_view_name": "StyleView",
            "description_width": ""
          }
        },
        "a9135218377d459b9f439926fc1c2130": {
          "model_module": "@jupyter-widgets/base",
          "model_name": "LayoutModel",
          "model_module_version": "1.2.0",
          "state": {
            "_model_module": "@jupyter-widgets/base",
            "_model_module_version": "1.2.0",
            "_model_name": "LayoutModel",
            "_view_count": null,
            "_view_module": "@jupyter-widgets/base",
            "_view_module_version": "1.2.0",
            "_view_name": "LayoutView",
            "align_content": null,
            "align_items": null,
            "align_self": null,
            "border": null,
            "bottom": null,
            "display": null,
            "flex": null,
            "flex_flow": null,
            "grid_area": null,
            "grid_auto_columns": null,
            "grid_auto_flow": null,
            "grid_auto_rows": null,
            "grid_column": null,
            "grid_gap": null,
            "grid_row": null,
            "grid_template_areas": null,
            "grid_template_columns": null,
            "grid_template_rows": null,
            "height": null,
            "justify_content": null,
            "justify_items": null,
            "left": null,
            "margin": null,
            "max_height": null,
            "max_width": null,
            "min_height": null,
            "min_width": null,
            "object_fit": null,
            "object_position": null,
            "order": null,
            "overflow": null,
            "overflow_x": null,
            "overflow_y": null,
            "padding": null,
            "right": null,
            "top": null,
            "visibility": null,
            "width": null
          }
        },
        "0859db15a55b48ab85de703a9cfdf694": {
          "model_module": "@jupyter-widgets/controls",
          "model_name": "ProgressStyleModel",
          "model_module_version": "1.5.0",
          "state": {
            "_model_module": "@jupyter-widgets/controls",
            "_model_module_version": "1.5.0",
            "_model_name": "ProgressStyleModel",
            "_view_count": null,
            "_view_module": "@jupyter-widgets/base",
            "_view_module_version": "1.2.0",
            "_view_name": "StyleView",
            "bar_color": null,
            "description_width": ""
          }
        },
        "1a0d911aa4ae473c832b054754116aa5": {
          "model_module": "@jupyter-widgets/base",
          "model_name": "LayoutModel",
          "model_module_version": "1.2.0",
          "state": {
            "_model_module": "@jupyter-widgets/base",
            "_model_module_version": "1.2.0",
            "_model_name": "LayoutModel",
            "_view_count": null,
            "_view_module": "@jupyter-widgets/base",
            "_view_module_version": "1.2.0",
            "_view_name": "LayoutView",
            "align_content": null,
            "align_items": null,
            "align_self": null,
            "border": null,
            "bottom": null,
            "display": null,
            "flex": null,
            "flex_flow": null,
            "grid_area": null,
            "grid_auto_columns": null,
            "grid_auto_flow": null,
            "grid_auto_rows": null,
            "grid_column": null,
            "grid_gap": null,
            "grid_row": null,
            "grid_template_areas": null,
            "grid_template_columns": null,
            "grid_template_rows": null,
            "height": null,
            "justify_content": null,
            "justify_items": null,
            "left": null,
            "margin": null,
            "max_height": null,
            "max_width": null,
            "min_height": null,
            "min_width": null,
            "object_fit": null,
            "object_position": null,
            "order": null,
            "overflow": null,
            "overflow_x": null,
            "overflow_y": null,
            "padding": null,
            "right": null,
            "top": null,
            "visibility": null,
            "width": null
          }
        },
        "582b56c2235148fd94a17e4e1780608b": {
          "model_module": "@jupyter-widgets/controls",
          "model_name": "DescriptionStyleModel",
          "model_module_version": "1.5.0",
          "state": {
            "_model_module": "@jupyter-widgets/controls",
            "_model_module_version": "1.5.0",
            "_model_name": "DescriptionStyleModel",
            "_view_count": null,
            "_view_module": "@jupyter-widgets/base",
            "_view_module_version": "1.2.0",
            "_view_name": "StyleView",
            "description_width": ""
          }
        },
        "afab338229fc4d0c8e20596976f97f46": {
          "model_module": "@jupyter-widgets/controls",
          "model_name": "HBoxModel",
          "model_module_version": "1.5.0",
          "state": {
            "_dom_classes": [],
            "_model_module": "@jupyter-widgets/controls",
            "_model_module_version": "1.5.0",
            "_model_name": "HBoxModel",
            "_view_count": null,
            "_view_module": "@jupyter-widgets/controls",
            "_view_module_version": "1.5.0",
            "_view_name": "HBoxView",
            "box_style": "",
            "children": [
              "IPY_MODEL_f52c611eb4aa406b9c427dc010bb3d4a",
              "IPY_MODEL_c352ed0d4f364693b4d91e5f816938f1",
              "IPY_MODEL_d2121b75d3fc41e08158594822127130"
            ],
            "layout": "IPY_MODEL_4899a64791db40c69278a524afb0b00a"
          }
        },
        "f52c611eb4aa406b9c427dc010bb3d4a": {
          "model_module": "@jupyter-widgets/controls",
          "model_name": "HTMLModel",
          "model_module_version": "1.5.0",
          "state": {
            "_dom_classes": [],
            "_model_module": "@jupyter-widgets/controls",
            "_model_module_version": "1.5.0",
            "_model_name": "HTMLModel",
            "_view_count": null,
            "_view_module": "@jupyter-widgets/controls",
            "_view_module_version": "1.5.0",
            "_view_name": "HTMLView",
            "description": "",
            "description_tooltip": null,
            "layout": "IPY_MODEL_69b302fcfde140fdb868f18a73784b72",
            "placeholder": "​",
            "style": "IPY_MODEL_17231727b444467aab57c441b820d949",
            "value": "config.json: 100%"
          }
        },
        "c352ed0d4f364693b4d91e5f816938f1": {
          "model_module": "@jupyter-widgets/controls",
          "model_name": "FloatProgressModel",
          "model_module_version": "1.5.0",
          "state": {
            "_dom_classes": [],
            "_model_module": "@jupyter-widgets/controls",
            "_model_module_version": "1.5.0",
            "_model_name": "FloatProgressModel",
            "_view_count": null,
            "_view_module": "@jupyter-widgets/controls",
            "_view_module_version": "1.5.0",
            "_view_name": "ProgressView",
            "bar_style": "success",
            "description": "",
            "description_tooltip": null,
            "layout": "IPY_MODEL_64bb3c04b329471da909ea1cda4ed26a",
            "max": 843,
            "min": 0,
            "orientation": "horizontal",
            "style": "IPY_MODEL_516e369f619341dea19f2d53ae2e1227",
            "value": 843
          }
        },
        "d2121b75d3fc41e08158594822127130": {
          "model_module": "@jupyter-widgets/controls",
          "model_name": "HTMLModel",
          "model_module_version": "1.5.0",
          "state": {
            "_dom_classes": [],
            "_model_module": "@jupyter-widgets/controls",
            "_model_module_version": "1.5.0",
            "_model_name": "HTMLModel",
            "_view_count": null,
            "_view_module": "@jupyter-widgets/controls",
            "_view_module_version": "1.5.0",
            "_view_name": "HTMLView",
            "description": "",
            "description_tooltip": null,
            "layout": "IPY_MODEL_98c20537622e4652a0636459b07b8ada",
            "placeholder": "​",
            "style": "IPY_MODEL_ac6a349f43904096a993bde5c5425228",
            "value": " 843/843 [00:00&lt;00:00, 70.9kB/s]"
          }
        },
        "4899a64791db40c69278a524afb0b00a": {
          "model_module": "@jupyter-widgets/base",
          "model_name": "LayoutModel",
          "model_module_version": "1.2.0",
          "state": {
            "_model_module": "@jupyter-widgets/base",
            "_model_module_version": "1.2.0",
            "_model_name": "LayoutModel",
            "_view_count": null,
            "_view_module": "@jupyter-widgets/base",
            "_view_module_version": "1.2.0",
            "_view_name": "LayoutView",
            "align_content": null,
            "align_items": null,
            "align_self": null,
            "border": null,
            "bottom": null,
            "display": null,
            "flex": null,
            "flex_flow": null,
            "grid_area": null,
            "grid_auto_columns": null,
            "grid_auto_flow": null,
            "grid_auto_rows": null,
            "grid_column": null,
            "grid_gap": null,
            "grid_row": null,
            "grid_template_areas": null,
            "grid_template_columns": null,
            "grid_template_rows": null,
            "height": null,
            "justify_content": null,
            "justify_items": null,
            "left": null,
            "margin": null,
            "max_height": null,
            "max_width": null,
            "min_height": null,
            "min_width": null,
            "object_fit": null,
            "object_position": null,
            "order": null,
            "overflow": null,
            "overflow_x": null,
            "overflow_y": null,
            "padding": null,
            "right": null,
            "top": null,
            "visibility": null,
            "width": null
          }
        },
        "69b302fcfde140fdb868f18a73784b72": {
          "model_module": "@jupyter-widgets/base",
          "model_name": "LayoutModel",
          "model_module_version": "1.2.0",
          "state": {
            "_model_module": "@jupyter-widgets/base",
            "_model_module_version": "1.2.0",
            "_model_name": "LayoutModel",
            "_view_count": null,
            "_view_module": "@jupyter-widgets/base",
            "_view_module_version": "1.2.0",
            "_view_name": "LayoutView",
            "align_content": null,
            "align_items": null,
            "align_self": null,
            "border": null,
            "bottom": null,
            "display": null,
            "flex": null,
            "flex_flow": null,
            "grid_area": null,
            "grid_auto_columns": null,
            "grid_auto_flow": null,
            "grid_auto_rows": null,
            "grid_column": null,
            "grid_gap": null,
            "grid_row": null,
            "grid_template_areas": null,
            "grid_template_columns": null,
            "grid_template_rows": null,
            "height": null,
            "justify_content": null,
            "justify_items": null,
            "left": null,
            "margin": null,
            "max_height": null,
            "max_width": null,
            "min_height": null,
            "min_width": null,
            "object_fit": null,
            "object_position": null,
            "order": null,
            "overflow": null,
            "overflow_x": null,
            "overflow_y": null,
            "padding": null,
            "right": null,
            "top": null,
            "visibility": null,
            "width": null
          }
        },
        "17231727b444467aab57c441b820d949": {
          "model_module": "@jupyter-widgets/controls",
          "model_name": "DescriptionStyleModel",
          "model_module_version": "1.5.0",
          "state": {
            "_model_module": "@jupyter-widgets/controls",
            "_model_module_version": "1.5.0",
            "_model_name": "DescriptionStyleModel",
            "_view_count": null,
            "_view_module": "@jupyter-widgets/base",
            "_view_module_version": "1.2.0",
            "_view_name": "StyleView",
            "description_width": ""
          }
        },
        "64bb3c04b329471da909ea1cda4ed26a": {
          "model_module": "@jupyter-widgets/base",
          "model_name": "LayoutModel",
          "model_module_version": "1.2.0",
          "state": {
            "_model_module": "@jupyter-widgets/base",
            "_model_module_version": "1.2.0",
            "_model_name": "LayoutModel",
            "_view_count": null,
            "_view_module": "@jupyter-widgets/base",
            "_view_module_version": "1.2.0",
            "_view_name": "LayoutView",
            "align_content": null,
            "align_items": null,
            "align_self": null,
            "border": null,
            "bottom": null,
            "display": null,
            "flex": null,
            "flex_flow": null,
            "grid_area": null,
            "grid_auto_columns": null,
            "grid_auto_flow": null,
            "grid_auto_rows": null,
            "grid_column": null,
            "grid_gap": null,
            "grid_row": null,
            "grid_template_areas": null,
            "grid_template_columns": null,
            "grid_template_rows": null,
            "height": null,
            "justify_content": null,
            "justify_items": null,
            "left": null,
            "margin": null,
            "max_height": null,
            "max_width": null,
            "min_height": null,
            "min_width": null,
            "object_fit": null,
            "object_position": null,
            "order": null,
            "overflow": null,
            "overflow_x": null,
            "overflow_y": null,
            "padding": null,
            "right": null,
            "top": null,
            "visibility": null,
            "width": null
          }
        },
        "516e369f619341dea19f2d53ae2e1227": {
          "model_module": "@jupyter-widgets/controls",
          "model_name": "ProgressStyleModel",
          "model_module_version": "1.5.0",
          "state": {
            "_model_module": "@jupyter-widgets/controls",
            "_model_module_version": "1.5.0",
            "_model_name": "ProgressStyleModel",
            "_view_count": null,
            "_view_module": "@jupyter-widgets/base",
            "_view_module_version": "1.2.0",
            "_view_name": "StyleView",
            "bar_color": null,
            "description_width": ""
          }
        },
        "98c20537622e4652a0636459b07b8ada": {
          "model_module": "@jupyter-widgets/base",
          "model_name": "LayoutModel",
          "model_module_version": "1.2.0",
          "state": {
            "_model_module": "@jupyter-widgets/base",
            "_model_module_version": "1.2.0",
            "_model_name": "LayoutModel",
            "_view_count": null,
            "_view_module": "@jupyter-widgets/base",
            "_view_module_version": "1.2.0",
            "_view_name": "LayoutView",
            "align_content": null,
            "align_items": null,
            "align_self": null,
            "border": null,
            "bottom": null,
            "display": null,
            "flex": null,
            "flex_flow": null,
            "grid_area": null,
            "grid_auto_columns": null,
            "grid_auto_flow": null,
            "grid_auto_rows": null,
            "grid_column": null,
            "grid_gap": null,
            "grid_row": null,
            "grid_template_areas": null,
            "grid_template_columns": null,
            "grid_template_rows": null,
            "height": null,
            "justify_content": null,
            "justify_items": null,
            "left": null,
            "margin": null,
            "max_height": null,
            "max_width": null,
            "min_height": null,
            "min_width": null,
            "object_fit": null,
            "object_position": null,
            "order": null,
            "overflow": null,
            "overflow_x": null,
            "overflow_y": null,
            "padding": null,
            "right": null,
            "top": null,
            "visibility": null,
            "width": null
          }
        },
        "ac6a349f43904096a993bde5c5425228": {
          "model_module": "@jupyter-widgets/controls",
          "model_name": "DescriptionStyleModel",
          "model_module_version": "1.5.0",
          "state": {
            "_model_module": "@jupyter-widgets/controls",
            "_model_module_version": "1.5.0",
            "_model_name": "DescriptionStyleModel",
            "_view_count": null,
            "_view_module": "@jupyter-widgets/base",
            "_view_module_version": "1.2.0",
            "_view_name": "StyleView",
            "description_width": ""
          }
        },
        "beffaa7cd54747dfbe9f8375232331df": {
          "model_module": "@jupyter-widgets/controls",
          "model_name": "HBoxModel",
          "model_module_version": "1.5.0",
          "state": {
            "_dom_classes": [],
            "_model_module": "@jupyter-widgets/controls",
            "_model_module_version": "1.5.0",
            "_model_name": "HBoxModel",
            "_view_count": null,
            "_view_module": "@jupyter-widgets/controls",
            "_view_module_version": "1.5.0",
            "_view_name": "HBoxView",
            "box_style": "",
            "children": [
              "IPY_MODEL_8539738a60514e2b9f750ce4a9e3b416",
              "IPY_MODEL_74a29ffef0c049cdb692c10db8f3dece",
              "IPY_MODEL_1fdb954f48884ea991b7ff424e28b2b2"
            ],
            "layout": "IPY_MODEL_1982870f0cf54fc89dbcbf418db99c9b"
          }
        },
        "8539738a60514e2b9f750ce4a9e3b416": {
          "model_module": "@jupyter-widgets/controls",
          "model_name": "HTMLModel",
          "model_module_version": "1.5.0",
          "state": {
            "_dom_classes": [],
            "_model_module": "@jupyter-widgets/controls",
            "_model_module_version": "1.5.0",
            "_model_name": "HTMLModel",
            "_view_count": null,
            "_view_module": "@jupyter-widgets/controls",
            "_view_module_version": "1.5.0",
            "_view_name": "HTMLView",
            "description": "",
            "description_tooltip": null,
            "layout": "IPY_MODEL_1a712cd6979e480293c5cfc697d3bf7d",
            "placeholder": "​",
            "style": "IPY_MODEL_810a013fb6f0420a85c2776516e0d159",
            "value": "pytorch_model.bin: 100%"
          }
        },
        "74a29ffef0c049cdb692c10db8f3dece": {
          "model_module": "@jupyter-widgets/controls",
          "model_name": "FloatProgressModel",
          "model_module_version": "1.5.0",
          "state": {
            "_dom_classes": [],
            "_model_module": "@jupyter-widgets/controls",
            "_model_module_version": "1.5.0",
            "_model_name": "FloatProgressModel",
            "_view_count": null,
            "_view_module": "@jupyter-widgets/controls",
            "_view_module_version": "1.5.0",
            "_view_name": "ProgressView",
            "bar_style": "success",
            "description": "",
            "description_tooltip": null,
            "layout": "IPY_MODEL_237e82bb44db4489a0882f1ac0c7decd",
            "max": 1262009187,
            "min": 0,
            "orientation": "horizontal",
            "style": "IPY_MODEL_3134b227d3184e578e973a01a8ca33ce",
            "value": 1262009187
          }
        },
        "1fdb954f48884ea991b7ff424e28b2b2": {
          "model_module": "@jupyter-widgets/controls",
          "model_name": "HTMLModel",
          "model_module_version": "1.5.0",
          "state": {
            "_dom_classes": [],
            "_model_module": "@jupyter-widgets/controls",
            "_model_module_version": "1.5.0",
            "_model_name": "HTMLModel",
            "_view_count": null,
            "_view_module": "@jupyter-widgets/controls",
            "_view_module_version": "1.5.0",
            "_view_name": "HTMLView",
            "description": "",
            "description_tooltip": null,
            "layout": "IPY_MODEL_698324a34a664192af042692b14b9ce2",
            "placeholder": "​",
            "style": "IPY_MODEL_d6d6263cd25749c496107d17140ff045",
            "value": " 1.26G/1.26G [00:04&lt;00:00, 305MB/s]"
          }
        },
        "1982870f0cf54fc89dbcbf418db99c9b": {
          "model_module": "@jupyter-widgets/base",
          "model_name": "LayoutModel",
          "model_module_version": "1.2.0",
          "state": {
            "_model_module": "@jupyter-widgets/base",
            "_model_module_version": "1.2.0",
            "_model_name": "LayoutModel",
            "_view_count": null,
            "_view_module": "@jupyter-widgets/base",
            "_view_module_version": "1.2.0",
            "_view_name": "LayoutView",
            "align_content": null,
            "align_items": null,
            "align_self": null,
            "border": null,
            "bottom": null,
            "display": null,
            "flex": null,
            "flex_flow": null,
            "grid_area": null,
            "grid_auto_columns": null,
            "grid_auto_flow": null,
            "grid_auto_rows": null,
            "grid_column": null,
            "grid_gap": null,
            "grid_row": null,
            "grid_template_areas": null,
            "grid_template_columns": null,
            "grid_template_rows": null,
            "height": null,
            "justify_content": null,
            "justify_items": null,
            "left": null,
            "margin": null,
            "max_height": null,
            "max_width": null,
            "min_height": null,
            "min_width": null,
            "object_fit": null,
            "object_position": null,
            "order": null,
            "overflow": null,
            "overflow_x": null,
            "overflow_y": null,
            "padding": null,
            "right": null,
            "top": null,
            "visibility": null,
            "width": null
          }
        },
        "1a712cd6979e480293c5cfc697d3bf7d": {
          "model_module": "@jupyter-widgets/base",
          "model_name": "LayoutModel",
          "model_module_version": "1.2.0",
          "state": {
            "_model_module": "@jupyter-widgets/base",
            "_model_module_version": "1.2.0",
            "_model_name": "LayoutModel",
            "_view_count": null,
            "_view_module": "@jupyter-widgets/base",
            "_view_module_version": "1.2.0",
            "_view_name": "LayoutView",
            "align_content": null,
            "align_items": null,
            "align_self": null,
            "border": null,
            "bottom": null,
            "display": null,
            "flex": null,
            "flex_flow": null,
            "grid_area": null,
            "grid_auto_columns": null,
            "grid_auto_flow": null,
            "grid_auto_rows": null,
            "grid_column": null,
            "grid_gap": null,
            "grid_row": null,
            "grid_template_areas": null,
            "grid_template_columns": null,
            "grid_template_rows": null,
            "height": null,
            "justify_content": null,
            "justify_items": null,
            "left": null,
            "margin": null,
            "max_height": null,
            "max_width": null,
            "min_height": null,
            "min_width": null,
            "object_fit": null,
            "object_position": null,
            "order": null,
            "overflow": null,
            "overflow_x": null,
            "overflow_y": null,
            "padding": null,
            "right": null,
            "top": null,
            "visibility": null,
            "width": null
          }
        },
        "810a013fb6f0420a85c2776516e0d159": {
          "model_module": "@jupyter-widgets/controls",
          "model_name": "DescriptionStyleModel",
          "model_module_version": "1.5.0",
          "state": {
            "_model_module": "@jupyter-widgets/controls",
            "_model_module_version": "1.5.0",
            "_model_name": "DescriptionStyleModel",
            "_view_count": null,
            "_view_module": "@jupyter-widgets/base",
            "_view_module_version": "1.2.0",
            "_view_name": "StyleView",
            "description_width": ""
          }
        },
        "237e82bb44db4489a0882f1ac0c7decd": {
          "model_module": "@jupyter-widgets/base",
          "model_name": "LayoutModel",
          "model_module_version": "1.2.0",
          "state": {
            "_model_module": "@jupyter-widgets/base",
            "_model_module_version": "1.2.0",
            "_model_name": "LayoutModel",
            "_view_count": null,
            "_view_module": "@jupyter-widgets/base",
            "_view_module_version": "1.2.0",
            "_view_name": "LayoutView",
            "align_content": null,
            "align_items": null,
            "align_self": null,
            "border": null,
            "bottom": null,
            "display": null,
            "flex": null,
            "flex_flow": null,
            "grid_area": null,
            "grid_auto_columns": null,
            "grid_auto_flow": null,
            "grid_auto_rows": null,
            "grid_column": null,
            "grid_gap": null,
            "grid_row": null,
            "grid_template_areas": null,
            "grid_template_columns": null,
            "grid_template_rows": null,
            "height": null,
            "justify_content": null,
            "justify_items": null,
            "left": null,
            "margin": null,
            "max_height": null,
            "max_width": null,
            "min_height": null,
            "min_width": null,
            "object_fit": null,
            "object_position": null,
            "order": null,
            "overflow": null,
            "overflow_x": null,
            "overflow_y": null,
            "padding": null,
            "right": null,
            "top": null,
            "visibility": null,
            "width": null
          }
        },
        "3134b227d3184e578e973a01a8ca33ce": {
          "model_module": "@jupyter-widgets/controls",
          "model_name": "ProgressStyleModel",
          "model_module_version": "1.5.0",
          "state": {
            "_model_module": "@jupyter-widgets/controls",
            "_model_module_version": "1.5.0",
            "_model_name": "ProgressStyleModel",
            "_view_count": null,
            "_view_module": "@jupyter-widgets/base",
            "_view_module_version": "1.2.0",
            "_view_name": "StyleView",
            "bar_color": null,
            "description_width": ""
          }
        },
        "698324a34a664192af042692b14b9ce2": {
          "model_module": "@jupyter-widgets/base",
          "model_name": "LayoutModel",
          "model_module_version": "1.2.0",
          "state": {
            "_model_module": "@jupyter-widgets/base",
            "_model_module_version": "1.2.0",
            "_model_name": "LayoutModel",
            "_view_count": null,
            "_view_module": "@jupyter-widgets/base",
            "_view_module_version": "1.2.0",
            "_view_name": "LayoutView",
            "align_content": null,
            "align_items": null,
            "align_self": null,
            "border": null,
            "bottom": null,
            "display": null,
            "flex": null,
            "flex_flow": null,
            "grid_area": null,
            "grid_auto_columns": null,
            "grid_auto_flow": null,
            "grid_auto_rows": null,
            "grid_column": null,
            "grid_gap": null,
            "grid_row": null,
            "grid_template_areas": null,
            "grid_template_columns": null,
            "grid_template_rows": null,
            "height": null,
            "justify_content": null,
            "justify_items": null,
            "left": null,
            "margin": null,
            "max_height": null,
            "max_width": null,
            "min_height": null,
            "min_width": null,
            "object_fit": null,
            "object_position": null,
            "order": null,
            "overflow": null,
            "overflow_x": null,
            "overflow_y": null,
            "padding": null,
            "right": null,
            "top": null,
            "visibility": null,
            "width": null
          }
        },
        "d6d6263cd25749c496107d17140ff045": {
          "model_module": "@jupyter-widgets/controls",
          "model_name": "DescriptionStyleModel",
          "model_module_version": "1.5.0",
          "state": {
            "_model_module": "@jupyter-widgets/controls",
            "_model_module_version": "1.5.0",
            "_model_name": "DescriptionStyleModel",
            "_view_count": null,
            "_view_module": "@jupyter-widgets/base",
            "_view_module_version": "1.2.0",
            "_view_name": "StyleView",
            "description_width": ""
          }
        }
      }
    }
  },
  "cells": [
    {
      "cell_type": "markdown",
      "source": [
        "#Finetuning Wav2Vec2 using Common Voice data\n",
        "\n",
        "This training script was run in colab.\n",
        "\n"
      ],
      "metadata": {
        "id": "6o4IsoGp7b4O"
      }
    },
    {
      "cell_type": "code",
      "execution_count": 1,
      "metadata": {
        "colab": {
          "base_uri": "https://localhost:8080/"
        },
        "collapsed": true,
        "id": "sMeKhmEi7Izt",
        "outputId": "a2607959-b5b9-416e-bbce-4cf51e3e6519"
      },
      "outputs": [
        {
          "output_type": "stream",
          "name": "stdout",
          "text": [
            "Collecting datasets\n",
            "  Downloading datasets-2.21.0-py3-none-any.whl.metadata (21 kB)\n",
            "Requirement already satisfied: filelock in /usr/local/lib/python3.10/dist-packages (from datasets) (3.15.4)\n",
            "Requirement already satisfied: numpy>=1.17 in /usr/local/lib/python3.10/dist-packages (from datasets) (1.26.4)\n",
            "Collecting pyarrow>=15.0.0 (from datasets)\n",
            "  Downloading pyarrow-17.0.0-cp310-cp310-manylinux_2_28_x86_64.whl.metadata (3.3 kB)\n",
            "Collecting dill<0.3.9,>=0.3.0 (from datasets)\n",
            "  Downloading dill-0.3.8-py3-none-any.whl.metadata (10 kB)\n",
            "Requirement already satisfied: pandas in /usr/local/lib/python3.10/dist-packages (from datasets) (2.1.4)\n",
            "Requirement already satisfied: requests>=2.32.2 in /usr/local/lib/python3.10/dist-packages (from datasets) (2.32.3)\n",
            "Requirement already satisfied: tqdm>=4.66.3 in /usr/local/lib/python3.10/dist-packages (from datasets) (4.66.5)\n",
            "Collecting xxhash (from datasets)\n",
            "  Downloading xxhash-3.5.0-cp310-cp310-manylinux_2_17_x86_64.manylinux2014_x86_64.whl.metadata (12 kB)\n",
            "Collecting multiprocess (from datasets)\n",
            "  Downloading multiprocess-0.70.16-py310-none-any.whl.metadata (7.2 kB)\n",
            "Requirement already satisfied: fsspec<=2024.6.1,>=2023.1.0 in /usr/local/lib/python3.10/dist-packages (from fsspec[http]<=2024.6.1,>=2023.1.0->datasets) (2024.6.1)\n",
            "Requirement already satisfied: aiohttp in /usr/local/lib/python3.10/dist-packages (from datasets) (3.10.5)\n",
            "Requirement already satisfied: huggingface-hub>=0.21.2 in /usr/local/lib/python3.10/dist-packages (from datasets) (0.23.5)\n",
            "Requirement already satisfied: packaging in /usr/local/lib/python3.10/dist-packages (from datasets) (24.1)\n",
            "Requirement already satisfied: pyyaml>=5.1 in /usr/local/lib/python3.10/dist-packages (from datasets) (6.0.2)\n",
            "Requirement already satisfied: aiohappyeyeballs>=2.3.0 in /usr/local/lib/python3.10/dist-packages (from aiohttp->datasets) (2.4.0)\n",
            "Requirement already satisfied: aiosignal>=1.1.2 in /usr/local/lib/python3.10/dist-packages (from aiohttp->datasets) (1.3.1)\n",
            "Requirement already satisfied: attrs>=17.3.0 in /usr/local/lib/python3.10/dist-packages (from aiohttp->datasets) (24.2.0)\n",
            "Requirement already satisfied: frozenlist>=1.1.1 in /usr/local/lib/python3.10/dist-packages (from aiohttp->datasets) (1.4.1)\n",
            "Requirement already satisfied: multidict<7.0,>=4.5 in /usr/local/lib/python3.10/dist-packages (from aiohttp->datasets) (6.0.5)\n",
            "Requirement already satisfied: yarl<2.0,>=1.0 in /usr/local/lib/python3.10/dist-packages (from aiohttp->datasets) (1.9.4)\n",
            "Requirement already satisfied: async-timeout<5.0,>=4.0 in /usr/local/lib/python3.10/dist-packages (from aiohttp->datasets) (4.0.3)\n",
            "Requirement already satisfied: typing-extensions>=3.7.4.3 in /usr/local/lib/python3.10/dist-packages (from huggingface-hub>=0.21.2->datasets) (4.12.2)\n",
            "Requirement already satisfied: charset-normalizer<4,>=2 in /usr/local/lib/python3.10/dist-packages (from requests>=2.32.2->datasets) (3.3.2)\n",
            "Requirement already satisfied: idna<4,>=2.5 in /usr/local/lib/python3.10/dist-packages (from requests>=2.32.2->datasets) (3.8)\n",
            "Requirement already satisfied: urllib3<3,>=1.21.1 in /usr/local/lib/python3.10/dist-packages (from requests>=2.32.2->datasets) (2.0.7)\n",
            "Requirement already satisfied: certifi>=2017.4.17 in /usr/local/lib/python3.10/dist-packages (from requests>=2.32.2->datasets) (2024.7.4)\n",
            "Requirement already satisfied: python-dateutil>=2.8.2 in /usr/local/lib/python3.10/dist-packages (from pandas->datasets) (2.8.2)\n",
            "Requirement already satisfied: pytz>=2020.1 in /usr/local/lib/python3.10/dist-packages (from pandas->datasets) (2024.1)\n",
            "Requirement already satisfied: tzdata>=2022.1 in /usr/local/lib/python3.10/dist-packages (from pandas->datasets) (2024.1)\n",
            "Requirement already satisfied: six>=1.5 in /usr/local/lib/python3.10/dist-packages (from python-dateutil>=2.8.2->pandas->datasets) (1.16.0)\n",
            "Downloading datasets-2.21.0-py3-none-any.whl (527 kB)\n",
            "\u001b[2K   \u001b[90m━━━━━━━━━━━━━━━━━━━━━━━━━━━━━━━━━━━━━━━━\u001b[0m \u001b[32m527.3/527.3 kB\u001b[0m \u001b[31m28.0 MB/s\u001b[0m eta \u001b[36m0:00:00\u001b[0m\n",
            "\u001b[?25hDownloading dill-0.3.8-py3-none-any.whl (116 kB)\n",
            "\u001b[2K   \u001b[90m━━━━━━━━━━━━━━━━━━━━━━━━━━━━━━━━━━━━━━━━\u001b[0m \u001b[32m116.3/116.3 kB\u001b[0m \u001b[31m9.5 MB/s\u001b[0m eta \u001b[36m0:00:00\u001b[0m\n",
            "\u001b[?25hDownloading pyarrow-17.0.0-cp310-cp310-manylinux_2_28_x86_64.whl (39.9 MB)\n",
            "\u001b[2K   \u001b[90m━━━━━━━━━━━━━━━━━━━━━━━━━━━━━━━━━━━━━━━━\u001b[0m \u001b[32m39.9/39.9 MB\u001b[0m \u001b[31m52.4 MB/s\u001b[0m eta \u001b[36m0:00:00\u001b[0m\n",
            "\u001b[?25hDownloading multiprocess-0.70.16-py310-none-any.whl (134 kB)\n",
            "\u001b[2K   \u001b[90m━━━━━━━━━━━━━━━━━━━━━━━━━━━━━━━━━━━━━━━━\u001b[0m \u001b[32m134.8/134.8 kB\u001b[0m \u001b[31m10.0 MB/s\u001b[0m eta \u001b[36m0:00:00\u001b[0m\n",
            "\u001b[?25hDownloading xxhash-3.5.0-cp310-cp310-manylinux_2_17_x86_64.manylinux2014_x86_64.whl (194 kB)\n",
            "\u001b[2K   \u001b[90m━━━━━━━━━━━━━━━━━━━━━━━━━━━━━━━━━━━━━━━━\u001b[0m \u001b[32m194.1/194.1 kB\u001b[0m \u001b[31m16.2 MB/s\u001b[0m eta \u001b[36m0:00:00\u001b[0m\n",
            "\u001b[?25hInstalling collected packages: xxhash, pyarrow, dill, multiprocess, datasets\n",
            "  Attempting uninstall: pyarrow\n",
            "    Found existing installation: pyarrow 14.0.2\n",
            "    Uninstalling pyarrow-14.0.2:\n",
            "      Successfully uninstalled pyarrow-14.0.2\n",
            "\u001b[31mERROR: pip's dependency resolver does not currently take into account all the packages that are installed. This behaviour is the source of the following dependency conflicts.\n",
            "cudf-cu12 24.4.1 requires pyarrow<15.0.0a0,>=14.0.1, but you have pyarrow 17.0.0 which is incompatible.\n",
            "ibis-framework 8.0.0 requires pyarrow<16,>=2, but you have pyarrow 17.0.0 which is incompatible.\u001b[0m\u001b[31m\n",
            "\u001b[0mSuccessfully installed datasets-2.21.0 dill-0.3.8 multiprocess-0.70.16 pyarrow-17.0.0 xxhash-3.5.0\n",
            "Requirement already satisfied: transformers in /usr/local/lib/python3.10/dist-packages (4.42.4)\n",
            "Requirement already satisfied: filelock in /usr/local/lib/python3.10/dist-packages (from transformers) (3.15.4)\n",
            "Requirement already satisfied: huggingface-hub<1.0,>=0.23.2 in /usr/local/lib/python3.10/dist-packages (from transformers) (0.23.5)\n",
            "Requirement already satisfied: numpy<2.0,>=1.17 in /usr/local/lib/python3.10/dist-packages (from transformers) (1.26.4)\n",
            "Requirement already satisfied: packaging>=20.0 in /usr/local/lib/python3.10/dist-packages (from transformers) (24.1)\n",
            "Requirement already satisfied: pyyaml>=5.1 in /usr/local/lib/python3.10/dist-packages (from transformers) (6.0.2)\n",
            "Requirement already satisfied: regex!=2019.12.17 in /usr/local/lib/python3.10/dist-packages (from transformers) (2024.5.15)\n",
            "Requirement already satisfied: requests in /usr/local/lib/python3.10/dist-packages (from transformers) (2.32.3)\n",
            "Requirement already satisfied: safetensors>=0.4.1 in /usr/local/lib/python3.10/dist-packages (from transformers) (0.4.4)\n",
            "Requirement already satisfied: tokenizers<0.20,>=0.19 in /usr/local/lib/python3.10/dist-packages (from transformers) (0.19.1)\n",
            "Requirement already satisfied: tqdm>=4.27 in /usr/local/lib/python3.10/dist-packages (from transformers) (4.66.5)\n",
            "Requirement already satisfied: fsspec>=2023.5.0 in /usr/local/lib/python3.10/dist-packages (from huggingface-hub<1.0,>=0.23.2->transformers) (2024.6.1)\n",
            "Requirement already satisfied: typing-extensions>=3.7.4.3 in /usr/local/lib/python3.10/dist-packages (from huggingface-hub<1.0,>=0.23.2->transformers) (4.12.2)\n",
            "Requirement already satisfied: charset-normalizer<4,>=2 in /usr/local/lib/python3.10/dist-packages (from requests->transformers) (3.3.2)\n",
            "Requirement already satisfied: idna<4,>=2.5 in /usr/local/lib/python3.10/dist-packages (from requests->transformers) (3.8)\n",
            "Requirement already satisfied: urllib3<3,>=1.21.1 in /usr/local/lib/python3.10/dist-packages (from requests->transformers) (2.0.7)\n",
            "Requirement already satisfied: certifi>=2017.4.17 in /usr/local/lib/python3.10/dist-packages (from requests->transformers) (2024.7.4)\n",
            "Collecting jiwer\n",
            "  Downloading jiwer-3.0.4-py3-none-any.whl.metadata (2.6 kB)\n",
            "Requirement already satisfied: click<9.0.0,>=8.1.3 in /usr/local/lib/python3.10/dist-packages (from jiwer) (8.1.7)\n",
            "Collecting rapidfuzz<4,>=3 (from jiwer)\n",
            "  Downloading rapidfuzz-3.9.7-cp310-cp310-manylinux_2_17_x86_64.manylinux2014_x86_64.whl.metadata (12 kB)\n",
            "Downloading jiwer-3.0.4-py3-none-any.whl (21 kB)\n",
            "Downloading rapidfuzz-3.9.7-cp310-cp310-manylinux_2_17_x86_64.manylinux2014_x86_64.whl (3.4 MB)\n",
            "\u001b[2K   \u001b[90m━━━━━━━━━━━━━━━━━━━━━━━━━━━━━━━━━━━━━━━━\u001b[0m \u001b[32m3.4/3.4 MB\u001b[0m \u001b[31m51.9 MB/s\u001b[0m eta \u001b[36m0:00:00\u001b[0m\n",
            "\u001b[?25hInstalling collected packages: rapidfuzz, jiwer\n",
            "Successfully installed jiwer-3.0.4 rapidfuzz-3.9.7\n"
          ]
        }
      ],
      "source": [
        "!pip install datasets\n",
        "!pip install transformers\n",
        "!pip install jiwer"
      ]
    },
    {
      "cell_type": "markdown",
      "source": [
        "The training checkpoints are directly uploaded to the HuggingFace Hub during training."
      ],
      "metadata": {
        "id": "tayiN9nt97OQ"
      }
    },
    {
      "cell_type": "code",
      "source": [
        "from huggingface_hub import notebook_login\n",
        "\n",
        "notebook_login()"
      ],
      "metadata": {
        "colab": {
          "base_uri": "https://localhost:8080/",
          "height": 145,
          "referenced_widgets": [
            "fab63252d3c74202b5cdb41f6f6ae9c5",
            "7d3463019ded40ee93f38809396e2da7",
            "16bebc8393c74a7d9ea24e41ab980057",
            "99bccf26411840e4878b5824d2fa1e8c",
            "ede4e42d066b49dd923f2092cc9b2a7c",
            "8942d362fb23469da907d79f6ac77529",
            "291c82210b8e4c4eb3b6a97a60b8a785",
            "65f1b1e8d2d443afbe8dce6755c6e718",
            "47d80725267441a0aa996822e82c37ea",
            "0a658a6128d845b5a05d880eb075f4d9",
            "0c9bb3f9cda747839e2966b3c698e54e",
            "9b065f0838504f41ace383c62cf6fdb5",
            "1884a92e40c646099b95a7a31afa75a9",
            "305da91678214f13b73e52550d0cfc1e",
            "f116a78f1931496881d0129bf2218bed",
            "c996a0bbf2b74ae0b6ee819cec4a3b56",
            "09ad69bfccd443a396661488bb8b102b",
            "a23f42147cf744d0aee8504148525c8e",
            "0e7e3456c422492dbc6f3c3955a71be5",
            "93a3017e5f274bb59819705bede558ca",
            "f2f21f33bcbe428b846b537662ed1865",
            "d668fda45c574599bf12374597e68821",
            "e3e162aed75b40d1a2c4d001160057ab",
            "11b61fb2adf5467290dc7049fbd9bc6b",
            "3fe71407b7444687a9aef3778868621d",
            "06eec8232dfb40e296b235400fe40c2e",
            "dab74f3179604e93a1bdee71142f75ec",
            "c60079368fdb4dedb3652dbd7e9dc439",
            "d315906dfd5f405aa33fec7321ae3544",
            "cc8f8f6b40c84ae1be3c240fbe1c788f",
            "e5055653fc9d4d009e19fb75d0e70091",
            "2339e7bea2094f5a9249743de7d5fcba"
          ]
        },
        "collapsed": true,
        "id": "YnUT16g67Zu8",
        "outputId": "1195a166-2c1e-49c2-a4f7-ae273665ad52"
      },
      "execution_count": 2,
      "outputs": [
        {
          "output_type": "display_data",
          "data": {
            "text/plain": [
              "VBox(children=(HTML(value='<center> <img\\nsrc=https://huggingface.co/front/assets/huggingface_logo-noborder.sv…"
            ],
            "application/vnd.jupyter.widget-view+json": {
              "version_major": 2,
              "version_minor": 0,
              "model_id": "fab63252d3c74202b5cdb41f6f6ae9c5"
            }
          },
          "metadata": {}
        }
      ]
    },
    {
      "cell_type": "markdown",
      "source": [
        "##Prepare Data, Tokenizer, Feature Extractor"
      ],
      "metadata": {
        "id": "qKXAcS9k_b3q"
      }
    },
    {
      "cell_type": "markdown",
      "source": [
        "ASR models convert speech into text using a feature extractor to process the speech signal into a suitable input format and a tokenizer to convert the model's output into text. In the Transformers library, the Wav2Vec2 model includes a tokenizer called Wav2Vec2CTCTokenizer and a feature extractor named Wav2Vec2FeatureExtractor. The next step is to create the tokenizer that will decode the model's predictions."
      ],
      "metadata": {
        "id": "DLjHiJeLAz0t"
      }
    },
    {
      "cell_type": "markdown",
      "source": [
        "###Create Wav2Vec2CTCTokenizer"
      ],
      "metadata": {
        "id": "43vEABq2_pj3"
      }
    },
    {
      "cell_type": "markdown",
      "source": [
        "The pretrained Wav2Vec2 checkpoint converts speech signals into context representations, which must be mapped to transcriptions in a fine-tuned model by adding a linear layer on top of the transformer block. This linear layer classifies each context representation into token classes. The output size of this layer is determined by the vocabulary from the labeled dataset used for fine-tuning, and the initial step involves defining a vocabulary based on the CommonVoice dataset's transcriptions.\n",
        "\n",
        "For convinience, I have uploaded the Common Voice dataset to my Huggingface repo: https://huggingface.co/nightraider as private dataset."
      ],
      "metadata": {
        "id": "oSTPNlF5BDM8"
      }
    },
    {
      "cell_type": "code",
      "source": [
        "from datasets import load_dataset, load_metric, Audio\n",
        "\n",
        "cv = load_dataset(\"nightraider/cv_train\", token=True)"
      ],
      "metadata": {
        "collapsed": true,
        "id": "fiI2WnCh7Z3h"
      },
      "execution_count": null,
      "outputs": []
    },
    {
      "cell_type": "markdown",
      "source": [
        "Due to limitation in compute resource, only 100,000 samples (~50% of all data) were used for finetuning the `wav2vec2-large-960h-cv` model.\n"
      ],
      "metadata": {
        "id": "W6Bm6w8BcqTy"
      }
    },
    {
      "cell_type": "code",
      "source": [
        "cv[\"train\"] = cv[\"train\"].select(range(10000))  # for quick experimentation\n",
        "# cv[\"train\"] = cv[\"train\"].select(range(100000)) # Actually used for training wav2vec2-large-960h-cv"
      ],
      "metadata": {
        "id": "HtMewpVy7Z92"
      },
      "execution_count": 4,
      "outputs": []
    },
    {
      "cell_type": "markdown",
      "source": [
        "Remove uncessary columns in data.\n"
      ],
      "metadata": {
        "id": "NqzsHDmVcjfg"
      }
    },
    {
      "cell_type": "code",
      "source": [
        "cv = cv.remove_columns(['up_votes', 'down_votes', 'age', 'gender', 'accent', 'duration'])"
      ],
      "metadata": {
        "id": "j4Q3cFG-MNQh"
      },
      "execution_count": 5,
      "outputs": []
    },
    {
      "cell_type": "markdown",
      "source": [
        "Resample audio to 16kHz for training Wav2Vec2 models."
      ],
      "metadata": {
        "id": "oQPmJDHJcZmS"
      }
    },
    {
      "cell_type": "code",
      "source": [
        "cv = cv.cast_column(\"audio\", Audio(sampling_rate=16000))"
      ],
      "metadata": {
        "id": "zICPiR3zMNjj"
      },
      "execution_count": 6,
      "outputs": []
    },
    {
      "cell_type": "markdown",
      "source": [
        "As requested in Task 3a, the dataset is split as 70% for training and 30% for validation."
      ],
      "metadata": {
        "id": "VgOBY-PPPLDp"
      }
    },
    {
      "cell_type": "code",
      "source": [
        "ds = cv['train'].train_test_split(test_size=0.3)\n",
        "ds"
      ],
      "metadata": {
        "colab": {
          "base_uri": "https://localhost:8080/"
        },
        "id": "7xcy19dbOLWt",
        "outputId": "1e2db814-4f99-4ccf-9331-212e54268c23"
      },
      "execution_count": 7,
      "outputs": [
        {
          "output_type": "execute_result",
          "data": {
            "text/plain": [
              "DatasetDict({\n",
              "    train: Dataset({\n",
              "        features: ['audio', 'text'],\n",
              "        num_rows: 7000\n",
              "    })\n",
              "    test: Dataset({\n",
              "        features: ['audio', 'text'],\n",
              "        num_rows: 3000\n",
              "    })\n",
              "})"
            ]
          },
          "metadata": {},
          "execution_count": 7
        }
      ]
    },
    {
      "cell_type": "code",
      "source": [
        "# Function for display some random samples in dataset\n",
        "from datasets import ClassLabel\n",
        "import random\n",
        "import pandas as pd\n",
        "from IPython.display import display, HTML\n",
        "\n",
        "def show_random_elements(dataset, num_examples=10):\n",
        "    assert num_examples <= len(dataset), \"Can't pick more elements than there are in the dataset.\"\n",
        "    picks = []\n",
        "    for _ in range(num_examples):\n",
        "        pick = random.randint(0, len(dataset)-1)\n",
        "        while pick in picks:\n",
        "            pick = random.randint(0, len(dataset)-1)\n",
        "        picks.append(pick)\n",
        "\n",
        "    df = pd.DataFrame(dataset[picks])\n",
        "    display(HTML(df.to_html()))"
      ],
      "metadata": {
        "id": "2mqQBkPyOQ7B"
      },
      "execution_count": 8,
      "outputs": []
    },
    {
      "cell_type": "code",
      "source": [
        "show_random_elements(ds[\"train\"].remove_columns([\"audio\"]), num_examples=10)"
      ],
      "metadata": {
        "colab": {
          "base_uri": "https://localhost:8080/",
          "height": 359
        },
        "collapsed": true,
        "id": "h_VAZCz_OLbL",
        "outputId": "a7250681-8594-4355-cc7f-6b49c6bd6985"
      },
      "execution_count": 9,
      "outputs": [
        {
          "output_type": "display_data",
          "data": {
            "text/plain": [
              "<IPython.core.display.HTML object>"
            ],
            "text/html": [
              "<table border=\"1\" class=\"dataframe\">\n",
              "  <thead>\n",
              "    <tr style=\"text-align: right;\">\n",
              "      <th></th>\n",
              "      <th>text</th>\n",
              "    </tr>\n",
              "  </thead>\n",
              "  <tbody>\n",
              "    <tr>\n",
              "      <th>0</th>\n",
              "      <td>especially with an election coming up in a few days</td>\n",
              "    </tr>\n",
              "    <tr>\n",
              "      <th>1</th>\n",
              "      <td>the determinant is the product of all eigenvectors of a matrix</td>\n",
              "    </tr>\n",
              "    <tr>\n",
              "      <th>2</th>\n",
              "      <td>that's why i feel that i deserve a part of what you find</td>\n",
              "    </tr>\n",
              "    <tr>\n",
              "      <th>3</th>\n",
              "      <td>the boy looked out at the horizon</td>\n",
              "    </tr>\n",
              "    <tr>\n",
              "      <th>4</th>\n",
              "      <td>few people realise the immensity of vacancy</td>\n",
              "    </tr>\n",
              "    <tr>\n",
              "      <th>5</th>\n",
              "      <td>where have you been</td>\n",
              "    </tr>\n",
              "    <tr>\n",
              "      <th>6</th>\n",
              "      <td>in any case the desert was impassable</td>\n",
              "    </tr>\n",
              "    <tr>\n",
              "      <th>7</th>\n",
              "      <td>people saw me coming and welcomed me he thought</td>\n",
              "    </tr>\n",
              "    <tr>\n",
              "      <th>8</th>\n",
              "      <td>you're a smart young woman</td>\n",
              "    </tr>\n",
              "    <tr>\n",
              "      <th>9</th>\n",
              "      <td>throughout the night the boy dug at the place he had chosen but found nothing</td>\n",
              "    </tr>\n",
              "  </tbody>\n",
              "</table>"
            ]
          },
          "metadata": {}
        }
      ]
    },
    {
      "cell_type": "markdown",
      "source": [
        "Next we normalize the text by removing any special characters and lowercase the text."
      ],
      "metadata": {
        "id": "I75SK6bdQenS"
      }
    },
    {
      "cell_type": "code",
      "source": [
        "import re\n",
        "chars_to_ignore_regex = '[\\,\\?\\.\\!\\-\\;\\:\\\"]'\n",
        "\n",
        "def remove_special_characters(batch):\n",
        "    batch[\"text\"] = re.sub(chars_to_ignore_regex, '', batch[\"text\"]).lower() + \" \"\n",
        "    return batch"
      ],
      "metadata": {
        "id": "1D273vqtQCI3"
      },
      "execution_count": 10,
      "outputs": []
    },
    {
      "cell_type": "code",
      "source": [
        "ds = ds.map(remove_special_characters)"
      ],
      "metadata": {
        "colab": {
          "base_uri": "https://localhost:8080/",
          "height": 81,
          "referenced_widgets": [
            "0eadf56ed1e14ed79922adff8dec01e6",
            "fbe516c0b7fb4156b90f7178c5ba3542",
            "01d20d71e4e94788b0e932319e76c4ea",
            "1aabdbaedf714e6999d2f1192cf21caa",
            "f45c4e46646f483983e35b69f4f52462",
            "100fc3b2f39547788b4b14d3a9edc23d",
            "b9993fb7fa74408ea1703211bb7a74fb",
            "793ecd5fb35b41aa933f3df556523624",
            "37763cf7ca0646eb8d0a45104ee8a210",
            "f4afeeaf53db42508f645b9bd45a1806",
            "2a2d6a0ea4c44728a729bffe62bb5d6a",
            "f9699c2d625b42c8b3312d2e3cc37cb9",
            "15c019b56f5a42f890ffea9d43094f1e",
            "715e0d43ab704a0c864079ff45ff6024",
            "c86a7061959f46b4a4a27c9437b55e04",
            "21828ce677444780a535ffd1d4ae70fe",
            "78fe6aaa1f0c46c592784b565b678132",
            "c239278366484f778854203c61df5196",
            "17f224c4e6de4630a8f61bf1197a3cb4",
            "96e72606148a422bb7560f1ec4d083bf",
            "9526cf280d2548c584e17033293b207b",
            "ddd5259701f649339ee39425602b7a8c"
          ]
        },
        "id": "2j3kIIUiQdnb",
        "outputId": "6b1ad668-b5df-4fcb-e6a9-2643b282bb8a"
      },
      "execution_count": 11,
      "outputs": [
        {
          "output_type": "display_data",
          "data": {
            "text/plain": [
              "Map:   0%|          | 0/7000 [00:00<?, ? examples/s]"
            ],
            "application/vnd.jupyter.widget-view+json": {
              "version_major": 2,
              "version_minor": 0,
              "model_id": "0eadf56ed1e14ed79922adff8dec01e6"
            }
          },
          "metadata": {}
        },
        {
          "output_type": "display_data",
          "data": {
            "text/plain": [
              "Map:   0%|          | 0/3000 [00:00<?, ? examples/s]"
            ],
            "application/vnd.jupyter.widget-view+json": {
              "version_major": 2,
              "version_minor": 0,
              "model_id": "f9699c2d625b42c8b3312d2e3cc37cb9"
            }
          },
          "metadata": {}
        }
      ]
    },
    {
      "cell_type": "markdown",
      "source": [
        "Let's extract all distinct letters of the training and test data and build our vocabulary from this set of letters.\n",
        "The mapping function concatenates all transcriptions into one long transcription and then transforms the string into a set of chars."
      ],
      "metadata": {
        "id": "Rf52as0fRnD8"
      }
    },
    {
      "cell_type": "code",
      "source": [
        "def extract_all_chars(batch):\n",
        "  all_text = \" \".join(batch[\"text\"])\n",
        "  vocab = list(set(all_text))\n",
        "  return {\"vocab\": [vocab], \"all_text\": [all_text]}"
      ],
      "metadata": {
        "id": "9MykYE1bQ8P5"
      },
      "execution_count": 12,
      "outputs": []
    },
    {
      "cell_type": "code",
      "source": [
        "vocabs = ds.map(extract_all_chars, batched=True, batch_size=-1, keep_in_memory=True, remove_columns=ds.column_names[\"train\"])"
      ],
      "metadata": {
        "colab": {
          "base_uri": "https://localhost:8080/",
          "height": 81,
          "referenced_widgets": [
            "86862c9c28b74b3eaf4d9b31425f716d",
            "16694b9c191b44979cd888a6c7643993",
            "0032701d12bd4e2d805337dccc39d51e",
            "b0648b7e277d41f4b3d4f5c7b8f5e0b0",
            "398ac13313a248ceabaef8c4640059ed",
            "a625104e166845f097e25686e6fa8194",
            "f776c500dc0e4327959ba697fc0b4969",
            "89acc78bd67143adb03aab77c23d1fba",
            "2ff66cf8c30b4a1895837c4ce0a25c94",
            "8e64f1448ce3478bb674fa9840f4c0fb",
            "2df0d840d5904cf3a96c4f53cf944b82",
            "586ea68688774e988d2eebd7cade593d",
            "e002bb3481a44b4ca20bed44a98e262e",
            "944dbd659d5f47e29fab57619da2e45a",
            "04d05d2f93ee4fb3b7aa547ea15ed737",
            "b3515143aa914caf9351ca6bbcbbe49b",
            "3eb021c5b64142a0970b4d69a7d7ee40",
            "4f0a7fa4ec594db384b803759153c27f",
            "aca170cd791a43dba48a83caedf2ef2a",
            "29e197a424674c25b68008d81bdbdf20",
            "fa7003832f1645ecb56987857c2f5ad9",
            "91e23ac8a93d4cc58f473866a63172ee"
          ]
        },
        "id": "7J3xvuhiSDQZ",
        "outputId": "f213ecac-6f23-40ad-be09-2542200cff78"
      },
      "execution_count": 13,
      "outputs": [
        {
          "output_type": "display_data",
          "data": {
            "text/plain": [
              "Map:   0%|          | 0/7000 [00:00<?, ? examples/s]"
            ],
            "application/vnd.jupyter.widget-view+json": {
              "version_major": 2,
              "version_minor": 0,
              "model_id": "86862c9c28b74b3eaf4d9b31425f716d"
            }
          },
          "metadata": {}
        },
        {
          "output_type": "display_data",
          "data": {
            "text/plain": [
              "Map:   0%|          | 0/3000 [00:00<?, ? examples/s]"
            ],
            "application/vnd.jupyter.widget-view+json": {
              "version_major": 2,
              "version_minor": 0,
              "model_id": "586ea68688774e988d2eebd7cade593d"
            }
          },
          "metadata": {}
        }
      ]
    },
    {
      "cell_type": "markdown",
      "source": [
        "Now, we create the union of all distinct letters in the training dataset and test dataset and convert the resulting list into an enumerated dictionary."
      ],
      "metadata": {
        "id": "X6VeGdkGSs7f"
      }
    },
    {
      "cell_type": "code",
      "source": [
        "vocab_list = list(set(vocabs[\"train\"][\"vocab\"][0]) | set(vocabs[\"test\"][\"vocab\"][0]))"
      ],
      "metadata": {
        "id": "lTIX5Yu_SGTq"
      },
      "execution_count": 14,
      "outputs": []
    },
    {
      "cell_type": "code",
      "source": [
        "vocab_dict = {v: k for k, v in enumerate(vocab_list)}\n",
        "vocab_dict"
      ],
      "metadata": {
        "collapsed": true,
        "id": "CKbBYIs9SMgr"
      },
      "execution_count": null,
      "outputs": []
    },
    {
      "cell_type": "markdown",
      "source": [
        "To make it easier to identify the space character as a distinct token, we represent it with a more noticeable character: '|'. We also add an \"unknown\" token to allow the model to handle characters that were not present in the training data. Additionally, we include a padding token that corresponds to the \"blank token\" used in the CTC algorithm, which is a crucial component of this technique."
      ],
      "metadata": {
        "id": "EJfdVlrTUFCm"
      }
    },
    {
      "cell_type": "code",
      "source": [
        "vocab_dict[\"|\"] = vocab_dict[\" \"]\n",
        "del vocab_dict[\" \"]"
      ],
      "metadata": {
        "id": "IEJ15x1TSQuN"
      },
      "execution_count": 16,
      "outputs": []
    },
    {
      "cell_type": "code",
      "source": [
        "vocab_dict[\"[UNK]\"] = len(vocab_dict)\n",
        "vocab_dict[\"[PAD]\"] = len(vocab_dict)\n",
        "len(vocab_dict)"
      ],
      "metadata": {
        "colab": {
          "base_uri": "https://localhost:8080/"
        },
        "id": "bGDRHGQNSVOz",
        "outputId": "6f02650f-ce97-437f-a9d1-41399197d6df"
      },
      "execution_count": 17,
      "outputs": [
        {
          "output_type": "execute_result",
          "data": {
            "text/plain": [
              "30"
            ]
          },
          "metadata": {},
          "execution_count": 17
        }
      ]
    },
    {
      "cell_type": "markdown",
      "source": [
        "Save the vocabulary as a json file."
      ],
      "metadata": {
        "id": "AGWVB-zAUaQV"
      }
    },
    {
      "cell_type": "code",
      "source": [
        "import json\n",
        "with open('vocab.json', 'w') as vocab_file:\n",
        "    json.dump(vocab_dict, vocab_file)"
      ],
      "metadata": {
        "id": "Y1flRUjvShtT"
      },
      "execution_count": 18,
      "outputs": []
    },
    {
      "cell_type": "markdown",
      "source": [
        "In a final step, we use the json file to instantiate an object of the Wav2Vec2CTCTokenizer class."
      ],
      "metadata": {
        "id": "Duj5N57QUxTi"
      }
    },
    {
      "cell_type": "code",
      "source": [
        "from transformers import Wav2Vec2CTCTokenizer\n",
        "\n",
        "tokenizer = Wav2Vec2CTCTokenizer(\"./vocab.json\", unk_token=\"[UNK]\", pad_token=\"[PAD]\", word_delimiter_token=\"|\")"
      ],
      "metadata": {
        "id": "8zPXv1J9UbYP"
      },
      "execution_count": 19,
      "outputs": []
    },
    {
      "cell_type": "markdown",
      "source": [
        "Upload the tokenizer to the Hub for reusing with the fine-tuned model."
      ],
      "metadata": {
        "id": "AiWteXFmVxSy"
      }
    },
    {
      "cell_type": "code",
      "source": [
        "repo_name = \"wav2vec2-base-cv-demo-google-colab\"  # for quick experimentation\n",
        "# repo_name = \"wav2vec2-large-960h-cv\"\n",
        "\n",
        "tokenizer.push_to_hub(repo_name)"
      ],
      "metadata": {
        "colab": {
          "base_uri": "https://localhost:8080/",
          "height": 100,
          "referenced_widgets": [
            "61c50ba1ad6b4ad2ab3a08866070b567",
            "f470674dd4c34477ac49fcdd2e51a5e7",
            "7e2ead0bcb104bd1974f4e73a74855d6",
            "0de8528778b24b2d83c30ae441d40962",
            "3c813e08132e4561b4f911aa23b6b09b",
            "43f66f4bee5047bea01ebbac8e2caffd",
            "b33a7985aa2443fb9de8d8e8a8ed7551",
            "651572b46f924400871f934a31dc552a",
            "4b34e5ed8cff4c3e9293a9aec5b4700b",
            "4800aec37e134ff1b5189891f8d61534",
            "2168baf5f13a48ddada01726502f8c20"
          ]
        },
        "id": "aEkXuzAxVGTT",
        "outputId": "a370f4c8-7775-4ff2-8286-c92ee88b26f8"
      },
      "execution_count": 20,
      "outputs": [
        {
          "output_type": "display_data",
          "data": {
            "text/plain": [
              "README.md:   0%|          | 0.00/1.49k [00:00<?, ?B/s]"
            ],
            "application/vnd.jupyter.widget-view+json": {
              "version_major": 2,
              "version_minor": 0,
              "model_id": "61c50ba1ad6b4ad2ab3a08866070b567"
            }
          },
          "metadata": {}
        },
        {
          "output_type": "execute_result",
          "data": {
            "text/plain": [
              "CommitInfo(commit_url='https://huggingface.co/nightraider/wav2vec2-base-cv-demo-google-colab/commit/005bc2deea2526dd375ee95ba02d5e2865141bb2', commit_message='Upload tokenizer', commit_description='', oid='005bc2deea2526dd375ee95ba02d5e2865141bb2', pr_url=None, pr_revision=None, pr_num=None)"
            ],
            "application/vnd.google.colaboratory.intrinsic+json": {
              "type": "string"
            }
          },
          "metadata": {},
          "execution_count": 20
        }
      ]
    },
    {
      "cell_type": "markdown",
      "source": [
        "###Create Wav2Vec2 Feature Extractor"
      ],
      "metadata": {
        "id": "8n1l74POWVqx"
      }
    },
    {
      "cell_type": "markdown",
      "source": [
        "A Wav2Vec2 feature extractor object requires the following parameters to be instantiated:\n",
        "\n",
        "- `feature_size`: Speech models take a sequence of feature vectors as an input. While the length of this sequence obviously varies, the feature size should not. In the case of Wav2Vec2, the feature size is 1 because the model was trained on the raw speech signal.\n",
        "- `sampling_rate`: The sampling rate at which the model is trained on.\n",
        "- `padding_value`: For batched inference, shorter inputs need to be padded with a specific value\n",
        "- `do_normalize`: Whether the input should be *zero-mean-unit-variance* normalized or not. Usually, speech models perform better when normalizing the input\n",
        "- `return_attention_mask`: Whether the model should make use of an `attention_mask` for batched inference. In general, models should always make use of the `attention_mask` to mask padded tokens."
      ],
      "metadata": {
        "id": "IGQ6x4dIXEZb"
      }
    },
    {
      "cell_type": "code",
      "source": [
        "from transformers import Wav2Vec2FeatureExtractor\n",
        "\n",
        "feature_extractor = Wav2Vec2FeatureExtractor(feature_size=1, sampling_rate=16000, padding_value=0.0, do_normalize=True, return_attention_mask=True)"
      ],
      "metadata": {
        "id": "I1ZmewwnVTVI"
      },
      "execution_count": 21,
      "outputs": []
    },
    {
      "cell_type": "markdown",
      "source": [
        "To make the usage of Wav2Vec2 as user-friendly as possible, the feature extractor and tokenizer are wrapped into a single `Wav2Vec2Processor` class so that one only needs a `model` and `processor` object."
      ],
      "metadata": {
        "id": "bIk_9qf7YVph"
      }
    },
    {
      "cell_type": "code",
      "source": [
        "from transformers import Wav2Vec2Processor\n",
        "\n",
        "processor = Wav2Vec2Processor(feature_extractor=feature_extractor, tokenizer=tokenizer)"
      ],
      "metadata": {
        "id": "hEZnrpSTVTdg"
      },
      "execution_count": 22,
      "outputs": []
    },
    {
      "cell_type": "markdown",
      "source": [
        "###Preprocess data"
      ],
      "metadata": {
        "id": "6HKzrWpbZJx8"
      }
    },
    {
      "cell_type": "markdown",
      "source": [
        "Let's listen to a couple of audio files to verify that the audio was correctly loaded."
      ],
      "metadata": {
        "id": "hKVoX1BXZmSm"
      }
    },
    {
      "cell_type": "code",
      "source": [
        "import IPython.display as ipd\n",
        "import numpy as np\n",
        "import random\n",
        "\n",
        "rand_int = random.randint(0, len(ds[\"train\"]))\n",
        "\n",
        "print(ds[\"train\"][rand_int][\"text\"])\n",
        "ipd.Audio(data=np.asarray(ds[\"train\"][rand_int][\"audio\"][\"array\"]), autoplay=True, rate=16000)"
      ],
      "metadata": {
        "colab": {
          "base_uri": "https://localhost:8080/",
          "height": 69
        },
        "id": "MWQNQMQZYx7K",
        "outputId": "53e575b4-7b42-4375-d725-a1d599bb9e7d"
      },
      "execution_count": 23,
      "outputs": [
        {
          "output_type": "stream",
          "name": "stdout",
          "text": [
            "he's followed every game and his mouth's watering \n"
          ]
        },
        {
          "output_type": "execute_result",
          "data": {
            "text/plain": [
              "<IPython.lib.display.Audio object>"
            ],
            "text/html": [
              "\n",
              "                <audio  controls=\"controls\" autoplay=\"autoplay\">\n",
              "                    <source src=\"data:audio/wav;base64,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\" type=\"audio/wav\" />\n",
              "                    Your browser does not support the audio element.\n",
              "                </audio>\n",
              "              "
            ]
          },
          "metadata": {},
          "execution_count": 23
        }
      ]
    },
    {
      "cell_type": "markdown",
      "source": [
        "Finally, we can process the dataset to the format expected by the model for training. First, we load and resample the audio data, simply by calling `batch[\"audio\"]`. Second, we extract the `input_values` from the loaded audio file. Third, we encode the transcriptions to label ids."
      ],
      "metadata": {
        "id": "8Qp-KxcAaNic"
      }
    },
    {
      "cell_type": "code",
      "source": [
        "def prepare_dataset(batch):\n",
        "    audio = batch[\"audio\"]\n",
        "\n",
        "    batch[\"input_values\"] = processor(audio[\"array\"], sampling_rate=audio[\"sampling_rate\"]).input_values[0]\n",
        "    batch[\"input_length\"] = len(batch[\"input_values\"])\n",
        "\n",
        "    with processor.as_target_processor():\n",
        "        batch[\"labels\"] = processor(batch[\"text\"]).input_ids\n",
        "    return batch"
      ],
      "metadata": {
        "id": "ShFtlvhxZwI2"
      },
      "execution_count": 24,
      "outputs": []
    },
    {
      "cell_type": "markdown",
      "source": [
        "Apply the data preparation function to all examples."
      ],
      "metadata": {
        "id": "1HhbVl-5a8mU"
      }
    },
    {
      "cell_type": "code",
      "source": [
        "ds = ds.map(prepare_dataset, remove_columns=ds.column_names[\"train\"], num_proc=8)"
      ],
      "metadata": {
        "collapsed": true,
        "id": "JZuTLyfpZwO3"
      },
      "execution_count": null,
      "outputs": []
    },
    {
      "cell_type": "markdown",
      "source": [
        "Long input sequences require a lot of memory. Since `Wav2Vec2` is based on `self-attention` the memory requirement scales quadratically with the input length for long input sequences. I have filtered all sequences that are longer than **8** seconds out of the training and validation dataset."
      ],
      "metadata": {
        "id": "LhQGkT9cbgYx"
      }
    },
    {
      "cell_type": "code",
      "source": [
        "max_input_length_in_sec = 8.0\n",
        "\n",
        "ds[\"train\"] = ds[\"train\"].filter(lambda x: x < max_input_length_in_sec * processor.feature_extractor.sampling_rate, input_columns=[\"input_length\"])\n",
        "ds[\"test\"] = ds[\"test\"].filter(lambda x: x < max_input_length_in_sec * processor.feature_extractor.sampling_rate, input_columns=[\"input_length\"])"
      ],
      "metadata": {
        "colab": {
          "base_uri": "https://localhost:8080/",
          "height": 81,
          "referenced_widgets": [
            "5a6106ae1e2b4d5291efb79ba6a9daa0",
            "90987a9898794c3f8a48668915b802d6",
            "0967d4de2f98490fb1a405218bf61a2c",
            "446f39a869ce41a5b0c56f4e7fb938af",
            "51f9126cab8946dead385c69d8eb2b01",
            "2246372602af4bf0afe006a0a44a26ed",
            "1d1efeb288454b4688e9926c18e970ca",
            "4db515c8d21e45ed975b226d17f71bdc",
            "444a2fe053b14ff5995dfc9fbadd3b8f",
            "e28388f5b1ca41dfb8f017beb8bd7769",
            "17870e2c4f484b5792f76e4ea6c74481",
            "624dcce923fe4afda73ac159cc2c50a1",
            "89f17443b08d49d185a89fd282476d73",
            "d0146334575a4c15a82b72c77ce5208c",
            "ab1e2ba4ff83495b8e893859b2965289",
            "4112ecba54c64d55a2f9cba30bfca08e",
            "b801141ef8654278ba9b1d2db1faee5c",
            "0bafff4dec4947d5a5e9e6de89a4c727",
            "56d55b822d2748049ef4ef82728f9ceb",
            "47c2fb449be7489990dbc9c13b0141ee",
            "a792e12b6a3f4d829910dc8f3793e216",
            "5bac805d2e6c4de29f892f106ba8bf12"
          ]
        },
        "id": "oCKDJSfdb4RX",
        "outputId": "d26e831d-4ff2-4b1d-dd27-850c36fb0ece"
      },
      "execution_count": 26,
      "outputs": [
        {
          "output_type": "display_data",
          "data": {
            "text/plain": [
              "Filter:   0%|          | 0/7000 [00:00<?, ? examples/s]"
            ],
            "application/vnd.jupyter.widget-view+json": {
              "version_major": 2,
              "version_minor": 0,
              "model_id": "5a6106ae1e2b4d5291efb79ba6a9daa0"
            }
          },
          "metadata": {}
        },
        {
          "output_type": "display_data",
          "data": {
            "text/plain": [
              "Filter:   0%|          | 0/3000 [00:00<?, ? examples/s]"
            ],
            "application/vnd.jupyter.widget-view+json": {
              "version_major": 2,
              "version_minor": 0,
              "model_id": "624dcce923fe4afda73ac159cc2c50a1"
            }
          },
          "metadata": {}
        }
      ]
    },
    {
      "cell_type": "code",
      "source": [
        "ds"
      ],
      "metadata": {
        "colab": {
          "base_uri": "https://localhost:8080/"
        },
        "id": "Q4OR0cbscGl3",
        "outputId": "8d6348ac-f4f6-4282-9e61-aaaf2e670ed0"
      },
      "execution_count": 27,
      "outputs": [
        {
          "output_type": "execute_result",
          "data": {
            "text/plain": [
              "DatasetDict({\n",
              "    train: Dataset({\n",
              "        features: ['input_values', 'input_length', 'labels'],\n",
              "        num_rows: 6735\n",
              "    })\n",
              "    test: Dataset({\n",
              "        features: ['input_values', 'input_length', 'labels'],\n",
              "        num_rows: 2863\n",
              "    })\n",
              "})"
            ]
          },
          "metadata": {},
          "execution_count": 27
        }
      ]
    },
    {
      "cell_type": "markdown",
      "source": [
        "## Training\n",
        "\n",
        "The data is processed so that we are ready to start setting up the training pipeline. We will make use of Huggingface Transformer's Trainer for which we essentially need to do the following:\n",
        "\n",
        "- Define a data collator. In contrast to most NLP models, Wav2Vec2 has a much larger input length than output length. Given the large input sizes, it is much more efficient to pad the training batches dynamically meaning that all training samples should only be padded to the longest sample in their batch and not the overall longest sample. Therefore, fine-tuning Wav2Vec2 requires a special padding data collator, which we will define below\n",
        "\n",
        "- Evaluation metric. During training, the model should be evaluated on the word error rate. We should define a `compute_metrics` function accordingly\n",
        "\n",
        "- Load a pretrained checkpoint. We need to load a pretrained checkpoint and configure it correctly for training.\n",
        "\n",
        "- Define the training configuration.\n"
      ],
      "metadata": {
        "id": "thgTVPjHePue"
      }
    },
    {
      "cell_type": "markdown",
      "source": [
        "###Set-up Trainer\n",
        "\n",
        "Let's start by defining the data collator. The data collator treats the `input_values` and `labels` differently and thus applies to separate padding functions on them. This is necessary because in speech input and output are of different modalities meaning that they should not be treated by the same padding function.\n",
        "Analogous to the common data collators, the padding tokens in the labels with `-100` so that those tokens are not taken into account when computing the loss."
      ],
      "metadata": {
        "id": "QDjsCmUIuaNa"
      }
    },
    {
      "cell_type": "code",
      "source": [
        "import torch\n",
        "\n",
        "from dataclasses import dataclass, field\n",
        "from typing import Any, Dict, List, Optional, Union\n",
        "\n",
        "@dataclass\n",
        "class DataCollatorCTCWithPadding:\n",
        "    \"\"\"\n",
        "    Data collator that will dynamically pad the inputs received.\n",
        "    Args:\n",
        "        processor (:class:`~transformers.Wav2Vec2Processor`)\n",
        "            The processor used for proccessing the data.\n",
        "        padding (:obj:`bool`, :obj:`str` or :class:`~transformers.tokenization_utils_base.PaddingStrategy`, `optional`, defaults to :obj:`True`):\n",
        "            Select a strategy to pad the returned sequences (according to the model's padding side and padding index)\n",
        "            among:\n",
        "            * :obj:`True` or :obj:`'longest'`: Pad to the longest sequence in the batch (or no padding if only a single\n",
        "              sequence if provided).\n",
        "            * :obj:`'max_length'`: Pad to a maximum length specified with the argument :obj:`max_length` or to the\n",
        "              maximum acceptable input length for the model if that argument is not provided.\n",
        "            * :obj:`False` or :obj:`'do_not_pad'` (default): No padding (i.e., can output a batch with sequences of\n",
        "              different lengths).\n",
        "    \"\"\"\n",
        "\n",
        "    processor: Wav2Vec2Processor\n",
        "    padding: Union[bool, str] = True\n",
        "\n",
        "    def __call__(self, features: List[Dict[str, Union[List[int], torch.Tensor]]]) -> Dict[str, torch.Tensor]:\n",
        "        # split inputs and labels since they have to be of different lenghts and need\n",
        "        # different padding methods\n",
        "        input_features = [{\"input_values\": feature[\"input_values\"]} for feature in features]\n",
        "        label_features = [{\"input_ids\": feature[\"labels\"]} for feature in features]\n",
        "\n",
        "        batch = self.processor.pad(\n",
        "            input_features,\n",
        "            padding=self.padding,\n",
        "            return_tensors=\"pt\",\n",
        "        )\n",
        "        with self.processor.as_target_processor():\n",
        "            labels_batch = self.processor.pad(\n",
        "                label_features,\n",
        "                padding=self.padding,\n",
        "                return_tensors=\"pt\",\n",
        "            )\n",
        "\n",
        "        # replace padding with -100 to ignore loss correctly\n",
        "        labels = labels_batch[\"input_ids\"].masked_fill(labels_batch.attention_mask.ne(1), -100)\n",
        "\n",
        "        batch[\"labels\"] = labels\n",
        "\n",
        "        return batch"
      ],
      "metadata": {
        "id": "XH8Jjv7hvN62"
      },
      "execution_count": 28,
      "outputs": []
    },
    {
      "cell_type": "code",
      "source": [
        "data_collator = DataCollatorCTCWithPadding(processor=processor, padding=True)"
      ],
      "metadata": {
        "id": "Yw36EDggvOHt"
      },
      "execution_count": 29,
      "outputs": []
    },
    {
      "cell_type": "markdown",
      "source": [
        "We use the the word error rate (WER) as the ASR evlaution metric."
      ],
      "metadata": {
        "id": "uQdDGdV4vc75"
      }
    },
    {
      "cell_type": "code",
      "source": [
        "wer_metric = load_metric(\"wer\", trust_remote_code=True)"
      ],
      "metadata": {
        "colab": {
          "base_uri": "https://localhost:8080/",
          "height": 103,
          "referenced_widgets": [
            "64d66431363f40219035ffd1546026d1",
            "5379b33a968043d49d5cb9169fcc9eb3",
            "3b1281931b0a4fb1a9d11da1a582c5a7",
            "6541c4c9fcfd42ac825d08d993ca2371",
            "69e226fb1b624b0fa61ddd0db2a77434",
            "c4fb9c7129fe43aea0d84f4f99b8aac5",
            "ce95c80c874f49b491cabbec1fa354cd",
            "a9135218377d459b9f439926fc1c2130",
            "0859db15a55b48ab85de703a9cfdf694",
            "1a0d911aa4ae473c832b054754116aa5",
            "582b56c2235148fd94a17e4e1780608b"
          ]
        },
        "id": "smQEHkRWvOPU",
        "outputId": "7983a0f5-c970-4e4e-c7d1-2d28355f3c54"
      },
      "execution_count": 30,
      "outputs": [
        {
          "output_type": "stream",
          "name": "stderr",
          "text": [
            "<ipython-input-30-8a12adc3fb90>:1: FutureWarning: load_metric is deprecated and will be removed in the next major version of datasets. Use 'evaluate.load' instead, from the new library 🤗 Evaluate: https://huggingface.co/docs/evaluate\n",
            "  wer_metric = load_metric(\"wer\", trust_remote_code=True)\n"
          ]
        },
        {
          "output_type": "display_data",
          "data": {
            "text/plain": [
              "Downloading builder script:   0%|          | 0.00/1.90k [00:00<?, ?B/s]"
            ],
            "application/vnd.jupyter.widget-view+json": {
              "version_major": 2,
              "version_minor": 0,
              "model_id": "64d66431363f40219035ffd1546026d1"
            }
          },
          "metadata": {}
        }
      ]
    },
    {
      "cell_type": "code",
      "source": [
        "def compute_metrics(pred):\n",
        "    pred_logits = pred.predictions\n",
        "    pred_ids = np.argmax(pred_logits, axis=-1)\n",
        "\n",
        "    pred.label_ids[pred.label_ids == -100] = processor.tokenizer.pad_token_id\n",
        "\n",
        "    pred_str = processor.batch_decode(pred_ids)\n",
        "    # we do not want to group tokens when computing the metrics\n",
        "    label_str = processor.batch_decode(pred.label_ids, group_tokens=False)\n",
        "\n",
        "    wer = wer_metric.compute(predictions=pred_str, references=label_str)\n",
        "\n",
        "    return {\"wer\": wer}"
      ],
      "metadata": {
        "id": "TNlDvZ8WwAwv"
      },
      "execution_count": 31,
      "outputs": []
    },
    {
      "cell_type": "markdown",
      "source": [
        "Now, we can load the pretrained `Wav2Vec2` checkpoint. The tokenizer's `pad_token_id` must be to define the model's `pad_token_id` or in the case of `Wav2Vec2ForCTC` also CTC's *blank token*. To save GPU memory, we enable PyTorch's [gradient checkpointing](https://pytorch.org/docs/stable/checkpoint.html) and also set the loss reduction to \"*mean*\".\n",
        "\n",
        "For setting other training hyper-parameters: `attention_dropout`, `hidden_dropout`, `feat_proj_dropout`, `mask_time_prob`, `layerdrop`, I made reference to the [wav2vec2 paper](https://arxiv.org/abs/2006.11477) and also checked an online: [colab code](https://colab.research.google.com/github/m3hrdadfi/notebooks/blob/main/Fine_Tune_XLSR_Wav2Vec2_on_Persian_ShEMO_ASR_with_%F0%9F%A4%97_Transformers_ipynb.ipynb#scrollTo=qUETetgqYC3W), which trained a similar large Wav2Vec2 model (XLSR-Wav2Vec2) using Common Voice data."
      ],
      "metadata": {
        "id": "Y65CNeL8wgjs"
      }
    },
    {
      "cell_type": "code",
      "source": [
        "from transformers import Wav2Vec2ForCTC\n",
        "\n",
        "model = Wav2Vec2ForCTC.from_pretrained(\n",
        "    \"facebook/wav2vec2-large-960h\",\n",
        "    attention_dropout=0.1,\n",
        "    hidden_dropout=0.1,\n",
        "    feat_proj_dropout=0.0,\n",
        "    mask_time_prob=0.05,\n",
        "    layerdrop=0.1,\n",
        "    ctc_loss_reduction=\"mean\",\n",
        "    pad_token_id=processor.tokenizer.pad_token_id,\n",
        ")"
      ],
      "metadata": {
        "colab": {
          "base_uri": "https://localhost:8080/",
          "height": 186,
          "referenced_widgets": [
            "afab338229fc4d0c8e20596976f97f46",
            "f52c611eb4aa406b9c427dc010bb3d4a",
            "c352ed0d4f364693b4d91e5f816938f1",
            "d2121b75d3fc41e08158594822127130",
            "4899a64791db40c69278a524afb0b00a",
            "69b302fcfde140fdb868f18a73784b72",
            "17231727b444467aab57c441b820d949",
            "64bb3c04b329471da909ea1cda4ed26a",
            "516e369f619341dea19f2d53ae2e1227",
            "98c20537622e4652a0636459b07b8ada",
            "ac6a349f43904096a993bde5c5425228",
            "beffaa7cd54747dfbe9f8375232331df",
            "8539738a60514e2b9f750ce4a9e3b416",
            "74a29ffef0c049cdb692c10db8f3dece",
            "1fdb954f48884ea991b7ff424e28b2b2",
            "1982870f0cf54fc89dbcbf418db99c9b",
            "1a712cd6979e480293c5cfc697d3bf7d",
            "810a013fb6f0420a85c2776516e0d159",
            "237e82bb44db4489a0882f1ac0c7decd",
            "3134b227d3184e578e973a01a8ca33ce",
            "698324a34a664192af042692b14b9ce2",
            "d6d6263cd25749c496107d17140ff045"
          ]
        },
        "id": "NioydsBxwA0O",
        "outputId": "afa02052-3951-4c20-902c-1b49dc09f9e9"
      },
      "execution_count": 32,
      "outputs": [
        {
          "output_type": "display_data",
          "data": {
            "text/plain": [
              "config.json:   0%|          | 0.00/843 [00:00<?, ?B/s]"
            ],
            "application/vnd.jupyter.widget-view+json": {
              "version_major": 2,
              "version_minor": 0,
              "model_id": "afab338229fc4d0c8e20596976f97f46"
            }
          },
          "metadata": {}
        },
        {
          "output_type": "display_data",
          "data": {
            "text/plain": [
              "pytorch_model.bin:   0%|          | 0.00/1.26G [00:00<?, ?B/s]"
            ],
            "application/vnd.jupyter.widget-view+json": {
              "version_major": 2,
              "version_minor": 0,
              "model_id": "beffaa7cd54747dfbe9f8375232331df"
            }
          },
          "metadata": {}
        },
        {
          "output_type": "stream",
          "name": "stderr",
          "text": [
            "Some weights of the model checkpoint at facebook/wav2vec2-large-960h were not used when initializing Wav2Vec2ForCTC: ['wav2vec2.encoder.pos_conv_embed.conv.weight_g', 'wav2vec2.encoder.pos_conv_embed.conv.weight_v']\n",
            "- This IS expected if you are initializing Wav2Vec2ForCTC from the checkpoint of a model trained on another task or with another architecture (e.g. initializing a BertForSequenceClassification model from a BertForPreTraining model).\n",
            "- This IS NOT expected if you are initializing Wav2Vec2ForCTC from the checkpoint of a model that you expect to be exactly identical (initializing a BertForSequenceClassification model from a BertForSequenceClassification model).\n",
            "Some weights of Wav2Vec2ForCTC were not initialized from the model checkpoint at facebook/wav2vec2-large-960h and are newly initialized: ['wav2vec2.encoder.pos_conv_embed.conv.parametrizations.weight.original0', 'wav2vec2.encoder.pos_conv_embed.conv.parametrizations.weight.original1', 'wav2vec2.masked_spec_embed']\n",
            "You should probably TRAIN this model on a down-stream task to be able to use it for predictions and inference.\n"
          ]
        }
      ]
    },
    {
      "cell_type": "markdown",
      "source": [
        "The first component of Wav2Vec2 consists of a stack of CNN layers that are used to extract acoustically meaningful - but contextually independent - features from the raw speech signal. This part of the model has already been sufficiently trained during pretrainind and as stated in the [paper](https://arxiv.org/abs/2006.11477) does not need to be fine-tuned anymore.\n",
        "Thus, we can set the `requires_grad` to `False` for all parameters of the *feature extraction* part."
      ],
      "metadata": {
        "id": "n2oP6Rcf0WAC"
      }
    },
    {
      "cell_type": "code",
      "source": [
        "model.freeze_feature_encoder()"
      ],
      "metadata": {
        "id": "ba1wqIMHwA3X"
      },
      "execution_count": 33,
      "outputs": []
    },
    {
      "cell_type": "markdown",
      "source": [
        "In a final step, we define all parameters related to training.\n",
        "To give more explanation on some of the parameters:\n",
        "- `group_by_length` makes training more efficient by grouping training samples of similar input length into one batch. This can significantly speed up training time by heavily reducing the overall number of useless padding tokens that are passed through the model\n",
        "- `learning_rate` and `weight_decay` were heuristically tuned until fine-tuning has become stable."
      ],
      "metadata": {
        "id": "q601D0nD0_au"
      }
    },
    {
      "cell_type": "code",
      "source": [
        "from transformers import TrainingArguments\n",
        "\n",
        "training_args = TrainingArguments(\n",
        "  output_dir=repo_name,\n",
        "  group_by_length=True,\n",
        "  per_device_train_batch_size=16,\n",
        "  per_device_eval_batch_size=16,\n",
        "  evaluation_strategy=\"steps\",\n",
        "  num_train_epochs=3,\n",
        "  fp16=True,\n",
        "  gradient_checkpointing=True,\n",
        "  save_steps=1000,\n",
        "  eval_steps=300,\n",
        "  logging_steps=300,\n",
        "  learning_rate=1e-4,\n",
        "  weight_decay=0.005,\n",
        "  warmup_steps=1000,\n",
        "  save_total_limit=2,\n",
        "  push_to_hub=True,\n",
        ")"
      ],
      "metadata": {
        "colab": {
          "base_uri": "https://localhost:8080/"
        },
        "id": "7DpzE0o4cLgO",
        "outputId": "ac7ae45e-3599-4550-de53-022244abf4af"
      },
      "execution_count": 35,
      "outputs": [
        {
          "output_type": "stream",
          "name": "stderr",
          "text": [
            "/usr/local/lib/python3.10/dist-packages/transformers/training_args.py:1494: FutureWarning: `evaluation_strategy` is deprecated and will be removed in version 4.46 of 🤗 Transformers. Use `eval_strategy` instead\n",
            "  warnings.warn(\n"
          ]
        }
      ]
    },
    {
      "cell_type": "markdown",
      "source": [
        "Now, all instances can be passed to Trainer and we are ready to start training!"
      ],
      "metadata": {
        "id": "lHk0tqdz1q5s"
      }
    },
    {
      "cell_type": "code",
      "source": [
        "from transformers import Trainer\n",
        "\n",
        "trainer = Trainer(\n",
        "    model=model,\n",
        "    data_collator=data_collator,\n",
        "    args=training_args,\n",
        "    compute_metrics=compute_metrics,\n",
        "    train_dataset=ds[\"train\"],\n",
        "    eval_dataset=ds[\"test\"],\n",
        "    tokenizer=processor.feature_extractor,\n",
        ")"
      ],
      "metadata": {
        "colab": {
          "base_uri": "https://localhost:8080/"
        },
        "id": "J0mly2EB1ciL",
        "outputId": "4e27e6b1-6ef0-4c8f-fefe-3fdd3284f0fd"
      },
      "execution_count": 36,
      "outputs": [
        {
          "output_type": "stream",
          "name": "stderr",
          "text": [
            "/usr/local/lib/python3.10/dist-packages/accelerate/accelerator.py:482: FutureWarning: `torch.cuda.amp.GradScaler(args...)` is deprecated. Please use `torch.amp.GradScaler('cuda', args...)` instead.\n",
            "  self.scaler = torch.cuda.amp.GradScaler(**kwargs)\n"
          ]
        }
      ]
    },
    {
      "cell_type": "markdown",
      "source": [
        "### Training"
      ],
      "metadata": {
        "id": "vVhYf6F02INU"
      }
    },
    {
      "cell_type": "markdown",
      "source": [],
      "metadata": {
        "id": "W89c-Rpcf5mn"
      }
    },
    {
      "cell_type": "code",
      "source": [
        "trainer.train()"
      ],
      "metadata": {
        "colab": {
          "base_uri": "https://localhost:8080/",
          "height": 290
        },
        "id": "I78NJIG51vQB",
        "outputId": "29dedadb-41a5-42bd-c2f0-ffc9c785b271"
      },
      "execution_count": null,
      "outputs": [
        {
          "output_type": "stream",
          "name": "stderr",
          "text": [
            "/usr/local/lib/python3.10/dist-packages/transformers/models/wav2vec2/processing_wav2vec2.py:157: UserWarning: `as_target_processor` is deprecated and will be removed in v5 of Transformers. You can process your labels by using the argument `text` of the regular `__call__` method (either in the same call as your audio inputs, or in a separate call.\n",
            "  warnings.warn(\n",
            "/usr/local/lib/python3.10/dist-packages/torch/_dynamo/eval_frame.py:600: UserWarning: torch.utils.checkpoint: the use_reentrant parameter should be passed explicitly. In version 2.4 we will raise an exception if use_reentrant is not passed. use_reentrant=False is recommended, but if you need to preserve the current default behavior, you can pass use_reentrant=True. Refer to docs for more details on the differences between the two variants.\n",
            "  return fn(*args, **kwargs)\n",
            "/usr/local/lib/python3.10/dist-packages/torch/utils/checkpoint.py:295: FutureWarning: `torch.cpu.amp.autocast(args...)` is deprecated. Please use `torch.amp.autocast('cpu', args...)` instead.\n",
            "  with torch.enable_grad(), device_autocast_ctx, torch.cpu.amp.autocast(**ctx.cpu_autocast_kwargs):  # type: ignore[attr-defined]\n"
          ]
        },
        {
          "output_type": "display_data",
          "data": {
            "text/plain": [
              "<IPython.core.display.HTML object>"
            ],
            "text/html": [
              "\n",
              "    <div>\n",
              "      \n",
              "      <progress value='995' max='1263' style='width:300px; height:20px; vertical-align: middle;'></progress>\n",
              "      [ 995/1263 22:07 < 05:58, 0.75 it/s, Epoch 2.36/3]\n",
              "    </div>\n",
              "    <table border=\"1\" class=\"dataframe\">\n",
              "  <thead>\n",
              " <tr style=\"text-align: left;\">\n",
              "      <th>Step</th>\n",
              "      <th>Training Loss</th>\n",
              "      <th>Validation Loss</th>\n",
              "      <th>Wer</th>\n",
              "    </tr>\n",
              "  </thead>\n",
              "  <tbody>\n",
              "    <tr>\n",
              "      <td>300</td>\n",
              "      <td>8.951000</td>\n",
              "      <td>3.066023</td>\n",
              "      <td>1.000000</td>\n",
              "    </tr>\n",
              "    <tr>\n",
              "      <td>600</td>\n",
              "      <td>3.051400</td>\n",
              "      <td>2.922762</td>\n",
              "      <td>1.000000</td>\n",
              "    </tr>\n",
              "    <tr>\n",
              "      <td>900</td>\n",
              "      <td>2.759800</td>\n",
              "      <td>0.796020</td>\n",
              "      <td>0.554412</td>\n",
              "    </tr>\n",
              "  </tbody>\n",
              "</table><p>"
            ]
          },
          "metadata": {}
        }
      ]
    },
    {
      "cell_type": "code",
      "source": [
        "trainer.push_to_hub()"
      ],
      "metadata": {
        "id": "ks5c6f1IOQ2y"
      },
      "execution_count": null,
      "outputs": []
    },
    {
      "cell_type": "markdown",
      "source": [
        "to add some comments"
      ],
      "metadata": {
        "id": "Tu1gABTg2XRT"
      }
    },
    {
      "cell_type": "markdown",
      "source": [
        "## Evaluation (Task 3c)"
      ],
      "metadata": {
        "id": "yg23eI1-2dN9"
      }
    },
    {
      "cell_type": "markdown",
      "source": [
        "Load the finetuned model"
      ],
      "metadata": {
        "id": "TfLpAj_94E6W"
      }
    },
    {
      "cell_type": "code",
      "source": [
        "from transformers import AutoModelForCTC, Wav2Vec2Processor\n",
        "\n",
        "repo_name = \"nightraider/wav2vec2-large-960h-cv\"\n",
        "processor = Wav2Vec2Processor.from_pretrained(repo_name)\n",
        "model = AutoModelForCTC.from_pretrained(repo_name).cuda()"
      ],
      "metadata": {
        "collapsed": true,
        "id": "2CCsxS5N2Ybw"
      },
      "execution_count": null,
      "outputs": []
    },
    {
      "cell_type": "markdown",
      "source": [
        "Load the evaluation data `cv-valid-test`"
      ],
      "metadata": {
        "id": "ifQZnrhJ4mry"
      }
    },
    {
      "cell_type": "code",
      "source": [
        "cv = load_dataset(\"nightraider/cv_test\", token=True)"
      ],
      "metadata": {
        "id": "cv7k-LxT4P6-"
      },
      "execution_count": null,
      "outputs": []
    },
    {
      "cell_type": "code",
      "source": [
        "cv = cv.remove_columns(['up_votes', 'down_votes', 'age', 'gender', 'accent', 'duration'])"
      ],
      "metadata": {
        "id": "OxE2kZH549tn"
      },
      "execution_count": null,
      "outputs": []
    },
    {
      "cell_type": "code",
      "source": [
        "cv = cv.cast_column(\"audio\", Audio(sampling_rate=16000))"
      ],
      "metadata": {
        "id": "L3wwu07S49wr"
      },
      "execution_count": null,
      "outputs": []
    },
    {
      "cell_type": "code",
      "source": [
        "cv"
      ],
      "metadata": {
        "id": "4s16032C49zY"
      },
      "execution_count": null,
      "outputs": []
    },
    {
      "cell_type": "code",
      "source": [
        "cv = cv.map(remove_special_characters)"
      ],
      "metadata": {
        "id": "nf6P7XMI492x"
      },
      "execution_count": null,
      "outputs": []
    },
    {
      "cell_type": "code",
      "source": [
        "def prepare_dataset(batch):\n",
        "    audio = batch[\"audio\"]\n",
        "\n",
        "    batch[\"input_values\"] = processor(audio[\"array\"], sampling_rate=audio[\"sampling_rate\"]).input_values[0]\n",
        "    batch[\"input_length\"] = len(batch[\"input_values\"])\n",
        "\n",
        "    with processor.as_target_processor():\n",
        "        batch[\"labels\"] = processor(batch[\"text\"]).input_ids\n",
        "    return batch"
      ],
      "metadata": {
        "id": "S2tNbaV75PP-"
      },
      "execution_count": null,
      "outputs": []
    },
    {
      "cell_type": "code",
      "source": [
        "cv = cv.map(prepare_dataset, remove_columns=cv.column_names[\"test\"], num_proc=8)"
      ],
      "metadata": {
        "id": "EqE3hrg-5PSk"
      },
      "execution_count": null,
      "outputs": []
    },
    {
      "cell_type": "code",
      "source": [
        "import torch\n",
        "\n",
        "def map_to_result(batch):\n",
        "  with torch.no_grad():\n",
        "    input_values = torch.tensor(batch[\"input_values\"], device=\"cuda\").unsqueeze(0)\n",
        "    logits = model(input_values).logits\n",
        "\n",
        "  pred_ids = torch.argmax(logits, dim=-1)\n",
        "  batch[\"pred_str\"] = processor.batch_decode(pred_ids)[0]\n",
        "  batch[\"text\"] = processor.decode(batch[\"labels\"], group_tokens=False)\n",
        "\n",
        "  return batch"
      ],
      "metadata": {
        "id": "p0uVIEY15ooG"
      },
      "execution_count": null,
      "outputs": []
    },
    {
      "cell_type": "code",
      "source": [
        "results = cv[\"test\"].map(map_to_result, remove_columns=cv[\"test\"].column_names)"
      ],
      "metadata": {
        "id": "sLTcOqli5_EQ"
      },
      "execution_count": null,
      "outputs": []
    },
    {
      "cell_type": "code",
      "source": [
        "print(\"Test WER: {:.3f}\".format(wer_metric.compute(predictions=results[\"pred_str\"], references=results[\"text\"])))"
      ],
      "metadata": {
        "id": "h1BCfQbm6FhZ"
      },
      "execution_count": null,
      "outputs": []
    },
    {
      "cell_type": "code",
      "source": [
        "show_random_elements(results)"
      ],
      "metadata": {
        "id": "xvgkFgGaSSJo"
      },
      "execution_count": null,
      "outputs": []
    },
    {
      "cell_type": "code",
      "source": [],
      "metadata": {
        "id": "hBr4sCXZSX8-"
      },
      "execution_count": null,
      "outputs": []
    }
  ]
}